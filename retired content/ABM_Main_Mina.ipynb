{
 "cells": [
  {
   "cell_type": "markdown",
   "metadata": {},
   "source": [
    "# Agent Based Model: Main Notebook"
   ]
  },
  {
   "cell_type": "code",
   "execution_count": 1,
   "metadata": {},
   "outputs": [],
   "source": [
    "import numpy.random as rnd\n",
    "import numpy as np\n",
    "import pandas as pd \n",
    "from matplotlib import pyplot as plt\n",
    "import random"
   ]
  },
  {
   "cell_type": "markdown",
   "metadata": {},
   "source": [
    "#### Workflow Notes \n",
    "* Draw Students with values within the four dimensions \n",
    "* Function that creates a study group (draw 4 students) -> Measure homogeniety \n",
    "* Task \n"
   ]
  },
  {
   "cell_type": "markdown",
   "metadata": {},
   "source": [
    "## Importing The Study Groups that are to be Tested"
   ]
  },
  {
   "cell_type": "code",
   "execution_count": 2,
   "metadata": {},
   "outputs": [],
   "source": [
    "homogenous = pd.read_csv(\"Conditions/Homogenous.csv\")\n",
    "fiftyfifty = pd.read_csv(\"Conditions/FiftyFifty.csv\")\n",
    "heterogenous = pd.read_csv(\"Conditions/Heterogenous.csv\")"
   ]
  },
  {
   "cell_type": "markdown",
   "metadata": {},
   "source": [
    "## Creating Study Groups"
   ]
  },
  {
   "cell_type": "markdown",
   "metadata": {},
   "source": [
    "#### Practical Functions"
   ]
  },
  {
   "cell_type": "code",
   "execution_count": 3,
   "metadata": {},
   "outputs": [],
   "source": [
    "def n_sampler(size):\n",
    "    '''\n",
    "    sample a number of random numbers from the beta distribution\n",
    "    '''\n",
    "    max_vals = []\n",
    "    min_vals = []\n",
    "\n",
    "    beta_dist = rnd.beta(2.5, 2.5, size)\n",
    "\n",
    "    for i in range(size):\n",
    "        if beta_dist[i] >= 0.5:\n",
    "            max_vals.append(beta_dist[i])\n",
    "        else:\n",
    "            min_vals.append(beta_dist[i])\n",
    "    \n",
    "    return max_vals, min_vals\n",
    "\n",
    "max_vals, min_vals = n_sampler(1000000)"
   ]
  },
  {
   "cell_type": "code",
   "execution_count": 4,
   "metadata": {},
   "outputs": [],
   "source": [
    "def data_collect(studygroup, student_list):\n",
    "    '''\n",
    "    function to collect data from the simulation\n",
    "    '''\n",
    "    Name_list = []\n",
    "    extraversion_list = []\n",
    "    sensing_list = []\n",
    "    thinking_list = []\n",
    "    judging_list = []\n",
    "    academic_list = []\n",
    "    \n",
    "    for student in studygroup:\n",
    "        Name_list.append(student.Name)\n",
    "        extraversion_list.append(student.ExScore)\n",
    "        sensing_list.append(student.SeScore) \n",
    "        thinking_list.append(student.ThScore)\n",
    "        judging_list.append(student.JuScore)\n",
    "        academic_list.append(student.Academic_Skill)\n",
    "\n",
    "    data = pd.DataFrame({'Name': Name_list, \n",
    "                        'type': student_list, \n",
    "                        'E/I': extraversion_list, \n",
    "                        'S/N': sensing_list,\n",
    "                        'T/F': thinking_list,\n",
    "                        'J/P': judging_list, \n",
    "                        'Academic': academic_list})\n",
    "    \n",
    "    return data\n",
    "    "
   ]
  },
  {
   "cell_type": "markdown",
   "metadata": {},
   "source": [
    "#### Create Study Group"
   ]
  },
  {
   "cell_type": "code",
   "execution_count": 5,
   "metadata": {},
   "outputs": [],
   "source": [
    "## Defining the Students ##\n",
    "class Student():\n",
    "    def __init__(self, Name, Ex, Se, Th, Ju):\n",
    "        self.Name  = Name\n",
    "\n",
    "        ## Personality Traits ## \n",
    "        self.Ex = Ex #Extraversion vs Introversion dimension\n",
    "        self.Se = Se #Sensing vs Intuition dimension\n",
    "        self.Th = Th #Thinking vs Feeling dimension\n",
    "        self.Ju = Ju #Judging vs Perceiving dimension\n",
    "\n",
    "        ## Personality Scores calculated with the personality() function##\n",
    "        self.ExScore = 0\n",
    "        self.SeScore = 0\n",
    "        self.ThScore = 0\n",
    "        self.JuScore = 0\n",
    "        \n",
    "        self.Scores = [] #list of all personality scores\n",
    "\n",
    "        ## Academic Skills ##\n",
    "        self.Academic_Skill = 0\n",
    "\n",
    "        ## Own Solution ##\n",
    "        self.Ind_Solution = []\n",
    "\n",
    "def personality(student):\n",
    "    # Extraversion vs. Introversion\n",
    "    if student.Ex == \"E\":\n",
    "        student.ExScore = max_vals[0]\n",
    "        del max_vals[0]\n",
    "    else:\n",
    "        student.ExScore = min_vals[0]\n",
    "        del min_vals[0]\n",
    "    \n",
    "    # Sensing vs. Intuition\n",
    "    if student.Se == \"S\":\n",
    "        student.SeScore = max_vals[0]\n",
    "        del max_vals[0]\n",
    "    else:\n",
    "        student.SeScore = min_vals[0]\n",
    "        del min_vals[0]\n",
    "    \n",
    "    # Thinking vs. Feeling\n",
    "    if student.Th == \"T\":\n",
    "        student.ThScore = max_vals[0]\n",
    "        del max_vals[0]\n",
    "    else:\n",
    "        student.ThScore = min_vals[0]\n",
    "        del min_vals[0]\n",
    "\n",
    "    # Judging vs. Perceiving\n",
    "    if student.Ju == \"J\":\n",
    "        student.JuScore = max_vals[0]\n",
    "        del max_vals[0]\n",
    "    else:\n",
    "        student.JuScore = min_vals[0]\n",
    "        del min_vals[0]\n",
    "    \n",
    "    student.Scores = [student.ExScore, student.SeScore, student.ThScore, student.JuScore]\n",
    "\n",
    "def skills(student):\n",
    "    student.Academic_Skill = (1-student.SeScore)*0.40 + student.ThScore*0.20 + (1-student.JuScore)*0.40"
   ]
  },
  {
   "cell_type": "code",
   "execution_count": 6,
   "metadata": {},
   "outputs": [],
   "source": [
    "def StudyGroup(student_list):\n",
    "    '''\n",
    "    Create a study group of students\n",
    "    '''\n",
    "    studygroup = []\n",
    "    names = [\"Alfa\", \"Bravo\", \"Charlie\", \"Delta\"]\n",
    "\n",
    "    for i in range(len(student_list)):\n",
    "        student = Student(names[i], student_list[i][0], student_list[i][1], student_list[i][2], student_list[i][3])\n",
    "        personality(student)\n",
    "        skills(student)\n",
    "        studygroup.append(student)\n",
    "    \n",
    "    return data_collect(studygroup, student_list), studygroup"
   ]
  },
  {
   "cell_type": "markdown",
   "metadata": {},
   "source": [
    "## Creating the ABM"
   ]
  },
  {
   "cell_type": "markdown",
   "metadata": {},
   "source": [
    "### Generating True Solution"
   ]
  },
  {
   "cell_type": "code",
   "execution_count": 7,
   "metadata": {},
   "outputs": [],
   "source": [
    "def true_solution_generator(n_part_exercises, range_elements):\n",
    "    '''\n",
    "    create a list of random numbers that will serve as the true solution that the agents need to find \n",
    "    '''\n",
    "    true_solution = []\n",
    "    for i in range(n_part_exercises):\n",
    "        true_solution.append(random.randint(range_elements[0], range_elements[1]))\n",
    "\n",
    "    return true_solution, range_elements"
   ]
  },
  {
   "cell_type": "markdown",
   "metadata": {},
   "source": [
    "### Generating Individual Solutions"
   ]
  },
  {
   "cell_type": "code",
   "execution_count": 8,
   "metadata": {},
   "outputs": [],
   "source": [
    "def individual_solutions_generator(studygroup, true_solution, range_elements):\n",
    "    '''\n",
    "    #function to calculate the individual solutions of the agents given a study group dataframe and a true solution\n",
    "    '''\n",
    "    \n",
    "    all_solutions = [student.Ind_Solution for student in studygroup[1]]\n",
    "\n",
    "    for student in studygroup[1]: # loop for each individual\n",
    "        Ind_Solution_lst = []\n",
    "        \n",
    "        for i in range(len(true_solution)): # loop for each part-exercise\n",
    "            coin_toss = np.random.binomial(1, (student.Academic_Skill*0.7) + 0.3, 1)[0] # biased-coin flip\n",
    "            if coin_toss == 1:\n",
    "                Ind_Solution_lst.append(true_solution[i])\n",
    "            else:\n",
    "                Ind_Solution_lst.append(random.randint(range_elements[0], range_elements[1]))\n",
    "        \n",
    "        student.Ind_Solution.append(Ind_Solution_lst)\n",
    "        \n",
    "    return all_solutions"
   ]
  },
  {
   "cell_type": "markdown",
   "metadata": {},
   "source": [
    "## Collaborative Problem Solving"
   ]
  },
  {
   "cell_type": "markdown",
   "metadata": {},
   "source": [
    "##### Workflow notes\n",
    "1. Who presents their solution e.g. agent A presents their solution to agent B, C, D -> THE PROPOSED SOLUTION\n",
    "    -> Based on Extraversion score (Highest extraversion score is the most likely to present their solution)\n",
    "2. According to an Agreeableness score (Social score for now) of the other agents (and maybe a Trustworthiness score of agent proposing), agents will update their solution\n",
    "3. The solutions of the agents will be checked, if all they agree, this is their final solution. If not, the process will be repeated for a max of X ticks. If the groups do not converge, an accuracy score will still be calculated. "
   ]
  },
  {
   "cell_type": "code",
   "execution_count": 9,
   "metadata": {},
   "outputs": [],
   "source": [
    "def collaborative_solution(studygroup, max_ticks):\n",
    "    max_ticks = max_ticks #turns in the simulation\n",
    "    n_ticks = 0\n",
    "    \n",
    "    # extracting all 4 students\n",
    "    Alfa = studygroup[1][0]\n",
    "    Bravo = studygroup[1][1]\n",
    "    Charlie = studygroup[1][2]\n",
    "    Delta = studygroup[1][3]\n",
    "\n",
    "    student_list = [Alfa, Bravo, Charlie, Delta]\n",
    "    all_solutions = [Alfa.Ind_Solution, Bravo.Ind_Solution, Charlie.Ind_Solution, Delta.Ind_Solution]\n",
    "    final_solutions = [item[-1] for item in all_solutions]\n",
    "\n",
    "    while (n_ticks != max_ticks):\n",
    "        # Starting a Round\n",
    "        presenter_name = random.choices([Alfa.Name, Bravo.Name, Charlie.Name, Delta.Name], weights = [Alfa.ExScore, Bravo.ExScore, Charlie.ExScore, Delta.ExScore], k = 1)[0] # selecting the presenter of the round based on weighted random draw from extraversion scores\n",
    "        \n",
    "        Proposed_Solution = eval(presenter_name).Ind_Solution[-1]\n",
    "        #print(n_ticks, presenter_name, Proposed_Solution)\n",
    "\n",
    "        for student in student_list:\n",
    "            if student == eval(presenter_name):\n",
    "                pass\n",
    "            for i in range(len(Proposed_Solution)): # looping through all part-exercises and evaluating against proposed solution.\n",
    "                coin_toss = np.random.binomial(1, ((1-student.ThScore)*0.25 + eval(presenter_name).Academic_Skill*0.25), 1)[0] #high social skill has a greater chance of accepting the proposal and if the proposer has higher academic skill.\n",
    "                current_solution = student.Ind_Solution[-1].copy()\n",
    "                if coin_toss == 1:\n",
    "                    current_solution[i] = Proposed_Solution[i]\n",
    "                    student.Ind_Solution.append(current_solution)\n",
    "                else:\n",
    "                    student.Ind_Solution.append(current_solution)\n",
    "\n",
    "        n_ticks += 1 #adding a tick to the simulation\n",
    "\n",
    "\n",
    "        if all(x==final_solutions[0] for x in final_solutions): # initializes a break of while-loop if consensus has been reached (i.e. all solutions are the same)\n",
    "            break\n",
    "\n",
    "\n",
    "    #print(\"Number of iterations: \" + str(n_ticks))\n",
    "    return final_solutions, n_ticks # returns their collective solution\n"
   ]
  },
  {
   "cell_type": "code",
   "execution_count": 10,
   "metadata": {},
   "outputs": [],
   "source": [
    "def solution_evaluator(proposed_solution, true_solution):\n",
    "    correct_part_exercise = 0\n",
    "    wrong_part_exercise = 0\n",
    "\n",
    "    for i in range(len(true_solution)):\n",
    "        if proposed_solution[i] == true_solution[i]:\n",
    "            correct_part_exercise += 1\n",
    "        else:\n",
    "            wrong_part_exercise += 1\n",
    "\n",
    "    return correct_part_exercise / (correct_part_exercise + wrong_part_exercise)\n"
   ]
  },
  {
   "cell_type": "code",
   "execution_count": 11,
   "metadata": {},
   "outputs": [],
   "source": [
    "def adaptation_degree(individual_solution, group_solution):\n",
    "    '''\n",
    "    #function to calculate the adaptation degree of the agents\n",
    "    '''\n",
    "    adapted = 0\n",
    "    not_adapted = 0\n",
    "\n",
    "    for i in range(len(individual_solution)):\n",
    "        if individual_solution[i] == group_solution[i]:\n",
    "            not_adapted += 1\n",
    "        else:\n",
    "            adapted += 1\n",
    "    \n",
    "    return adapted / (adapted + not_adapted)"
   ]
  },
  {
   "cell_type": "markdown",
   "metadata": {},
   "source": [
    "# TEST RUN"
   ]
  },
  {
   "cell_type": "code",
   "execution_count": 12,
   "metadata": {},
   "outputs": [],
   "source": [
    "# Selecting Personality Types\n",
    "student_list_test = [\"INTP\", \"INTP\", \"INTP\", \"INTP\"]"
   ]
  },
  {
   "cell_type": "code",
   "execution_count": 13,
   "metadata": {},
   "outputs": [],
   "source": [
    "# Creating the Study Group\n",
    "studygroup1 = StudyGroup(student_list_test)"
   ]
  },
  {
   "cell_type": "code",
   "execution_count": 14,
   "metadata": {},
   "outputs": [
    {
     "name": "stdout",
     "output_type": "stream",
     "text": [
      "      Name  type       E/I       S/N       T/F       J/P  Academic\n",
      "0     Alfa  INTP  0.455008  0.358363  0.735426  0.056219  0.781253\n",
      "1    Bravo  INTP  0.390421  0.410135  0.780523  0.152897  0.730892\n",
      "2  Charlie  INTP  0.473381  0.492519  0.719021  0.212679  0.661725\n",
      "3    Delta  INTP  0.131952  0.205717  0.703011  0.382990  0.705119\n"
     ]
    }
   ],
   "source": [
    "# Seeing their Generated Personality Scores\n",
    "print(studygroup1[0])"
   ]
  },
  {
   "cell_type": "code",
   "execution_count": 15,
   "metadata": {},
   "outputs": [],
   "source": [
    "# Generating a True Solution\n",
    "true_solution_test = true_solution_generator(10, [1, 9])"
   ]
  },
  {
   "cell_type": "code",
   "execution_count": 16,
   "metadata": {},
   "outputs": [
    {
     "data": {
      "text/plain": [
       "[7, 2, 3, 2, 9, 5, 4, 1, 4, 4]"
      ]
     },
     "execution_count": 16,
     "metadata": {},
     "output_type": "execute_result"
    }
   ],
   "source": [
    "# Displaying the True Solution\n",
    "true_solution_test[0]"
   ]
  },
  {
   "cell_type": "code",
   "execution_count": 17,
   "metadata": {},
   "outputs": [
    {
     "data": {
      "text/plain": [
       "[[[7, 9, 8, 5, 9, 5, 4, 1, 4, 4]],\n",
       " [[7, 2, 3, 2, 9, 5, 4, 6, 4, 4]],\n",
       " [[7, 2, 3, 2, 9, 9, 4, 5, 4, 2]],\n",
       " [[7, 5, 3, 2, 9, 5, 4, 1, 4, 4]]]"
      ]
     },
     "execution_count": 17,
     "metadata": {},
     "output_type": "execute_result"
    }
   ],
   "source": [
    "# Generating Individual Solutions\n",
    "all_solutions = individual_solutions_generator(studygroup1, true_solution_test[0], true_solution_test[1])\n",
    "all_solutions"
   ]
  },
  {
   "cell_type": "code",
   "execution_count": 18,
   "metadata": {},
   "outputs": [
    {
     "name": "stdout",
     "output_type": "stream",
     "text": [
      "Alfa [7, 9, 8, 5, 9, 5, 4, 1, 4, 4]\n",
      "Bravo [7, 2, 3, 2, 9, 5, 4, 6, 4, 4]\n",
      "Charlie [7, 2, 3, 2, 9, 9, 4, 5, 4, 2]\n",
      "Delta [7, 5, 3, 2, 9, 5, 4, 1, 4, 4]\n"
     ]
    }
   ],
   "source": [
    "# Printing Individual Solutions\n",
    "for student in studygroup1[1]:\n",
    "    print(student.Name, student.Ind_Solution[0])"
   ]
  },
  {
   "cell_type": "code",
   "execution_count": 19,
   "metadata": {},
   "outputs": [],
   "source": [
    "# Printing Indivudal Accuracies\n",
    "#for student in studygroup1[1]:\n",
    "    #print(student.Name, solution_evaluator(student.Ind_Solution, true_solution_test[0]))"
   ]
  },
  {
   "cell_type": "code",
   "execution_count": 23,
   "metadata": {},
   "outputs": [],
   "source": [
    "# Creating Group Solution\n",
    "group_solution = collaborative_solution(studygroup1, 100)"
   ]
  },
  {
   "cell_type": "code",
   "execution_count": 24,
   "metadata": {},
   "outputs": [
    {
     "name": "stdout",
     "output_type": "stream",
     "text": [
      "([[7, 2, 3, 2, 9, 5, 4, 1, 4, 4], [7, 2, 3, 2, 9, 5, 4, 1, 4, 4], [7, 2, 3, 2, 9, 5, 4, 1, 4, 4], [7, 2, 3, 2, 9, 5, 4, 1, 4, 4]], 1)\n"
     ]
    }
   ],
   "source": [
    "# Printing Group Solution\n",
    "print(group_solution)"
   ]
  },
  {
   "cell_type": "code",
   "execution_count": 22,
   "metadata": {},
   "outputs": [
    {
     "ename": "IndexError",
     "evalue": "list index out of range",
     "output_type": "error",
     "traceback": [
      "\u001b[0;31m---------------------------------------------------------------------------\u001b[0m",
      "\u001b[0;31mIndexError\u001b[0m                                Traceback (most recent call last)",
      "\u001b[0;32m/var/folders/jv/zpqcvkr56ns3hmb_lvfdl2380000gn/T/ipykernel_5863/1420728704.py\u001b[0m in \u001b[0;36m<module>\u001b[0;34m\u001b[0m\n\u001b[0;32m----> 1\u001b[0;31m \u001b[0madaptation_degree\u001b[0m\u001b[0;34m(\u001b[0m\u001b[0mall_solutions\u001b[0m\u001b[0;34m[\u001b[0m\u001b[0;36m0\u001b[0m\u001b[0;34m]\u001b[0m\u001b[0;34m,\u001b[0m \u001b[0mgroup_solution\u001b[0m\u001b[0;34m[\u001b[0m\u001b[0;36m0\u001b[0m\u001b[0;34m]\u001b[0m\u001b[0;34m)\u001b[0m\u001b[0;34m\u001b[0m\u001b[0;34m\u001b[0m\u001b[0m\n\u001b[0m",
      "\u001b[0;32m/var/folders/jv/zpqcvkr56ns3hmb_lvfdl2380000gn/T/ipykernel_5863/1177122323.py\u001b[0m in \u001b[0;36madaptation_degree\u001b[0;34m(individual_solution, group_solution)\u001b[0m\n\u001b[1;32m      7\u001b[0m \u001b[0;34m\u001b[0m\u001b[0m\n\u001b[1;32m      8\u001b[0m     \u001b[0;32mfor\u001b[0m \u001b[0mi\u001b[0m \u001b[0;32min\u001b[0m \u001b[0mrange\u001b[0m\u001b[0;34m(\u001b[0m\u001b[0mlen\u001b[0m\u001b[0;34m(\u001b[0m\u001b[0mindividual_solution\u001b[0m\u001b[0;34m)\u001b[0m\u001b[0;34m)\u001b[0m\u001b[0;34m:\u001b[0m\u001b[0;34m\u001b[0m\u001b[0;34m\u001b[0m\u001b[0m\n\u001b[0;32m----> 9\u001b[0;31m         \u001b[0;32mif\u001b[0m \u001b[0mindividual_solution\u001b[0m\u001b[0;34m[\u001b[0m\u001b[0mi\u001b[0m\u001b[0;34m]\u001b[0m \u001b[0;34m==\u001b[0m \u001b[0mgroup_solution\u001b[0m\u001b[0;34m[\u001b[0m\u001b[0mi\u001b[0m\u001b[0;34m]\u001b[0m\u001b[0;34m:\u001b[0m\u001b[0;34m\u001b[0m\u001b[0;34m\u001b[0m\u001b[0m\n\u001b[0m\u001b[1;32m     10\u001b[0m             \u001b[0mnot_adapted\u001b[0m \u001b[0;34m+=\u001b[0m \u001b[0;36m1\u001b[0m\u001b[0;34m\u001b[0m\u001b[0;34m\u001b[0m\u001b[0m\n\u001b[1;32m     11\u001b[0m         \u001b[0;32melse\u001b[0m\u001b[0;34m:\u001b[0m\u001b[0;34m\u001b[0m\u001b[0;34m\u001b[0m\u001b[0m\n",
      "\u001b[0;31mIndexError\u001b[0m: list index out of range"
     ]
    }
   ],
   "source": [
    "adaptation_degree(all_solutions[0], group_solution[0])"
   ]
  },
  {
   "cell_type": "markdown",
   "metadata": {},
   "source": [
    "## ABM Model"
   ]
  },
  {
   "cell_type": "code",
   "execution_count": null,
   "metadata": {},
   "outputs": [],
   "source": [
    "def exercise_run(student_list: list, max_ticks: int, n_part_exercises: int, range_solution: list, n_simulations: int):\n",
    "    '''\n",
    "    function to run one simulation of a study group completing the exercise (from individual to group solution)\n",
    "    '''\n",
    "\n",
    "    ## defining the lists that will accumulate the average accuracies and amount of ticks ## \n",
    "    group_accuracy_list = []\n",
    "    n_tick_list = []\n",
    "\n",
    "    alfa_accuracy_list = []\n",
    "    beta_accuracy_list = []\n",
    "    charlie_accuracy_list = []\n",
    "    delta_accuracy_list = []\n",
    "\n",
    "    alfa_adaptation_list = []\n",
    "    beta_adaptation_list = []\n",
    "    charlie_adaptation_list = []\n",
    "    delta_adaptation_list = []\n",
    "\n",
    "\n",
    "    for i in range(n_simulations):\n",
    "        ## giving the study group personality values and skills ##\n",
    "        studygroup = StudyGroup(student_list)\n",
    "\n",
    "        ## generating the true solution ## \n",
    "        true_solution = true_solution_generator(n_part_exercises, range_solution)\n",
    "\n",
    "        ## generating individual solutions ##\n",
    "        all_solutions = individual_solutions_generator(studygroup, true_solution[0], true_solution[1])\n",
    "\n",
    "        ## evaluating own solutions ##        \n",
    "        alfa_accuracy = solution_evaluator(all_solutions[0], true_solution[0])\n",
    "        beta_accuracy = solution_evaluator(all_solutions[1], true_solution[0])\n",
    "        charlie_accuracy = solution_evaluator(all_solutions[2], true_solution[0])\n",
    "        delta_accuracy = solution_evaluator(all_solutions[3], true_solution[0])\n",
    "        \n",
    "        alfa_accuracy_list.append(alfa_accuracy)\n",
    "        beta_accuracy_list.append(beta_accuracy)\n",
    "        charlie_accuracy_list.append(charlie_accuracy)\n",
    "        delta_accuracy_list.append(delta_accuracy)\n",
    "\n",
    "        ## generating group solution ##\n",
    "        group_solution = collaborative_solution(studygroup, max_ticks)\n",
    "        n_tick_list.append(group_solution[1]) # appending the number of ticks\n",
    "\n",
    "        ## calculating degree of adaptation ## \n",
    "        alfa_adaption = adaptation_degree(all_solutions[0], group_solution[0])\n",
    "        beta_adaption = adaptation_degree(all_solutions[1], group_solution[0])\n",
    "        charlie_adaption = adaptation_degree(all_solutions[2], group_solution[0])\n",
    "        delta_adaption = adaptation_degree(all_solutions[3], group_solution[0])\n",
    "\n",
    "        alfa_adaptation_list.append(alfa_adaption)\n",
    "        beta_adaptation_list.append(beta_adaption)\n",
    "        charlie_adaptation_list.append(charlie_adaption)\n",
    "        delta_adaptation_list.append(delta_adaption)\n",
    "\n",
    "        ## calculating the accuracy of the group solution ##\n",
    "        group_accuracy = solution_evaluator(group_solution[0], true_solution[0])\n",
    "        group_accuracy_list.append(group_accuracy) #appending the group accuracies\n",
    "\n",
    "        \n",
    "\n",
    "    ## calculating the average accuracy and ticks ##\n",
    "    # group level #\n",
    "    avg_group_accuracy = np.mean(group_accuracy_list)\n",
    "    std_group_accuracy = np.std(group_accuracy_list)\n",
    "    \n",
    "    avg_group_n_tick = np.mean(n_tick_list)\n",
    "    std_group_n_tick = np.std(n_tick_list)\n",
    "    \n",
    "    # individual level #\n",
    "    avg_alfa_accuracy = np.mean(alfa_accuracy_list)\n",
    "    std_alfa_accuracy = np.std(alfa_accuracy_list)\n",
    "\n",
    "    avg_beta_accuracy = np.mean(beta_accuracy_list)\n",
    "    std_beta_accuracy = np.std(beta_accuracy_list)\n",
    "\n",
    "    avg_charlie_accuracy = np.mean(charlie_accuracy_list)\n",
    "    std_charlie_accuracy = np.std(charlie_accuracy_list)\n",
    "\n",
    "    avg_delta_accuracy = np.mean(delta_accuracy_list)\n",
    "    std_delta_accuracy = np.std(delta_accuracy_list)\n",
    "\n",
    "    \n",
    "    avg_alfa_adaptation = np.mean(alfa_adaptation_list)\n",
    "    avg_beta_adaptation = np.mean(beta_adaptation_list)\n",
    "    avg_charlie_adaptation = np.mean(charlie_adaptation_list)\n",
    "    avg_delta_adaptation = np.mean(delta_adaptation_list)\n",
    "    \n",
    "    ## dictionaries ## \n",
    "    exercise_run_dict_group = {\n",
    "    'alfa': student_list[0], \n",
    "    'beta':student_list[1], \n",
    "    'charlie':student_list[2], \n",
    "    'delta':student_list[3], \n",
    "    'avg_accuracy': avg_group_accuracy, \n",
    "    'std_accuracy': std_group_accuracy, \n",
    "    'avg_n_tick': avg_group_n_tick, \n",
    "    'std_n_tick': std_group_n_tick}\n",
    "\n",
    "\n",
    "    exercise_run_list_ind = list(zip(student_list, \n",
    "                                    [student_list, student_list, student_list, student_list], \n",
    "                                    [avg_alfa_accuracy, avg_beta_accuracy, avg_charlie_accuracy, avg_delta_accuracy],\n",
    "                                    [std_alfa_accuracy, std_beta_accuracy, std_charlie_accuracy, std_delta_accuracy], \n",
    "                                    [avg_alfa_adaptation, avg_beta_adaptation, avg_charlie_adaptation, avg_delta_adaptation]))\n",
    "    \n",
    "    return exercise_run_dict_group, exercise_run_list_ind"
   ]
  },
  {
   "cell_type": "code",
   "execution_count": null,
   "metadata": {},
   "outputs": [],
   "source": [
    "def abm_model(condition, max_ticks: int, n_part_exercises: int, range_solution: list, n_simulations: int):\n",
    "    condition_group_df = pd.DataFrame(columns = ['alfa', 'beta', 'charlie', 'delta', 'avg_accuracy', 'std_accuracy', 'avg_n_tick', 'std_n_tick'])\n",
    "    condition_ind_df = pd.DataFrame(columns=['type', 'studygroup', 'avg_accuracy', 'std_accuracy', 'avg_adaptation']) #'avg_accuracy', 'contribution', 'n_presentations'])\n",
    "        \n",
    "    for i in (range(len(condition.index))):\n",
    "        student_list = list(condition.iloc[i][1:5])\n",
    "        \n",
    "        ## Getting data frames for the group and individual levels ##\n",
    "        exercise_run_dict_group, exercise_run_list_ind = exercise_run(student_list, max_ticks, n_part_exercises, range_solution, n_simulations) #creating dictionary\n",
    "        \n",
    "        exercise_run_group_df = pd.DataFrame(exercise_run_dict_group, index = [i]) #creating dataframe\n",
    "        condition_group_df = pd.concat([condition_group_df, exercise_run_group_df], ignore_index = True) #concatenating dataframes\n",
    "        \n",
    "        exercise_run_ind_df = pd.DataFrame(exercise_run_list_ind, columns=['type', 'studygroup', 'avg_accuracy', 'std_accuracy', 'avg_adaptation']) #'avg_accuracy', 'contribution', 'n_presentations'])\n",
    "        condition_ind_df = pd.concat([condition_ind_df, exercise_run_ind_df], ignore_index = True)\n",
    "\n",
    "    return condition_ind_df, condition_group_df\n"
   ]
  },
  {
   "cell_type": "code",
   "execution_count": null,
   "metadata": {},
   "outputs": [
    {
     "data": {
      "text/plain": [
       "(    type                studygroup avg_accuracy std_accuracy avg_adaptation\n",
       " 0   ESFJ  [ESFJ, ESFJ, ESFJ, ESFJ]         0.57         0.09            0.0\n",
       " 1   ESFJ  [ESFJ, ESFJ, ESFJ, ESFJ]         0.55     0.174642           0.67\n",
       " 2   ESFJ  [ESFJ, ESFJ, ESFJ, ESFJ]         0.68       0.1249           0.67\n",
       " 3   ESFJ  [ESFJ, ESFJ, ESFJ, ESFJ]         0.66     0.162481           0.61\n",
       " 4   ESTJ  [ESTJ, ESTJ, ESTJ, ESTJ]         0.66     0.168523            0.0\n",
       " ..   ...                       ...          ...          ...            ...\n",
       " 59  ISFP  [ISFP, ISFP, ISFP, ISFP]         0.64     0.142829            0.6\n",
       " 60  ISTP  [ISTP, ISTP, ISTP, ISTP]         0.71         0.13            0.0\n",
       " 61  ISTP  [ISTP, ISTP, ISTP, ISTP]         0.74     0.168523           0.47\n",
       " 62  ISTP  [ISTP, ISTP, ISTP, ISTP]         0.76     0.111355           0.48\n",
       " 63  ISTP  [ISTP, ISTP, ISTP, ISTP]         0.78       0.1249           0.43\n",
       " \n",
       " [64 rows x 5 columns],\n",
       "     alfa  beta charlie delta avg_accuracy std_accuracy avg_n_tick std_n_tick\n",
       " 0   ESFJ  ESFJ    ESFJ  ESFJ         0.57         0.09       4.67   2.522122\n",
       " 1   ESTJ  ESTJ    ESTJ  ESTJ         0.66     0.168523       4.56   2.491265\n",
       " 2   ISFJ  ISFJ    ISFJ  ISFJ         0.47     0.126886       5.44   2.542912\n",
       " 3   ISTJ  ISTJ    ISTJ  ISTJ         0.62       0.1249       5.32   2.314649\n",
       " 4   ENFP  ENFP    ENFP  ENFP         0.76     0.162481       5.55   2.299456\n",
       " 5   ENFJ  ENFJ    ENFJ  ENFJ          0.7     0.161245       5.48   2.673874\n",
       " 6   INFP  INFP    INFP  INFP         0.72     0.213542       4.83   2.565365\n",
       " 7   INFJ  INFJ    INFJ  INFJ         0.69      0.09434       5.31   2.708117\n",
       " 8   ENTP  ENTP    ENTP  ENTP         0.76     0.135647       5.24   2.341453\n",
       " 9   ENTJ  ENTJ    ENTJ  ENTJ         0.63     0.184662       4.52   2.601845\n",
       " 10  INTP  INTP    INTP  INTP         0.82         0.14        4.9   2.688866\n",
       " 11  INTJ  INTJ    INTJ  INTJ         0.75     0.174642       5.08   2.544327\n",
       " 12  ESFP  ESFP    ESFP  ESFP         0.62     0.153623        5.0    2.35372\n",
       " 13  ESTP  ESTP    ESTP  ESTP         0.63         0.19        5.1   2.598076\n",
       " 14  ISFP  ISFP    ISFP  ISFP         0.68     0.107703       5.13   2.415181\n",
       " 15  ISTP  ISTP    ISTP  ISTP         0.71         0.13       5.11   2.727251)"
      ]
     },
     "execution_count": 131,
     "metadata": {},
     "output_type": "execute_result"
    }
   ],
   "source": [
    "abm_model(condition = homogenous, \n",
    "        max_ticks = 200, \n",
    "        n_part_exercises = 10, \n",
    "        range_solution = [1, 9], \n",
    "        n_simulations = 10\n",
    "        )"
   ]
  },
  {
   "cell_type": "code",
   "execution_count": null,
   "metadata": {},
   "outputs": [
    {
     "data": {
      "text/plain": [
       "(    type                studygroup avg_accuracy std_accuracy avg_adaptation\n",
       " 0   ESFJ  [ESFJ, ESFJ, INTP, INTP]         0.53     0.179165            0.0\n",
       " 1   ESFJ  [ESFJ, ESFJ, INTP, INTP]         0.54     0.091652           0.64\n",
       " 2   INTP  [ESFJ, ESFJ, INTP, INTP]         0.82     0.132665           0.54\n",
       " 3   INTP  [ESFJ, ESFJ, INTP, INTP]         0.78     0.166132           0.57\n",
       " 4   ENTP  [ENTP, ENTP, ISFJ, ISFJ]         0.91     0.083066            0.0\n",
       " ..   ...                       ...          ...          ...            ...\n",
       " 59  ISFJ  [ESTP, ESTP, ISFJ, ISFJ]         0.63     0.134536           0.51\n",
       " 60  ENTJ  [ENTJ, ENTJ, ISTJ, ISTJ]         0.72         0.14            0.0\n",
       " 61  ENTJ  [ENTJ, ENTJ, ISTJ, ISTJ]         0.76     0.162481           0.47\n",
       " 62  ISTJ  [ENTJ, ENTJ, ISTJ, ISTJ]         0.56     0.091652           0.58\n",
       " 63  ISTJ  [ENTJ, ENTJ, ISTJ, ISTJ]         0.48     0.116619           0.61\n",
       " \n",
       " [64 rows x 5 columns],\n",
       "     alfa  beta charlie delta avg_accuracy std_accuracy avg_n_tick std_n_tick\n",
       " 0   ESFJ  ESFJ    INTP  INTP         0.53     0.179165       4.79   2.699241\n",
       " 1   ENTP  ENTP    ISFJ  ISFJ         0.91     0.083066       4.71    2.77595\n",
       " 2   ESFP  ESFP    INTJ  INTJ         0.61     0.137477       5.25   2.475379\n",
       " 3   ENFJ  ENFJ    ISTP  ISTP         0.65      0.19105       5.11   2.580291\n",
       " 4   ESTJ  ESTJ    INFP  INFP         0.56     0.156205       5.08   2.448183\n",
       " 5   ENFP  ENFP    ISTJ  ISTJ         0.79         0.13        5.0   2.638181\n",
       " 6   ESTP  ESTP    INFJ  INFJ          0.7     0.204939       5.67   2.482156\n",
       " 7   ENTJ  ENTJ    ISFP  ISFP          0.7     0.141421       4.92   2.693251\n",
       " 8   ESFJ  ESFJ    ISTP  ISTP         0.55     0.201246       4.78   2.659248\n",
       " 9   ENTP  ENTP    INFJ  INFJ         0.86     0.111355       4.92   2.762897\n",
       " 10  ESFP  ESFP    INTP  INTP          0.7     0.134164        5.0   2.366432\n",
       " 11  ENFJ  ENFJ    INFP  INFP         0.63     0.167631       4.69   2.598827\n",
       " 12  ESTJ  ESTJ    ISFP  ISFP         0.68     0.172047        5.0   2.412468\n",
       " 13  ENFP  ENFP    INTJ  INTJ         0.77     0.167631       4.94    2.50128\n",
       " 14  ESTP  ESTP    ISFJ  ISFJ         0.71     0.151327       4.98    2.58062\n",
       " 15  ENTJ  ENTJ    ISTJ  ISTJ         0.72         0.14       4.69   2.480706)"
      ]
     },
     "execution_count": 132,
     "metadata": {},
     "output_type": "execute_result"
    }
   ],
   "source": [
    "abm_model(condition = fiftyfifty, \n",
    "        max_ticks = 200, \n",
    "        n_part_exercises = 10, \n",
    "        range_solution = [1, 9], \n",
    "        n_simulations = 10\n",
    "        )"
   ]
  },
  {
   "cell_type": "code",
   "execution_count": null,
   "metadata": {},
   "outputs": [
    {
     "data": {
      "text/plain": [
       "(    type                studygroup avg_accuracy std_accuracy avg_adaptation\n",
       " 0   ESFJ  [ESFJ, ESTJ, ENFP, INFJ]         0.63     0.100499            0.0\n",
       " 1   ESTJ  [ESFJ, ESTJ, ENFP, INFJ]         0.53     0.155242           0.62\n",
       " 2   ENFP  [ESFJ, ESTJ, ENFP, INFJ]         0.81         0.13           0.47\n",
       " 3   INFJ  [ESFJ, ESTJ, ENFP, INFJ]         0.72     0.166132           0.55\n",
       " 4   ISFJ  [ISFJ, ESTP, ISFP, ENFJ]         0.55     0.174642            0.0\n",
       " ..   ...                       ...          ...          ...            ...\n",
       " 59  INFJ  [ESTJ, ISTJ, ENFJ, INFJ]         0.65     0.092195           0.55\n",
       " 60  ENTJ  [ENTJ, INTJ, ESTP, ISTP]         0.76         0.12            0.0\n",
       " 61  INTJ  [ENTJ, INTJ, ESTP, ISTP]         0.67     0.126886           0.49\n",
       " 62  ESTP  [ENTJ, INTJ, ESTP, ISTP]          0.6     0.141421           0.49\n",
       " 63  ISTP  [ENTJ, INTJ, ESTP, ISTP]          0.7     0.141421           0.48\n",
       " \n",
       " [64 rows x 5 columns],\n",
       "     alfa  beta charlie delta avg_accuracy std_accuracy avg_n_tick std_n_tick\n",
       " 0   ESFJ  ESTJ    ENFP  INFJ         0.63     0.100499       5.28   2.421074\n",
       " 1   ISFJ  ESTP    ISFP  ENFJ         0.55     0.174642       5.18   2.543148\n",
       " 2   ISTJ  ISTP    ESFP  ENTJ          0.6     0.167332       5.33   2.630798\n",
       " 3   INTP  INTJ    INFP  ENTP         0.79     0.083066       5.11   2.365988\n",
       " 4   ESFJ  ISFJ    ISTJ  INTP         0.64     0.128062       5.18   2.612968\n",
       " 5   ESTJ  ESTP    ISTP  INTJ         0.57     0.161555       5.07   2.600981\n",
       " 6   ENFP  ISFP    ESFP  INFP          0.7     0.148324       5.16   2.556247\n",
       " 7   INFJ  ENFJ    ENTJ  ISFJ         0.64     0.091652       5.08   2.552176\n",
       " 8   ESFJ  ISTP    ESTP  ENTP         0.55         0.15        5.3   2.439262\n",
       " 9   ESTJ  ISFP    ISTJ  ESFP         0.63     0.134536       4.49   2.613408\n",
       " 10  ENFP  INTJ    INFP  ENTJ         0.69     0.104403       5.15    2.41816\n",
       " 11  ENFJ  INTP    INFJ  ENTP         0.69     0.144568       5.12   2.818794\n",
       " 12  ESFJ  ISFJ    ENFP  INFP         0.59     0.137477       4.85   2.372235\n",
       " 13  ENTP  INTP    ESFP  ISFP         0.78     0.116619       4.85   2.515452\n",
       " 14  ESTJ  ISTJ    ENFJ  INFJ         0.66     0.111355       5.43   2.333474\n",
       " 15  ENTJ  INTJ    ESTP  ISTP         0.76         0.12       5.31   2.343907)"
      ]
     },
     "execution_count": 133,
     "metadata": {},
     "output_type": "execute_result"
    }
   ],
   "source": [
    "abm_model(condition = heterogenous, \n",
    "        max_ticks = 200, \n",
    "        n_part_exercises = 10, \n",
    "        range_solution = [1, 9], \n",
    "        n_simulations = 10\n",
    "        )"
   ]
  }
 ],
 "metadata": {
  "interpreter": {
   "hash": "c30f2af5f468e7f5b45bcc30fca5f4886c90d54777aed916ed5f6294dfb24bf2"
  },
  "kernelspec": {
   "display_name": "Python 3.8.10 ('base')",
   "language": "python",
   "name": "python3"
  },
  "language_info": {
   "codemirror_mode": {
    "name": "ipython",
    "version": 3
   },
   "file_extension": ".py",
   "mimetype": "text/x-python",
   "name": "python",
   "nbconvert_exporter": "python",
   "pygments_lexer": "ipython3",
   "version": "3.8.10"
  },
  "orig_nbformat": 4
 },
 "nbformat": 4,
 "nbformat_minor": 2
}
