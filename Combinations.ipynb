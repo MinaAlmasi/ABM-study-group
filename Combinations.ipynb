{
 "cells": [
  {
   "cell_type": "code",
   "execution_count": null,
   "metadata": {},
   "outputs": [],
   "source": [
    "from itertools import permutations"
   ]
  },
  {
   "cell_type": "markdown",
   "metadata": {},
   "source": [
    "# Document to create all combinations of personality types "
   ]
  },
  {
   "cell_type": "code",
   "execution_count": null,
   "metadata": {},
   "outputs": [],
   "source": [
    "# Personality Types # \n",
    "types = [ESFJ, ESTJ, ISFJ, ISTJ, ENFP, ENFJ, INFP, INFJ, ENTP, ENTJ, INTP, INTJ, ESFP, ESTP, ISFP, ISTP]"
   ]
  }
 ],
 "metadata": {
  "language_info": {
   "name": "python"
  },
  "orig_nbformat": 4
 },
 "nbformat": 4,
 "nbformat_minor": 2
}
