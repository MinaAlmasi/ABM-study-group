{
 "cells": [
  {
   "cell_type": "markdown",
   "metadata": {},
   "source": [
    "# Agent Based Model: Main Notebook"
   ]
  },
  {
   "cell_type": "code",
   "execution_count": 5217,
   "metadata": {},
   "outputs": [],
   "source": [
    "import numpy.random as rnd\n",
    "import numpy as np\n",
    "import pandas as pd \n",
    "from matplotlib import pyplot as plt\n",
    "import random"
   ]
  },
  {
   "cell_type": "markdown",
   "metadata": {},
   "source": [
    "#### Workflow Notes \n",
    "* Draw Students with values within the four dimensions \n",
    "* Function that creates a study group (draw 4 students) -> Measure homogeniety \n",
    "* Task \n"
   ]
  },
  {
   "cell_type": "markdown",
   "metadata": {},
   "source": [
    "## Importing The Study Groups that are to be Tested"
   ]
  },
  {
   "cell_type": "code",
   "execution_count": 5218,
   "metadata": {},
   "outputs": [
    {
     "name": "stdout",
     "output_type": "stream",
     "text": [
      "['ESFJ', 'ESFJ', 'ESFJ', 'ESFJ']\n",
      "['ESTJ', 'ESTJ', 'ESTJ', 'ESTJ']\n",
      "['ISFJ', 'ISFJ', 'ISFJ', 'ISFJ']\n",
      "['ISTJ', 'ISTJ', 'ISTJ', 'ISTJ']\n",
      "['ENFP', 'ENFP', 'ENFP', 'ENFP']\n",
      "['ENFJ', 'ENFJ', 'ENFJ', 'ENFJ']\n",
      "['INFP', 'INFP', 'INFP', 'INFP']\n",
      "['INFJ', 'INFJ', 'INFJ', 'INFJ']\n",
      "['ENTP', 'ENTP', 'ENTP', 'ENTP']\n",
      "['ENTJ', 'ENTJ', 'ENTJ', 'ENTJ']\n",
      "['INTP', 'INTP', 'INTP', 'INTP']\n",
      "['INTJ', 'INTJ', 'INTJ', 'INTJ']\n",
      "['ESFP', 'ESFP', 'ESFP', 'ESFP']\n",
      "['ESTP', 'ESTP', 'ESTP', 'ESTP']\n",
      "['ISFP', 'ISFP', 'ISFP', 'ISFP']\n",
      "['ISTP', 'ISTP', 'ISTP', 'ISTP']\n"
     ]
    }
   ],
   "source": [
    "homogenous = pd.read_csv(\"Conditions/Homogenous.csv\")\n",
    "fiftyfifty = pd.read_csv(\"Conditions/FiftyFifty.csv\")\n",
    "heterogenous = pd.read_csv(\"Conditions/Heterogenous.csv\")\n",
    "\n",
    "\n",
    "for i in (range(len(homogenous.index))):\n",
    "    print(list(homogenous.iloc[i][1:5]))\n"
   ]
  },
  {
   "cell_type": "markdown",
   "metadata": {},
   "source": [
    "## Creating Study Groups"
   ]
  },
  {
   "cell_type": "markdown",
   "metadata": {},
   "source": [
    "#### Practical Functions"
   ]
  },
  {
   "cell_type": "code",
   "execution_count": 5219,
   "metadata": {},
   "outputs": [],
   "source": [
    "def n_sampler(size):\n",
    "    '''\n",
    "    sample a number of random numbers from the beta distribution\n",
    "    '''\n",
    "    max_vals = []\n",
    "    min_vals = []\n",
    "\n",
    "    beta_dist = rnd.beta(2.5, 2.5, size)\n",
    "\n",
    "    for i in range(size):\n",
    "        if beta_dist[i] >= 0.5:\n",
    "            max_vals.append(beta_dist[i])\n",
    "        else:\n",
    "            min_vals.append(beta_dist[i])\n",
    "    \n",
    "    return max_vals, min_vals\n",
    "\n",
    "max_vals, min_vals = n_sampler(1000000)"
   ]
  },
  {
   "cell_type": "code",
   "execution_count": 5220,
   "metadata": {},
   "outputs": [],
   "source": [
    "def data_collect(studygroup, student_list):\n",
    "    '''\n",
    "    function to collect data from the simulation\n",
    "    '''\n",
    "    Name_list = []\n",
    "    extraversion_list = []\n",
    "    sensing_list = []\n",
    "    thinking_list = []\n",
    "    judging_list = []\n",
    "    academic_list = []\n",
    "    \n",
    "    for student in studygroup:\n",
    "        Name_list.append(student.Name)\n",
    "        extraversion_list.append(student.ExScore)\n",
    "        sensing_list.append(student.SeScore) \n",
    "        thinking_list.append(student.ThScore)\n",
    "        judging_list.append(student.JuScore)\n",
    "        academic_list.append(student.Academic_Skill)\n",
    "\n",
    "    data = pd.DataFrame({'Name': Name_list, \n",
    "                        'type': student_list, \n",
    "                        'E/I': extraversion_list, \n",
    "                        'S/N': sensing_list,\n",
    "                        'T/F': thinking_list,\n",
    "                        'J/P': judging_list, \n",
    "                        'Academic': academic_list})\n",
    "    \n",
    "    return data\n",
    "    "
   ]
  },
  {
   "cell_type": "markdown",
   "metadata": {},
   "source": [
    "#### Create Study Group"
   ]
  },
  {
   "cell_type": "code",
   "execution_count": 5221,
   "metadata": {},
   "outputs": [],
   "source": [
    "## Defining the Students ##\n",
    "class Student():\n",
    "    def __init__(self, Name, Ex, Se, Th, Ju):\n",
    "        self.Name  = Name\n",
    "\n",
    "        ## Personality Traits ## \n",
    "        self.Ex = Ex #Extraversion vs Introversion dimension\n",
    "        self.Se = Se #Sensing vs Intuition dimension\n",
    "        self.Th = Th #Thinking vs Feeling dimension\n",
    "        self.Ju = Ju #Judging vs Perceiving dimension\n",
    "\n",
    "        ## Personality Scores calculated with the personality() function##\n",
    "        self.ExScore = 0\n",
    "        self.SeScore = 0\n",
    "        self.ThScore = 0\n",
    "        self.JuScore = 0\n",
    "        \n",
    "        self.Scores = [] #list of all personality scores\n",
    "\n",
    "        ## Academic Skills ##\n",
    "        self.Academic_Skill = 0\n",
    "\n",
    "        ## Own Solution ##\n",
    "        self.Ind_Solution = []\n",
    "\n",
    "def personality(student):\n",
    "    # Extraversion vs. Introversion\n",
    "    if student.Ex == \"E\":\n",
    "        student.ExScore = max_vals[0]\n",
    "        del max_vals[0]\n",
    "    else:\n",
    "        student.ExScore = min_vals[0]\n",
    "        del min_vals[0]\n",
    "    \n",
    "    # Sensing vs. Intuition\n",
    "    if student.Se == \"S\":\n",
    "        student.SeScore = max_vals[0]\n",
    "        del max_vals[0]\n",
    "    else:\n",
    "        student.SeScore = min_vals[0]\n",
    "        del min_vals[0]\n",
    "    \n",
    "    # Thinking vs. Feeling\n",
    "    if student.Th == \"T\":\n",
    "        student.ThScore = max_vals[0]\n",
    "        del max_vals[0]\n",
    "    else:\n",
    "        student.ThScore = min_vals[0]\n",
    "        del min_vals[0]\n",
    "\n",
    "    # Judging vs. Perceiving\n",
    "    if student.Ju == \"J\":\n",
    "        student.JuScore = max_vals[0]\n",
    "        del max_vals[0]\n",
    "    else:\n",
    "        student.JuScore = min_vals[0]\n",
    "        del min_vals[0]\n",
    "    \n",
    "    student.Scores = [student.ExScore, student.SeScore, student.ThScore, student.JuScore]\n",
    "\n",
    "def skills(student):\n",
    "    student.Academic_Skill = (1-student.SeScore)*0.40 + student.ThScore*0.20 + (1-student.JuScore)*0.40"
   ]
  },
  {
   "cell_type": "code",
   "execution_count": 5222,
   "metadata": {},
   "outputs": [],
   "source": [
    "def StudyGroup(student_list):\n",
    "    '''\n",
    "    Create a study group of students\n",
    "    '''\n",
    "    studygroup = []\n",
    "    names = [\"Alfa\", \"Bravo\", \"Charlie\", \"Delta\"]\n",
    "\n",
    "    for i in range(len(student_list)):\n",
    "        student = Student(names[i], student_list[i][0], student_list[i][1], student_list[i][2], student_list[i][3])\n",
    "        personality(student)\n",
    "        skills(student)\n",
    "        studygroup.append(student)\n",
    "    \n",
    "    return data_collect(studygroup, student_list), studygroup"
   ]
  },
  {
   "cell_type": "markdown",
   "metadata": {},
   "source": [
    "## Creating the ABM"
   ]
  },
  {
   "cell_type": "markdown",
   "metadata": {},
   "source": [
    "### Generating True Solution"
   ]
  },
  {
   "cell_type": "code",
   "execution_count": 5223,
   "metadata": {},
   "outputs": [],
   "source": [
    "def true_solution_generator(n_part_exercises, range_elements):\n",
    "    '''\n",
    "    create a list of random numbers that will serve as the true solution that the agents need to find \n",
    "    '''\n",
    "    true_solution = []\n",
    "    for i in range(n_part_exercises):\n",
    "        true_solution.append(random.randint(range_elements[0], range_elements[1]))\n",
    "\n",
    "    return true_solution, range_elements"
   ]
  },
  {
   "cell_type": "markdown",
   "metadata": {},
   "source": [
    "### Generating Individual Solutions"
   ]
  },
  {
   "cell_type": "code",
   "execution_count": 5224,
   "metadata": {},
   "outputs": [],
   "source": [
    "def individual_solutions_generator(studygroup, true_solution, range_elements):\n",
    "    '''\n",
    "    #function to calculate the individual solutions of the agents given a study group dataframe and a true solution\n",
    "    '''\n",
    "    \n",
    "    all_solutions = []\n",
    "\n",
    "    for student in studygroup[1]: # loop for each individual\n",
    "        Ind_Solution_lst = []\n",
    "        \n",
    "        for i in range(len(true_solution)): # loop for each part-exercise\n",
    "            coin_toss = np.random.binomial(1, (student.Academic_Skill*0.7) + 0.3, 1)[0] # biased-coin flip\n",
    "            if coin_toss == 1:\n",
    "                Ind_Solution_lst.append(true_solution[i])\n",
    "            else:\n",
    "                Ind_Solution_lst.append(random.randint(range_elements[0], range_elements[1]))\n",
    "        \n",
    "        all_solutions.append(Ind_Solution_lst)\n",
    "        student.Ind_Solution = Ind_Solution_lst\n",
    "    \n",
    "    return all_solutions"
   ]
  },
  {
   "cell_type": "markdown",
   "metadata": {},
   "source": [
    "## Collaborative Problem Solving"
   ]
  },
  {
   "cell_type": "markdown",
   "metadata": {},
   "source": [
    "##### Workflow notes\n",
    "1. Who presents their solution e.g. agent A presents their solution to agent B, C, D -> THE PROPOSED SOLUTION\n",
    "    -> Based on Extraversion score (Highest extraversion score is the most likely to present their solution)\n",
    "2. According to an Agreeableness score (Social score for now) of the other agents (and maybe a Trustworthiness score of agent proposing), agents will update their solution\n",
    "3. The solutions of the agents will be checked, if all they agree, this is their final solution. If not, the process will be repeated for a max of X ticks. If the groups do not converge, an accuracy score will still be calculated. "
   ]
  },
  {
   "cell_type": "code",
   "execution_count": 5225,
   "metadata": {},
   "outputs": [],
   "source": [
    "def collaborative_solution(studygroup, max_ticks):\n",
    "    max_ticks = max_ticks #turns in the simulation\n",
    "    n_ticks = 0\n",
    "    \n",
    "    # extracting all 4 students\n",
    "    Alfa = studygroup[1][0]\n",
    "    Bravo = studygroup[1][1]\n",
    "    Charlie = studygroup[1][2]\n",
    "    Delta = studygroup[1][3]\n",
    "\n",
    "    student_list = [Alfa, Bravo, Charlie, Delta]\n",
    "    individual_solutions = [Alfa.Ind_Solution, Bravo.Ind_Solution, Charlie.Ind_Solution, Delta.Ind_Solution]\n",
    "\n",
    "    while (n_ticks != max_ticks):\n",
    "        # Starting a Round\n",
    "        presenter_name = random.choices([Alfa.Name, Bravo.Name, Charlie.Name, Delta.Name], weights = [Alfa.ExScore, Bravo.ExScore, Charlie.ExScore, Delta.ExScore], k = 1)[0] # selecting the presenter of the round based on weighted random draw from extraversion scores\n",
    "        \n",
    "        Proposed_Solution = eval(presenter_name).Ind_Solution\n",
    "        #print(n_ticks, presenter_name, Proposed_Solution)\n",
    "\n",
    "        for student in student_list:\n",
    "            if student == eval(presenter_name):\n",
    "                pass\n",
    "            for i in range(len(Proposed_Solution)): # looping through all part-exercises and evaluating against proposed solution.\n",
    "                coin_toss = np.random.binomial(1, ((1-student.ThScore)*0.25 + eval(presenter_name).Academic_Skill*0.25), 1)[0] #high social skill has a greater chance of accepting the proposal and if the proposer has higher academic skill.\n",
    "                if coin_toss == 1:\n",
    "                    student.Ind_Solution[i] = Proposed_Solution[i]\n",
    "                else:\n",
    "                    student.Ind_Solution[i] = student.Ind_Solution[i]\n",
    "\n",
    "        n_ticks += 1 #adding a tick to the simulation\n",
    "\n",
    "        if all(x==individual_solutions[0] for x in individual_solutions): # initializes a break of while-loop if consensus has been reached (i.e. all solutions are the same)\n",
    "            break\n",
    "\n",
    "\n",
    "\n",
    "    #print(\"Number of iterations: \" + str(n_ticks))\n",
    "    return individual_solutions[0], n_ticks # returns their collective solution\n"
   ]
  },
  {
   "cell_type": "code",
   "execution_count": 5226,
   "metadata": {},
   "outputs": [],
   "source": [
    "def solution_evaluator(proposed_solution, true_solution):\n",
    "    correct_part_exercise = 0\n",
    "    wrong_part_exercise = 0\n",
    "\n",
    "    for i in range(len(true_solution)):\n",
    "        if proposed_solution[i] == true_solution[i]:\n",
    "            correct_part_exercise += 1\n",
    "        else:\n",
    "            wrong_part_exercise += 1\n",
    "\n",
    "    return correct_part_exercise / (correct_part_exercise + wrong_part_exercise)\n"
   ]
  },
  {
   "cell_type": "code",
   "execution_count": 5227,
   "metadata": {},
   "outputs": [],
   "source": [
    "def adaptation_degree(individual_solution, group_solution):\n",
    "    '''\n",
    "    #function to calculate the adaptation degree of the agents\n",
    "    '''\n",
    "    adapted = 0\n",
    "    not_adapted = 0\n",
    "\n",
    "    for i in range(len(individual_solution)):\n",
    "        if individual_solution[i] == group_solution[i]:\n",
    "            not_adapted += 1\n",
    "        else:\n",
    "            adapted += 1\n",
    "    \n",
    "    return adapted / (adapted + not_adapted)"
   ]
  },
  {
   "cell_type": "markdown",
   "metadata": {},
   "source": [
    "# TEST RUN"
   ]
  },
  {
   "cell_type": "code",
   "execution_count": 5228,
   "metadata": {},
   "outputs": [],
   "source": [
    "# Selecting Personality Types\n",
    "student_list_test = [\"INTP\", \"INTP\", \"INTP\", \"INTP\"]"
   ]
  },
  {
   "cell_type": "code",
   "execution_count": 5229,
   "metadata": {},
   "outputs": [],
   "source": [
    "# Creating the Study Group\n",
    "studygroup1 = StudyGroup(student_list_test)"
   ]
  },
  {
   "cell_type": "code",
   "execution_count": 5230,
   "metadata": {},
   "outputs": [
    {
     "name": "stdout",
     "output_type": "stream",
     "text": [
      "      Name  type       E/I       S/N       T/F       J/P  Academic\n",
      "0     Alfa  INTP  0.310098  0.112842  0.904726  0.478101  0.744568\n",
      "1    Bravo  INTP  0.351074  0.382017  0.589374  0.354296  0.623350\n",
      "2  Charlie  INTP  0.488345  0.268319  0.634322  0.425957  0.649154\n",
      "3    Delta  INTP  0.248524  0.223534  0.557732  0.223213  0.732847\n"
     ]
    }
   ],
   "source": [
    "# Seeing their Generated Personality Scores\n",
    "print(studygroup1[0])"
   ]
  },
  {
   "cell_type": "code",
   "execution_count": 5231,
   "metadata": {},
   "outputs": [],
   "source": [
    "# Generating a True Solution\n",
    "true_solution_test = true_solution_generator(10, [1, 9])"
   ]
  },
  {
   "cell_type": "code",
   "execution_count": 5232,
   "metadata": {},
   "outputs": [
    {
     "data": {
      "text/plain": [
       "[1, 7, 9, 6, 9, 7, 9, 4, 2, 5]"
      ]
     },
     "execution_count": 5232,
     "metadata": {},
     "output_type": "execute_result"
    }
   ],
   "source": [
    "# Displaying the True Solution\n",
    "true_solution_test[0]"
   ]
  },
  {
   "cell_type": "code",
   "execution_count": 5253,
   "metadata": {},
   "outputs": [
    {
     "data": {
      "text/plain": [
       "[[4, 5, 4, 6, 9, 7, 9, 4, 2, 5],\n",
       " [2, 7, 2, 6, 9, 2, 2, 2, 2, 6],\n",
       " [1, 3, 9, 6, 4, 2, 9, 8, 2, 5],\n",
       " [1, 7, 7, 2, 9, 7, 9, 4, 2, 5]]"
      ]
     },
     "execution_count": 5253,
     "metadata": {},
     "output_type": "execute_result"
    }
   ],
   "source": [
    "# Generating Individual Solutions\n",
    "all_solutions = individual_solutions_generator(studygroup1, true_solution_test[0], true_solution_test[1])\n",
    "all_solutions"
   ]
  },
  {
   "cell_type": "code",
   "execution_count": 5247,
   "metadata": {},
   "outputs": [
    {
     "name": "stdout",
     "output_type": "stream",
     "text": [
      "Alfa [1, 7, 9, 6, 9, 7, 9, 4, 2, 5]\n",
      "Bravo [1, 7, 9, 6, 4, 7, 3, 4, 2, 5]\n",
      "Charlie [5, 3, 9, 6, 1, 4, 9, 4, 2, 5]\n",
      "Delta [1, 7, 3, 4, 6, 7, 9, 4, 2, 9]\n"
     ]
    }
   ],
   "source": [
    "# Printing Individual Solutions\n",
    "for student in studygroup1[1]:\n",
    "    print(student.Name, student.Ind_Solution)"
   ]
  },
  {
   "cell_type": "code",
   "execution_count": 5248,
   "metadata": {},
   "outputs": [
    {
     "name": "stdout",
     "output_type": "stream",
     "text": [
      "Alfa 1.0\n",
      "Bravo 0.8\n",
      "Charlie 0.6\n",
      "Delta 0.6\n"
     ]
    }
   ],
   "source": [
    "# Printing Indivudal Accuracies\n",
    "for student in studygroup1[1]:\n",
    "    print(student.Name, solution_evaluator(student.Ind_Solution, true_solution_test[0]))"
   ]
  },
  {
   "cell_type": "code",
   "execution_count": 5254,
   "metadata": {},
   "outputs": [],
   "source": [
    "# Creating Group Solution\n",
    "group_solution = collaborative_solution(studygroup1, 100)"
   ]
  },
  {
   "cell_type": "code",
   "execution_count": 5250,
   "metadata": {},
   "outputs": [
    {
     "name": "stdout",
     "output_type": "stream",
     "text": [
      "0.8\n"
     ]
    }
   ],
   "source": [
    "# Printing Group Accuracy\n",
    "accuracy = solution_evaluator(group_solution[0], true_solution_test[0])\n",
    "print(accuracy)"
   ]
  },
  {
   "cell_type": "code",
   "execution_count": 5255,
   "metadata": {},
   "outputs": [
    {
     "name": "stdout",
     "output_type": "stream",
     "text": [
      "[1, 3, 9, 6, 4, 2, 9, 8, 2, 5]\n",
      "[1, 3, 9, 6, 4, 2, 9, 8, 2, 5]\n"
     ]
    }
   ],
   "source": [
    "adaptation_degree(all_solutions[0], group_solution[0])"
   ]
  },
  {
   "cell_type": "markdown",
   "metadata": {},
   "source": [
    "## ABM Model"
   ]
  },
  {
   "cell_type": "code",
   "execution_count": 5238,
   "metadata": {},
   "outputs": [],
   "source": [
    "def exercise_run(student_list: list, max_ticks: int, n_part_exercises: int, range_solution: list, n_simulations: int):\n",
    "    '''\n",
    "    function to run one simulation of a study group completing the exercise (from individual to group solution)\n",
    "    '''\n",
    "\n",
    "    ## defining the lists that will accumulate the average accuracies and amount of ticks ## \n",
    "    group_accuracy_list = []\n",
    "    n_tick_list = []\n",
    "\n",
    "    alfa_accuracy_list = []\n",
    "    beta_accuracy_list = []\n",
    "    charlie_accuracy_list = []\n",
    "    delta_accuracy_list = []\n",
    "\n",
    "    alfa_adaptation_list = []\n",
    "    beta_adaptation_list = []\n",
    "    charlie_adaptation_list = []\n",
    "    delta_adaptation_list = []\n",
    "\n",
    "\n",
    "    for i in range(n_simulations):\n",
    "        ## giving the study group personality values and skills ##\n",
    "        studygroup = StudyGroup(student_list)\n",
    "\n",
    "        ## generating the true solution ## \n",
    "        true_solution = true_solution_generator(n_part_exercises, range_solution)\n",
    "\n",
    "        ## generating individual solutions ##\n",
    "        all_solutions = individual_solutions_generator(studygroup, true_solution[0], true_solution[1])\n",
    "\n",
    "        ## evaluating own solutions ##        \n",
    "        alfa_accuracy = solution_evaluator(all_solutions[0], true_solution[0])\n",
    "        beta_accuracy = solution_evaluator(all_solutions[1], true_solution[0])\n",
    "        charlie_accuracy = solution_evaluator(all_solutions[2], true_solution[0])\n",
    "        delta_accuracy = solution_evaluator(all_solutions[3], true_solution[0])\n",
    "        \n",
    "        alfa_accuracy_list.append(alfa_accuracy)\n",
    "        beta_accuracy_list.append(beta_accuracy)\n",
    "        charlie_accuracy_list.append(charlie_accuracy)\n",
    "        delta_accuracy_list.append(delta_accuracy)\n",
    "\n",
    "        ## generating group solution ##\n",
    "        group_solution = collaborative_solution(studygroup, max_ticks)\n",
    "        n_tick_list.append(group_solution[1]) # appending the number of ticks\n",
    "\n",
    "        ## calculating degree of adaptation ## \n",
    "        alfa_adaption = adaptation_degree(all_solutions[0], group_solution[0])\n",
    "        beta_adaption = adaptation_degree(all_solutions[1], group_solution[0])\n",
    "        charlie_adaption = adaptation_degree(all_solutions[2], group_solution[0])\n",
    "        delta_adaption = adaptation_degree(all_solutions[3], group_solution[0])\n",
    "\n",
    "        alfa_adaptation_list.append(alfa_adaption)\n",
    "        beta_adaptation_list.append(beta_adaption)\n",
    "        charlie_adaptation_list.append(charlie_adaption)\n",
    "        delta_adaptation_list.append(delta_adaption)\n",
    "\n",
    "        ## calculating the accuracy of the group solution ##\n",
    "        group_accuracy = solution_evaluator(group_solution[0], true_solution[0])\n",
    "        group_accuracy_list.append(group_accuracy) #appending the group accuracies\n",
    "\n",
    "        \n",
    "\n",
    "    ## calculating the average accuracy and ticks ##\n",
    "    # group level #\n",
    "    avg_group_accuracy = np.mean(group_accuracy_list)\n",
    "    std_group_accuracy = np.std(group_accuracy_list)\n",
    "    \n",
    "    avg_group_n_tick = np.mean(n_tick_list)\n",
    "    std_group_n_tick = np.std(n_tick_list)\n",
    "    \n",
    "    # individual level #\n",
    "    avg_alfa_accuracy = np.mean(alfa_accuracy_list)\n",
    "    std_alfa_accuracy = np.std(alfa_accuracy_list)\n",
    "\n",
    "    avg_beta_accuracy = np.mean(beta_accuracy_list)\n",
    "    std_beta_accuracy = np.std(beta_accuracy_list)\n",
    "\n",
    "    avg_charlie_accuracy = np.mean(charlie_accuracy_list)\n",
    "    std_charlie_accuracy = np.std(charlie_accuracy_list)\n",
    "\n",
    "    avg_delta_accuracy = np.mean(delta_accuracy_list)\n",
    "    std_delta_accuracy = np.std(delta_accuracy_list)\n",
    "\n",
    "    \n",
    "    avg_alfa_adaptation = np.mean(alfa_adaptation_list)\n",
    "    avg_beta_adaptation = np.mean(beta_adaptation_list)\n",
    "    avg_charlie_adaptation = np.mean(charlie_adaptation_list)\n",
    "    avg_delta_adaptation = np.mean(delta_adaptation_list)\n",
    "    \n",
    "    ## dictionaries ## \n",
    "    exercise_run_dict_group = {\n",
    "    'alfa': student_list[0], \n",
    "    'beta':student_list[1], \n",
    "    'charlie':student_list[2], \n",
    "    'delta':student_list[3], \n",
    "    'avg_accuracy': avg_group_accuracy, \n",
    "    'std_accuracy': std_group_accuracy, \n",
    "    'avg_n_tick': avg_group_n_tick, \n",
    "    'std_n_tick': std_group_n_tick}\n",
    "\n",
    "\n",
    "    exercise_run_list_ind = list(zip(student_list, \n",
    "                                    [student_list, student_list, student_list, student_list], \n",
    "                                    [avg_alfa_accuracy, avg_beta_accuracy, avg_charlie_accuracy, avg_delta_accuracy],\n",
    "                                    [std_alfa_accuracy, std_beta_accuracy, std_charlie_accuracy, std_delta_accuracy], \n",
    "                                    [avg_alfa_adaptation, avg_beta_adaptation, avg_charlie_adaptation, avg_delta_adaptation]))\n",
    "    \n",
    "    return exercise_run_dict_group, exercise_run_list_ind"
   ]
  },
  {
   "cell_type": "code",
   "execution_count": 5239,
   "metadata": {},
   "outputs": [],
   "source": [
    "def abm_model(condition, max_ticks: int, n_part_exercises: int, range_solution: list, n_simulations: int):\n",
    "    condition_group_df = pd.DataFrame(columns = ['alfa', 'beta', 'charlie', 'delta', 'avg_accuracy', 'std_accuracy', 'avg_n_tick', 'std_n_tick'])\n",
    "    condition_ind_df = pd.DataFrame(columns=['type', 'studygroup', 'avg_accuracy', 'std_accuracy', 'avg_adaptation']) #'avg_accuracy', 'contribution', 'n_presentations'])\n",
    "        \n",
    "    for i in (range(len(condition.index))):\n",
    "        student_list = list(condition.iloc[i][1:5])\n",
    "        \n",
    "        ## Getting data frames for the group and individual levels ##\n",
    "        exercise_run_dict_group, exercise_run_list_ind = exercise_run(student_list, max_ticks, n_part_exercises, range_solution, n_simulations) #creating dictionary\n",
    "        \n",
    "        exercise_run_group_df = pd.DataFrame(exercise_run_dict_group, index = [i]) #creating dataframe\n",
    "        condition_group_df = pd.concat([condition_group_df, exercise_run_group_df], ignore_index = True) #concatenating dataframes\n",
    "        \n",
    "        exercise_run_ind_df = pd.DataFrame(exercise_run_list_ind, columns=['type', 'studygroup', 'avg_accuracy', 'std_accuracy', 'avg_adaptation']) #'avg_accuracy', 'contribution', 'n_presentations'])\n",
    "        condition_ind_df = pd.concat([condition_ind_df, exercise_run_ind_df], ignore_index = True)\n",
    "\n",
    "    return condition_ind_df, condition_group_df\n"
   ]
  },
  {
   "cell_type": "code",
   "execution_count": 5240,
   "metadata": {},
   "outputs": [
    {
     "data": {
      "text/plain": [
       "(    type                studygroup  avg_accuracy  std_accuracy  avg_adaptation\n",
       " 0   ESFJ  [ESFJ, ESFJ, ESFJ, ESFJ]          0.54      0.180000             0.0\n",
       " 1   ESFJ  [ESFJ, ESFJ, ESFJ, ESFJ]          0.55      0.156525             0.0\n",
       " 2   ESFJ  [ESFJ, ESFJ, ESFJ, ESFJ]          0.60      0.126491             0.0\n",
       " 3   ESFJ  [ESFJ, ESFJ, ESFJ, ESFJ]          0.53      0.110000             0.0\n",
       " 4   ESTJ  [ESTJ, ESTJ, ESTJ, ESTJ]          0.57      0.167631             0.0\n",
       " ..   ...                       ...           ...           ...             ...\n",
       " 59  ISFP  [ISFP, ISFP, ISFP, ISFP]          0.61      0.186815             0.0\n",
       " 60  ISTP  [ISTP, ISTP, ISTP, ISTP]          0.75      0.156525             0.0\n",
       " 61  ISTP  [ISTP, ISTP, ISTP, ISTP]          0.68      0.146969             0.0\n",
       " 62  ISTP  [ISTP, ISTP, ISTP, ISTP]          0.58      0.153623             0.0\n",
       " 63  ISTP  [ISTP, ISTP, ISTP, ISTP]          0.65      0.185742             0.0\n",
       " \n",
       " [64 rows x 5 columns],\n",
       "     alfa  beta charlie delta  avg_accuracy  std_accuracy  avg_n_tick  \\\n",
       " 0   ESFJ  ESFJ    ESFJ  ESFJ          0.53      0.155242        19.2   \n",
       " 1   ESTJ  ESTJ    ESTJ  ESTJ          0.59      0.137477        26.0   \n",
       " 2   ISFJ  ISFJ    ISFJ  ISFJ          0.63      0.173494        19.4   \n",
       " 3   ISTJ  ISTJ    ISTJ  ISTJ          0.63      0.161555        29.8   \n",
       " 4   ENFP  ENFP    ENFP  ENFP          0.73      0.118743        11.6   \n",
       " 5   ENFJ  ENFJ    ENFJ  ENFJ          0.65      0.111803        16.0   \n",
       " 6   INFP  INFP    INFP  INFP          0.72      0.107703        12.9   \n",
       " 7   INFJ  INFJ    INFJ  INFJ          0.71      0.151327        13.4   \n",
       " 8   ENTP  ENTP    ENTP  ENTP          0.79      0.070000        16.1   \n",
       " 9   ENTJ  ENTJ    ENTJ  ENTJ          0.72      0.140000        24.4   \n",
       " 10  INTP  INTP    INTP  INTP          0.77      0.118743        16.6   \n",
       " 11  INTJ  INTJ    INTJ  INTJ          0.78      0.097980        18.1   \n",
       " 12  ESFP  ESFP    ESFP  ESFP          0.55      0.150000        16.2   \n",
       " 13  ESTP  ESTP    ESTP  ESTP          0.75      0.102470        21.3   \n",
       " 14  ISFP  ISFP    ISFP  ISFP          0.64      0.149666        15.1   \n",
       " 15  ISTP  ISTP    ISTP  ISTP          0.75      0.143178        18.3   \n",
       " \n",
       "     std_n_tick  \n",
       " 0     5.249762  \n",
       " 1     7.443118  \n",
       " 2     3.878144  \n",
       " 3    12.520383  \n",
       " 4     3.469870  \n",
       " 5     3.794733  \n",
       " 6     4.846648  \n",
       " 7     4.651881  \n",
       " 8     6.549046  \n",
       " 9     7.565712  \n",
       " 10    7.378347  \n",
       " 11    4.988988  \n",
       " 12    4.214262  \n",
       " 13    9.033825  \n",
       " 14    6.410148  \n",
       " 15    7.267049  )"
      ]
     },
     "execution_count": 5240,
     "metadata": {},
     "output_type": "execute_result"
    }
   ],
   "source": [
    "abm_model(condition = homogenous, \n",
    "        max_ticks = 200, \n",
    "        n_part_exercises = 10, \n",
    "        range_solution = [1, 9], \n",
    "        n_simulations = 10\n",
    "        )"
   ]
  },
  {
   "cell_type": "code",
   "execution_count": 5241,
   "metadata": {},
   "outputs": [
    {
     "data": {
      "text/plain": [
       "(    type                studygroup  avg_accuracy  std_accuracy  avg_adaptation\n",
       " 0   ESFJ  [ESFJ, ESFJ, INTP, INTP]          0.62      0.153623             0.0\n",
       " 1   ESFJ  [ESFJ, ESFJ, INTP, INTP]          0.67      0.110000             0.0\n",
       " 2   INTP  [ESFJ, ESFJ, INTP, INTP]          0.80      0.134164             0.0\n",
       " 3   INTP  [ESFJ, ESFJ, INTP, INTP]          0.78      0.140000             0.0\n",
       " 4   ENTP  [ENTP, ENTP, ISFJ, ISFJ]          0.77      0.126886             0.0\n",
       " ..   ...                       ...           ...           ...             ...\n",
       " 59  ISFJ  [ESTP, ESTP, ISFJ, ISFJ]          0.61      0.104403             0.0\n",
       " 60  ENTJ  [ENTJ, ENTJ, ISTJ, ISTJ]          0.58      0.208806             0.0\n",
       " 61  ENTJ  [ENTJ, ENTJ, ISTJ, ISTJ]          0.68      0.153623             0.0\n",
       " 62  ISTJ  [ENTJ, ENTJ, ISTJ, ISTJ]          0.56      0.080000             0.0\n",
       " 63  ISTJ  [ENTJ, ENTJ, ISTJ, ISTJ]          0.54      0.128062             0.0\n",
       " \n",
       " [64 rows x 5 columns],\n",
       "     alfa  beta charlie delta  avg_accuracy  std_accuracy  avg_n_tick  \\\n",
       " 0   ESFJ  ESFJ    INTP  INTP          0.68      0.166132        23.0   \n",
       " 1   ENTP  ENTP    ISFJ  ISFJ          0.75      0.092195        16.8   \n",
       " 2   ESFP  ESFP    INTJ  INTJ          0.77      0.148661        17.0   \n",
       " 3   ENFJ  ENFJ    ISTP  ISTP          0.66      0.142829        21.7   \n",
       " 4   ESTJ  ESTJ    INFP  INFP          0.61      0.157797        19.8   \n",
       " 5   ENFP  ENFP    ISTJ  ISTJ          0.68      0.140000        14.5   \n",
       " 6   ESTP  ESTP    INFJ  INFJ          0.65      0.196214        17.1   \n",
       " 7   ENTJ  ENTJ    ISFP  ISFP          0.74      0.120000        16.4   \n",
       " 8   ESFJ  ESFJ    ISTP  ISTP          0.64      0.101980        16.4   \n",
       " 9   ENTP  ENTP    INFJ  INFJ          0.75      0.120416        11.5   \n",
       " 10  ESFP  ESFP    INTP  INTP          0.64      0.111355        22.5   \n",
       " 11  ENFJ  ENFJ    INFP  INFP          0.77      0.161555        11.5   \n",
       " 12  ESTJ  ESTJ    ISFP  ISFP          0.60      0.184391        18.9   \n",
       " 13  ENFP  ENFP    INTJ  INTJ          0.79      0.104403        15.6   \n",
       " 14  ESTP  ESTP    ISFJ  ISFJ          0.69      0.202237        16.8   \n",
       " 15  ENTJ  ENTJ    ISTJ  ISTJ          0.64      0.142829        22.0   \n",
       " \n",
       "     std_n_tick  \n",
       " 0     9.899495  \n",
       " 1     7.730459  \n",
       " 2     9.476286  \n",
       " 3     9.220087  \n",
       " 4     7.560423  \n",
       " 5     3.413210  \n",
       " 6     5.990826  \n",
       " 7     7.644606  \n",
       " 8     9.478396  \n",
       " 9     5.408327  \n",
       " 10   11.689739  \n",
       " 11    2.729469  \n",
       " 12    3.330165  \n",
       " 13    6.003332  \n",
       " 14    8.986657  \n",
       " 15    8.899438  )"
      ]
     },
     "execution_count": 5241,
     "metadata": {},
     "output_type": "execute_result"
    }
   ],
   "source": [
    "abm_model(condition = fiftyfifty, \n",
    "        max_ticks = 200, \n",
    "        n_part_exercises = 10, \n",
    "        range_solution = [1, 9], \n",
    "        n_simulations = 10\n",
    "        )"
   ]
  },
  {
   "cell_type": "code",
   "execution_count": 5242,
   "metadata": {},
   "outputs": [
    {
     "data": {
      "text/plain": [
       "(    type                studygroup  avg_accuracy  std_accuracy  avg_adaptation\n",
       " 0   ESFJ  [ESFJ, ESTJ, ENFP, INFJ]          0.67      0.090000             0.0\n",
       " 1   ESTJ  [ESFJ, ESTJ, ENFP, INFJ]          0.67      0.141774             0.0\n",
       " 2   ENFP  [ESFJ, ESTJ, ENFP, INFJ]          0.81      0.122066             0.0\n",
       " 3   INFJ  [ESFJ, ESTJ, ENFP, INFJ]          0.63      0.148661             0.0\n",
       " 4   ISFJ  [ISFJ, ESTP, ISFP, ENFJ]          0.61      0.137477             0.0\n",
       " ..   ...                       ...           ...           ...             ...\n",
       " 59  INFJ  [ESTJ, ISTJ, ENFJ, INFJ]          0.67      0.161555             0.0\n",
       " 60  ENTJ  [ENTJ, INTJ, ESTP, ISTP]          0.68      0.172047             0.0\n",
       " 61  INTJ  [ENTJ, INTJ, ESTP, ISTP]          0.71      0.113578             0.0\n",
       " 62  ESTP  [ENTJ, INTJ, ESTP, ISTP]          0.74      0.128062             0.0\n",
       " 63  ISTP  [ENTJ, INTJ, ESTP, ISTP]          0.72      0.177764             0.0\n",
       " \n",
       " [64 rows x 5 columns],\n",
       "     alfa  beta charlie delta  avg_accuracy  std_accuracy  avg_n_tick  \\\n",
       " 0   ESFJ  ESTJ    ENFP  INFJ          0.75      0.111803        12.4   \n",
       " 1   ISFJ  ESTP    ISFP  ENFJ          0.64      0.111355        16.1   \n",
       " 2   ISTJ  ISTP    ESFP  ENTJ          0.75      0.067082        21.1   \n",
       " 3   INTP  INTJ    INFP  ENTP          0.80      0.063246        21.4   \n",
       " 4   ESFJ  ISFJ    ISTJ  INTP          0.63      0.173494        26.6   \n",
       " 5   ESTJ  ESTP    ISTP  INTJ          0.68      0.153623        22.2   \n",
       " 6   ENFP  ISFP    ESFP  INFP          0.73      0.064031        11.3   \n",
       " 7   INFJ  ENFJ    ENTJ  ISFJ          0.69      0.181384        14.9   \n",
       " 8   ESFJ  ISTP    ESTP  ENTP          0.73      0.110000        20.1   \n",
       " 9   ESTJ  ISFP    ISTJ  ESFP          0.58      0.153623        14.4   \n",
       " 10  ENFP  INTJ    INFP  ENTJ          0.77      0.090000        16.2   \n",
       " 11  ENFJ  INTP    INFJ  ENTP          0.77      0.155242        11.4   \n",
       " 12  ESFJ  ISFJ    ENFP  INFP          0.73      0.126886        16.2   \n",
       " 13  ENTP  INTP    ESFP  ISFP          0.79      0.186815        18.2   \n",
       " 14  ESTJ  ISTJ    ENFJ  INFJ          0.73      0.141774        21.1   \n",
       " 15  ENTJ  INTJ    ESTP  ISTP          0.72      0.132665        16.7   \n",
       " \n",
       "     std_n_tick  \n",
       " 0     3.322650  \n",
       " 1     3.448188  \n",
       " 2    11.130588  \n",
       " 3     9.850888  \n",
       " 4    10.753604  \n",
       " 5     9.917661  \n",
       " 6     4.405678  \n",
       " 7     7.203471  \n",
       " 8     8.043009  \n",
       " 9     6.711185  \n",
       " 10    5.706137  \n",
       " 11    3.583295  \n",
       " 12    8.692526  \n",
       " 13    8.611620  \n",
       " 14    7.077429  \n",
       " 15    9.402659  )"
      ]
     },
     "execution_count": 5242,
     "metadata": {},
     "output_type": "execute_result"
    }
   ],
   "source": [
    "abm_model(condition = heterogenous, \n",
    "        max_ticks = 200, \n",
    "        n_part_exercises = 10, \n",
    "        range_solution = [1, 9], \n",
    "        n_simulations = 10\n",
    "        )"
   ]
  }
 ],
 "metadata": {
  "interpreter": {
   "hash": "c33078cfce3b48701940fc5b5dd0b6d9b895502e5da868bfe1d8ab2cb40e85d4"
  },
  "kernelspec": {
   "display_name": "Python 3.8.8",
   "language": "python",
   "name": "python3"
  },
  "language_info": {
   "codemirror_mode": {
    "name": "ipython",
    "version": 3
   },
   "file_extension": ".py",
   "mimetype": "text/x-python",
   "name": "python",
   "nbconvert_exporter": "python",
   "pygments_lexer": "ipython3",
   "version": "3.8.8"
  },
  "orig_nbformat": 4
 },
 "nbformat": 4,
 "nbformat_minor": 2
}
