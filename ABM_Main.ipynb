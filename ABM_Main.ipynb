{
 "cells": [
  {
   "cell_type": "markdown",
   "metadata": {},
   "source": [
    "# Agent Based Model: Main Notebook"
   ]
  },
  {
   "cell_type": "code",
   "execution_count": 735,
   "metadata": {},
   "outputs": [],
   "source": [
    "import numpy.random as rnd\n",
    "import numpy as np\n",
    "import pandas as pd \n",
    "from matplotlib import pyplot as plt\n",
    "import random"
   ]
  },
  {
   "cell_type": "markdown",
   "metadata": {},
   "source": [
    "#### Workflow Notes \n",
    "* Draw Students with values within the four dimensions \n",
    "* Function that creates a study group (draw 4 students) -> Measure homogeniety \n",
    "* Task \n"
   ]
  },
  {
   "cell_type": "markdown",
   "metadata": {},
   "source": [
    "## Creating Study Groups"
   ]
  },
  {
   "cell_type": "markdown",
   "metadata": {},
   "source": [
    "#### Practical Functions"
   ]
  },
  {
   "cell_type": "code",
   "execution_count": 736,
   "metadata": {},
   "outputs": [],
   "source": [
    "def n_sampler(size):\n",
    "    '''\n",
    "    sample a number of random numbers from the beta distribution\n",
    "    '''\n",
    "    max_vals = []\n",
    "    min_vals = []\n",
    "\n",
    "    beta_dist = rnd.beta(2.5, 2.5, size)\n",
    "\n",
    "    for i in range(size):\n",
    "        if beta_dist[i] >= 0.5:\n",
    "            max_vals.append(beta_dist[i])\n",
    "        else:\n",
    "            min_vals.append(beta_dist[i])\n",
    "    \n",
    "    return max_vals, min_vals\n",
    "\n",
    "max_vals, min_vals = n_sampler(1000)"
   ]
  },
  {
   "cell_type": "code",
   "execution_count": 737,
   "metadata": {},
   "outputs": [],
   "source": [
    "def data_collect(studygroup, student_list):\n",
    "    '''\n",
    "    function to collect data from the simulation\n",
    "    '''\n",
    "    Name_list = []\n",
    "    extraversion_list = []\n",
    "    sensing_list = []\n",
    "    thinking_list = []\n",
    "    judging_list = []\n",
    "    academic_list = [] \n",
    "    social_list = []\n",
    "    \n",
    "    for student in studygroup:\n",
    "        Name_list.append(student.Name)\n",
    "        extraversion_list.append(student.ExScore)\n",
    "        sensing_list.append(student.SeScore) \n",
    "        thinking_list.append(student.ThScore)\n",
    "        judging_list.append(student.JuScore)\n",
    "        academic_list.append(student.Academic_Skill)\n",
    "        social_list.append(student.Social_Skill)\n",
    "\n",
    "    data = pd.DataFrame({'Name': Name_list, \n",
    "                        'type': student_list, \n",
    "                        'E/I': extraversion_list, \n",
    "                        'S/N': sensing_list,\n",
    "                        'T/F': thinking_list,\n",
    "                        'J/P': judging_list, \n",
    "                        'Academic': academic_list,\n",
    "                        'Social': social_list})\n",
    "    \n",
    "    return data\n",
    "    "
   ]
  },
  {
   "cell_type": "markdown",
   "metadata": {},
   "source": [
    "#### Create Study Group"
   ]
  },
  {
   "cell_type": "code",
   "execution_count": 738,
   "metadata": {},
   "outputs": [],
   "source": [
    "## Defining the Students ##\n",
    "class Student():\n",
    "    def __init__(self, Name, Ex, Se, Th, Ju):\n",
    "        self.Name  = Name\n",
    "\n",
    "        ## Personality Traits ## \n",
    "        self.Ex = Ex #Extraversion vs Introversion dimension\n",
    "        self.Se = Se #Sensing vs Intuition dimension\n",
    "        self.Th = Th #Thinking vs Feeling dimension\n",
    "        self.Ju = Ju #Judging vs Perceiving dimension\n",
    "\n",
    "        ## Personality Scores calculated with the personality() function##\n",
    "        self.ExScore = 0\n",
    "        self.SeScore = 0\n",
    "        self.ThScore = 0\n",
    "        self.JuScore = 0\n",
    "        \n",
    "        self.Scores = [] #list of all personality scores\n",
    "\n",
    "        ## Academic and Social Skills ##\n",
    "        self.Academic_Skill = 0\n",
    "        self.Social_Skill = 0\n",
    "\n",
    "        ## Own Solution ##\n",
    "        self.Ind_Solution = []\n",
    "\n",
    "\n",
    "def personality(student):\n",
    "    # Extraversion vs. Introversion\n",
    "    if student.Ex == \"E\":\n",
    "        student.ExScore = max_vals[0]\n",
    "        del max_vals[0]\n",
    "    else:\n",
    "        student.ExScore = min_vals[0]\n",
    "        del min_vals[0]\n",
    "    \n",
    "    # Sensing vs. Intuition\n",
    "    if student.Se == \"S\":\n",
    "        student.SeScore = max_vals[0]\n",
    "        del max_vals[0]\n",
    "    else:\n",
    "        student.SeScore = min_vals[0]\n",
    "        del min_vals[0]\n",
    "    \n",
    "    # Thinking vs. Feeling\n",
    "    if student.Th == \"T\":\n",
    "        student.ThScore = max_vals[0]\n",
    "        del max_vals[0]\n",
    "    else:\n",
    "        student.ThScore = min_vals[0]\n",
    "        del min_vals[0]\n",
    "\n",
    "    # Judging vs. Perceiving\n",
    "    if student.Ju == \"J\":\n",
    "        student.JuScore = max_vals[0]\n",
    "        del max_vals[0]\n",
    "    else:\n",
    "        student.JuScore = min_vals[0]\n",
    "        del min_vals[0]\n",
    "    \n",
    "    student.Scores = [student.ExScore, student.SeScore, student.ThScore, student.JuScore]\n",
    "\n",
    "def skills(student):\n",
    "    student.Academic_Skill = (1-student.ExScore)*0.15 + (1-student.SeScore)*0.35 + student.ThScore*0.20 + (1-student.JuScore)*0.30\n",
    "    student.Social_Skill = student.ExScore*0.50 + (1-student.SeScore)*0.10 + student.ThScore*0.30 + (1-student.JuScore)*0.10"
   ]
  },
  {
   "cell_type": "code",
   "execution_count": 739,
   "metadata": {},
   "outputs": [],
   "source": [
    "def StudyGroup(student_list):\n",
    "    '''\n",
    "    Create a study group of students\n",
    "    '''\n",
    "    studygroup = []\n",
    "    names = [\"Alfa\", \"Bravo\", \"Charlie\", \"Delta\"]\n",
    "\n",
    "    for i in range(len(student_list)):\n",
    "        student = Student(names[i], student_list[i][0], student_list[i][1], student_list[i][2], student_list[i][3])\n",
    "        personality(student)\n",
    "        skills(student)\n",
    "        studygroup.append(student)\n",
    "    \n",
    "    return data_collect(studygroup, student_list), studygroup"
   ]
  },
  {
   "cell_type": "markdown",
   "metadata": {},
   "source": [
    "## Creating the ABM"
   ]
  },
  {
   "cell_type": "markdown",
   "metadata": {},
   "source": [
    "### Generating True Solution"
   ]
  },
  {
   "cell_type": "code",
   "execution_count": 740,
   "metadata": {},
   "outputs": [],
   "source": [
    "def true_solution_generator(n_elements, range_elements):\n",
    "    '''\n",
    "    create a list of random numbers that will serve as the true solution that the agents need to find \n",
    "    '''\n",
    "    true_solution = []\n",
    "    for i in range(n_elements):\n",
    "        true_solution.append(random.randint(range_elements[0], range_elements[1]))\n",
    "\n",
    "    return true_solution, range_elements"
   ]
  },
  {
   "cell_type": "markdown",
   "metadata": {},
   "source": [
    "### Generating Individual Solutions"
   ]
  },
  {
   "cell_type": "code",
   "execution_count": 741,
   "metadata": {},
   "outputs": [],
   "source": [
    "def individual_solutions_generator(studygroup, true_solution, range_elements):\n",
    "    '''\n",
    "    #function to calculate the individual solutions of the agents given a study group dataframe and a true solution\n",
    "    '''\n",
    "    for student in studygroup[1]: # loop for each individual\n",
    "        Ind_Solution_lst = []\n",
    "        \n",
    "        for i in range(len(true_solution)): # loop for each part-exercise\n",
    "            coin_toss = np.random.binomial(1, student.Academic_Skill, 1)[0] # biased-coin flip\n",
    "            if coin_toss == 1:\n",
    "                Ind_Solution_lst.append(true_solution[i])\n",
    "            else:\n",
    "                Ind_Solution_lst.append(random.randint(range_elements[0], range_elements[1]))\n",
    "        \n",
    "        student.Ind_Solution = Ind_Solution_lst"
   ]
  },
  {
   "cell_type": "markdown",
   "metadata": {},
   "source": [
    "## Collaborative Problem Solving"
   ]
  },
  {
   "cell_type": "markdown",
   "metadata": {},
   "source": [
    "##### Workflow notes\n",
    "1. Who presents their solution e.g. agent A presents their solution to agent B, C, D -> THE PROPOSED SOLUTION\n",
    "    -> Based on Extraversion score (Highest extraversion score is the most likely to present their solution)\n",
    "2. According to an Agreeableness score (Social score for now) of the other agents (and maybe a Trustworthiness score of agent proposing), agents will update their solution\n",
    "3. The solutions of the agents will be checked, if all they agree, this is their final solution. If not, the process will be repeated for a max of X ticks. If the groups do not converge, an accuracy score will still be calculated. "
   ]
  },
  {
   "cell_type": "code",
   "execution_count": 742,
   "metadata": {},
   "outputs": [
    {
     "data": {
      "text/plain": [
       "'\\ndef collaborative_solution(studygroup, max_ticks):\\n    max_ticks = max_ticks #turns in the simulation\\n    n_ticks = 0\\n    \\n    # extracting all 4 students\\n    Alfa = studygroup[1][0]\\n    Bravo = studygroup[1][1]\\n    Charlie = studygroup[1][2]\\n    Delta = studygroup[1][3]\\n\\n    student_list = [Alfa, Bravo, Charlie, Delta]\\n    presenter_order = []\\n    proposed_solutions = []\\n    original_solutions = [Alfa.Ind_Solution, Bravo.Ind_Solution, Charlie.Ind_Solution, Delta.Ind_Solution]\\n\\n    while (n_ticks != max_ticks):\\n        \\n        # Starting a Round\\n        presenter_name = random.choices([Alfa.Name, Bravo.Name, Charlie.Name, Delta.Name], weights = [Alfa.ExScore, Bravo.ExScore, Charlie.ExScore, Delta.ExScore], k = 1)[0] # selecting the presenter of the round based on weighted random draw from extraversion scores\\n\\n        presenter_order.append(presenter_name)\\n\\n        for student in student_list:\\n            if student.Name == presenter_name:\\n                Proposed_Solution = student.Ind_Solution\\n                proposed_solutions.append(Proposed_Solution)\\n\\n        for student in student_list:\\n            for i in range(len(Proposed_Solution)): # looping through all part-exercises and evaluating against proposed solution.\\n                coin_toss = np.random.binomial(1, student.Social_Skill, 1)[0] #high social skill has a greater chance of accepting the proposal\\n                if coin_toss == 1:\\n                    student.Ind_Solution[i] = Proposed_Solution[i]\\n                else:\\n                    student.Ind_Solution[i] = student.Ind_Solution[i]\\n        \\n\\n        n_ticks = n_ticks + 1 #adding a tick to the simulation\\n\\n    \\n    return Proposed_Solution, n_ticks, presenter_order, proposed_solutions\\n\\n'"
      ]
     },
     "execution_count": 742,
     "metadata": {},
     "output_type": "execute_result"
    }
   ],
   "source": [
    "'''\n",
    "def collaborative_solution(studygroup, max_ticks):\n",
    "    max_ticks = max_ticks #turns in the simulation\n",
    "    n_ticks = 0\n",
    "    \n",
    "    # extracting all 4 students\n",
    "    Alfa = studygroup[1][0]\n",
    "    Bravo = studygroup[1][1]\n",
    "    Charlie = studygroup[1][2]\n",
    "    Delta = studygroup[1][3]\n",
    "\n",
    "    student_list = [Alfa, Bravo, Charlie, Delta]\n",
    "    presenter_order = []\n",
    "    proposed_solutions = []\n",
    "    original_solutions = [Alfa.Ind_Solution, Bravo.Ind_Solution, Charlie.Ind_Solution, Delta.Ind_Solution]\n",
    "\n",
    "    while (n_ticks != max_ticks):\n",
    "        \n",
    "        # Starting a Round\n",
    "        presenter_name = random.choices([Alfa.Name, Bravo.Name, Charlie.Name, Delta.Name], weights = [Alfa.ExScore, Bravo.ExScore, Charlie.ExScore, Delta.ExScore], k = 1)[0] # selecting the presenter of the round based on weighted random draw from extraversion scores\n",
    "\n",
    "        presenter_order.append(presenter_name)\n",
    "\n",
    "        for student in student_list:\n",
    "            if student.Name == presenter_name:\n",
    "                Proposed_Solution = student.Ind_Solution\n",
    "                proposed_solutions.append(Proposed_Solution)\n",
    "\n",
    "        for student in student_list:\n",
    "            for i in range(len(Proposed_Solution)): # looping through all part-exercises and evaluating against proposed solution.\n",
    "                coin_toss = np.random.binomial(1, student.Social_Skill, 1)[0] #high social skill has a greater chance of accepting the proposal\n",
    "                if coin_toss == 1:\n",
    "                    student.Ind_Solution[i] = Proposed_Solution[i]\n",
    "                else:\n",
    "                    student.Ind_Solution[i] = student.Ind_Solution[i]\n",
    "        \n",
    "\n",
    "        n_ticks = n_ticks + 1 #adding a tick to the simulation\n",
    "\n",
    "    \n",
    "    return Proposed_Solution, n_ticks, presenter_order, proposed_solutions\n",
    "\n",
    "'''"
   ]
  },
  {
   "cell_type": "code",
   "execution_count": 743,
   "metadata": {},
   "outputs": [],
   "source": [
    "def collaborative_solution(studygroup, max_ticks):\n",
    "    max_ticks = max_ticks #turns in the simulation\n",
    "    n_ticks = 0\n",
    "    \n",
    "    # extracting all 4 students\n",
    "    Alfa = studygroup[1][0]\n",
    "    Bravo = studygroup[1][1]\n",
    "    Charlie = studygroup[1][2]\n",
    "    Delta = studygroup[1][3]\n",
    "\n",
    "    student_list = [Alfa, Bravo, Charlie, Delta]\n",
    "    presenter_order = []\n",
    "    proposed_solutions = []\n",
    "    original_solutions = [Alfa.Ind_Solution, Bravo.Ind_Solution, Charlie.Ind_Solution, Delta.Ind_Solution]\n",
    "\n",
    "    while (Alfa.Ind_Solution != Bravo.Ind_Solution) and (Bravo.Ind_Solution != Charlie.Ind_Solution) and (Charlie.Ind_Solution != Delta.Ind_Solution) or (n_ticks != max_ticks):\n",
    "        # Starting a Round\n",
    "        presenter_name = random.choices([Alfa.Name, Bravo.Name, Charlie.Name, Delta.Name], weights = [Alfa.ExScore, Bravo.ExScore, Charlie.ExScore, Delta.ExScore], k = 1)[0] # selecting the presenter of the round based on weighted random draw from extraversion scores\n",
    "        \n",
    "        presenter_order.append(presenter_name)\n",
    "\n",
    "        Proposed_Solution = eval(presenter_name).Ind_Solution\n",
    "        print(Proposed_Solution)\n",
    "\n",
    "        for student in student_list:\n",
    "            if student == eval(presenter_name):\n",
    "                pass\n",
    "            for i in range(len(Proposed_Solution)): # looping through all part-exercises and evaluating against proposed solution.\n",
    "                coin_toss = np.random.binomial(1, 0.5, 1)[0] #high social skill has a greater chance of accepting the proposal\n",
    "                if coin_toss == 1:\n",
    "                    student.Ind_Solution[i] = Proposed_Solution[i]\n",
    "                else:\n",
    "                    student.Ind_Solution[i] = student.Ind_Solution[i]\n",
    "        \n",
    "\n",
    "        n_ticks = n_ticks + 1 #adding a tick to the simulation\n",
    "\n",
    "    \n",
    "    return presenter_order, n_ticks #Proposed_Solution, n_ticks, proposed_solutions\n"
   ]
  },
  {
   "cell_type": "markdown",
   "metadata": {},
   "source": [
    "# TEST RUN"
   ]
  },
  {
   "cell_type": "code",
   "execution_count": 744,
   "metadata": {},
   "outputs": [],
   "source": [
    "student_list_test = [\"ESTJ\", \"ISTJ\", \"ENTP\", \"INFJ\"]"
   ]
  },
  {
   "cell_type": "code",
   "execution_count": 745,
   "metadata": {},
   "outputs": [],
   "source": [
    "studygroup1 = StudyGroup(student_list_test)"
   ]
  },
  {
   "cell_type": "code",
   "execution_count": 746,
   "metadata": {},
   "outputs": [
    {
     "name": "stdout",
     "output_type": "stream",
     "text": [
      "      Name  type       E/I       S/N       T/F       J/P  Academic    Social\n",
      "0     Alfa  ESTJ  0.772516  0.567816  0.714290  0.691372  0.420834  0.674626\n",
      "1    Bravo  ISTJ  0.447733  0.558782  0.616180  0.655558  0.463835  0.487286\n",
      "2  Charlie  ENTP  0.928434  0.420552  0.630294  0.396926  0.520523  0.771558\n",
      "3    Delta  INFJ  0.269379  0.373559  0.293883  0.573706  0.515513  0.328128\n"
     ]
    }
   ],
   "source": [
    "print(studygroup1[0])"
   ]
  },
  {
   "cell_type": "code",
   "execution_count": 747,
   "metadata": {},
   "outputs": [],
   "source": [
    "true_solution_test = true_solution_generator(5, [1, 9])"
   ]
  },
  {
   "cell_type": "code",
   "execution_count": 748,
   "metadata": {},
   "outputs": [
    {
     "data": {
      "text/plain": [
       "[8, 2, 2, 9, 7]"
      ]
     },
     "execution_count": 748,
     "metadata": {},
     "output_type": "execute_result"
    }
   ],
   "source": [
    "true_solution_test[0]"
   ]
  },
  {
   "cell_type": "code",
   "execution_count": 749,
   "metadata": {},
   "outputs": [],
   "source": [
    "individual_solutions_generator(studygroup1, true_solution_test[0], true_solution_test[1])"
   ]
  },
  {
   "cell_type": "code",
   "execution_count": 750,
   "metadata": {},
   "outputs": [
    {
     "name": "stdout",
     "output_type": "stream",
     "text": [
      "Alfa [4, 2, 2, 9, 7]\n",
      "Bravo [8, 2, 6, 6, 7]\n",
      "Charlie [8, 2, 2, 6, 2]\n",
      "Delta [5, 3, 5, 8, 7]\n"
     ]
    }
   ],
   "source": [
    "for student in studygroup1[1]:\n",
    "    print(student.Name, student.Ind_Solution)"
   ]
  },
  {
   "cell_type": "code",
   "execution_count": 751,
   "metadata": {},
   "outputs": [
    {
     "name": "stdout",
     "output_type": "stream",
     "text": [
      "[4, 2, 2, 9, 7]\n",
      "[4, 2, 2, 9, 7]\n",
      "[4, 3, 2, 9, 7]\n",
      "[4, 3, 2, 9, 7]\n",
      "[4, 3, 2, 9, 7]\n",
      "[4, 3, 2, 9, 7]\n",
      "[4, 3, 2, 9, 7]\n",
      "[4, 3, 2, 9, 7]\n",
      "[4, 3, 2, 9, 7]\n",
      "[4, 3, 2, 9, 7]\n",
      "[4, 3, 2, 9, 7]\n",
      "[4, 3, 2, 9, 7]\n",
      "[4, 3, 2, 9, 7]\n",
      "[4, 3, 2, 9, 7]\n",
      "[4, 3, 2, 9, 7]\n",
      "[4, 3, 2, 9, 7]\n",
      "[4, 3, 2, 9, 7]\n",
      "[4, 3, 2, 9, 7]\n",
      "[4, 3, 2, 9, 7]\n",
      "[4, 3, 2, 9, 7]\n",
      "[4, 3, 2, 9, 7]\n",
      "[4, 3, 2, 9, 7]\n",
      "[4, 3, 2, 9, 7]\n",
      "[4, 3, 2, 9, 7]\n",
      "[4, 3, 2, 9, 7]\n",
      "[4, 3, 2, 9, 7]\n",
      "[4, 3, 2, 9, 7]\n",
      "[4, 3, 2, 9, 7]\n",
      "[4, 3, 2, 9, 7]\n",
      "[4, 3, 2, 9, 7]\n",
      "[4, 3, 2, 9, 7]\n",
      "[4, 3, 2, 9, 7]\n",
      "[4, 3, 2, 9, 7]\n",
      "[4, 3, 2, 9, 7]\n",
      "[4, 3, 2, 9, 7]\n",
      "[4, 3, 2, 9, 7]\n",
      "[4, 3, 2, 9, 7]\n",
      "[4, 3, 2, 9, 7]\n",
      "[4, 3, 2, 9, 7]\n",
      "[4, 3, 2, 9, 7]\n",
      "[4, 3, 2, 9, 7]\n",
      "[4, 3, 2, 9, 7]\n",
      "[4, 3, 2, 9, 7]\n",
      "[4, 3, 2, 9, 7]\n",
      "[4, 3, 2, 9, 7]\n",
      "[4, 3, 2, 9, 7]\n",
      "[4, 3, 2, 9, 7]\n",
      "[4, 3, 2, 9, 7]\n",
      "[4, 3, 2, 9, 7]\n",
      "[4, 3, 2, 9, 7]\n",
      "[4, 3, 2, 9, 7]\n",
      "[4, 3, 2, 9, 7]\n",
      "[4, 3, 2, 9, 7]\n",
      "[4, 3, 2, 9, 7]\n",
      "[4, 3, 2, 9, 7]\n",
      "[4, 3, 2, 9, 7]\n",
      "[4, 3, 2, 9, 7]\n",
      "[4, 3, 2, 9, 7]\n",
      "[4, 3, 2, 9, 7]\n",
      "[4, 3, 2, 9, 7]\n",
      "[4, 3, 2, 9, 7]\n",
      "[4, 3, 2, 9, 7]\n",
      "[4, 3, 2, 9, 7]\n",
      "[4, 3, 2, 9, 7]\n",
      "[4, 3, 2, 9, 7]\n",
      "[4, 3, 2, 9, 7]\n",
      "[4, 3, 2, 9, 7]\n",
      "[4, 3, 2, 9, 7]\n",
      "[4, 3, 2, 9, 7]\n",
      "[4, 3, 2, 9, 7]\n",
      "[4, 3, 2, 9, 7]\n",
      "[4, 3, 2, 9, 7]\n",
      "[4, 3, 2, 9, 7]\n",
      "[4, 3, 2, 9, 7]\n",
      "[4, 3, 2, 9, 7]\n",
      "[4, 3, 2, 9, 7]\n",
      "[4, 3, 2, 9, 7]\n",
      "[4, 3, 2, 9, 7]\n",
      "[4, 3, 2, 9, 7]\n",
      "[4, 3, 2, 9, 7]\n",
      "[4, 3, 2, 9, 7]\n",
      "[4, 3, 2, 9, 7]\n",
      "[4, 3, 2, 9, 7]\n",
      "[4, 3, 2, 9, 7]\n",
      "[4, 3, 2, 9, 7]\n",
      "[4, 3, 2, 9, 7]\n",
      "[4, 3, 2, 9, 7]\n",
      "[4, 3, 2, 9, 7]\n",
      "[4, 3, 2, 9, 7]\n",
      "[4, 3, 2, 9, 7]\n",
      "[4, 3, 2, 9, 7]\n",
      "[4, 3, 2, 9, 7]\n",
      "[4, 3, 2, 9, 7]\n",
      "[4, 3, 2, 9, 7]\n",
      "[4, 3, 2, 9, 7]\n",
      "[4, 3, 2, 9, 7]\n",
      "[4, 3, 2, 9, 7]\n",
      "[4, 3, 2, 9, 7]\n",
      "[4, 3, 2, 9, 7]\n",
      "[4, 3, 2, 9, 7]\n"
     ]
    },
    {
     "data": {
      "text/plain": [
       "(['Alfa',\n",
       "  'Alfa',\n",
       "  'Delta',\n",
       "  'Alfa',\n",
       "  'Alfa',\n",
       "  'Charlie',\n",
       "  'Alfa',\n",
       "  'Alfa',\n",
       "  'Alfa',\n",
       "  'Charlie',\n",
       "  'Delta',\n",
       "  'Alfa',\n",
       "  'Alfa',\n",
       "  'Alfa',\n",
       "  'Delta',\n",
       "  'Alfa',\n",
       "  'Alfa',\n",
       "  'Bravo',\n",
       "  'Delta',\n",
       "  'Alfa',\n",
       "  'Charlie',\n",
       "  'Alfa',\n",
       "  'Charlie',\n",
       "  'Charlie',\n",
       "  'Charlie',\n",
       "  'Charlie',\n",
       "  'Delta',\n",
       "  'Alfa',\n",
       "  'Charlie',\n",
       "  'Charlie',\n",
       "  'Charlie',\n",
       "  'Charlie',\n",
       "  'Alfa',\n",
       "  'Alfa',\n",
       "  'Charlie',\n",
       "  'Charlie',\n",
       "  'Charlie',\n",
       "  'Alfa',\n",
       "  'Delta',\n",
       "  'Bravo',\n",
       "  'Alfa',\n",
       "  'Bravo',\n",
       "  'Bravo',\n",
       "  'Alfa',\n",
       "  'Alfa',\n",
       "  'Alfa',\n",
       "  'Charlie',\n",
       "  'Alfa',\n",
       "  'Charlie',\n",
       "  'Charlie',\n",
       "  'Charlie',\n",
       "  'Alfa',\n",
       "  'Charlie',\n",
       "  'Bravo',\n",
       "  'Charlie',\n",
       "  'Alfa',\n",
       "  'Bravo',\n",
       "  'Alfa',\n",
       "  'Alfa',\n",
       "  'Alfa',\n",
       "  'Bravo',\n",
       "  'Charlie',\n",
       "  'Alfa',\n",
       "  'Charlie',\n",
       "  'Alfa',\n",
       "  'Charlie',\n",
       "  'Bravo',\n",
       "  'Bravo',\n",
       "  'Bravo',\n",
       "  'Bravo',\n",
       "  'Charlie',\n",
       "  'Alfa',\n",
       "  'Charlie',\n",
       "  'Charlie',\n",
       "  'Charlie',\n",
       "  'Delta',\n",
       "  'Bravo',\n",
       "  'Bravo',\n",
       "  'Bravo',\n",
       "  'Alfa',\n",
       "  'Alfa',\n",
       "  'Charlie',\n",
       "  'Charlie',\n",
       "  'Bravo',\n",
       "  'Delta',\n",
       "  'Charlie',\n",
       "  'Alfa',\n",
       "  'Alfa',\n",
       "  'Alfa',\n",
       "  'Delta',\n",
       "  'Bravo',\n",
       "  'Charlie',\n",
       "  'Alfa',\n",
       "  'Bravo',\n",
       "  'Alfa',\n",
       "  'Charlie',\n",
       "  'Charlie',\n",
       "  'Delta',\n",
       "  'Delta',\n",
       "  'Charlie'],\n",
       " 100)"
      ]
     },
     "execution_count": 751,
     "metadata": {},
     "output_type": "execute_result"
    }
   ],
   "source": [
    "collaborative_solution(studygroup1, 100)"
   ]
  },
  {
   "cell_type": "code",
   "execution_count": null,
   "metadata": {},
   "outputs": [],
   "source": []
  }
 ],
 "metadata": {
  "interpreter": {
   "hash": "c33078cfce3b48701940fc5b5dd0b6d9b895502e5da868bfe1d8ab2cb40e85d4"
  },
  "kernelspec": {
   "display_name": "Python 3.8.8",
   "language": "python",
   "name": "python3"
  },
  "language_info": {
   "codemirror_mode": {
    "name": "ipython",
    "version": 3
   },
   "file_extension": ".py",
   "mimetype": "text/x-python",
   "name": "python",
   "nbconvert_exporter": "python",
   "pygments_lexer": "ipython3",
   "version": "3.8.8"
  },
  "orig_nbformat": 4
 },
 "nbformat": 4,
 "nbformat_minor": 2
}
