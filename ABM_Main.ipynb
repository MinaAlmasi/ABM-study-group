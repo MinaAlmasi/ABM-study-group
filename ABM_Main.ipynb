{
 "cells": [
  {
   "cell_type": "markdown",
   "metadata": {},
   "source": [
    "# Agent Based Model: Main Notebook"
   ]
  },
  {
   "cell_type": "code",
   "execution_count": 51,
   "metadata": {},
   "outputs": [],
   "source": [
    "import numpy.random as rnd\n",
    "import pandas as pd \n",
    "from matplotlib import pyplot as plt"
   ]
  },
  {
   "cell_type": "markdown",
   "metadata": {},
   "source": [
    "#### Workflow Notes \n",
    "* Draw Students with values within the four dimensions \n",
    "* Function that creates a study group (draw 4 students) -> Measure homogeniety \n",
    "* Task \n"
   ]
  },
  {
   "cell_type": "markdown",
   "metadata": {},
   "source": [
    "## Creating Study Groups"
   ]
  },
  {
   "cell_type": "markdown",
   "metadata": {},
   "source": [
    "#### Practical Functions"
   ]
  },
  {
   "cell_type": "code",
   "execution_count": 52,
   "metadata": {},
   "outputs": [],
   "source": [
    "def n_sampler(size):\n",
    "    '''\n",
    "    sample a number of random numbers from the beta distribution\n",
    "    '''\n",
    "    max_vals = []\n",
    "    min_vals = []\n",
    "\n",
    "    beta_dist = rnd.beta(2.5, 2.5, size)\n",
    "\n",
    "    for i in range(size):\n",
    "        if beta_dist[i] >= 0.5:\n",
    "            max_vals.append(beta_dist[i])\n",
    "        else:\n",
    "            min_vals.append(beta_dist[i])\n",
    "    \n",
    "    return max_vals, min_vals\n",
    "\n",
    "max_vals, min_vals = n_sampler(1000)"
   ]
  },
  {
   "cell_type": "code",
   "execution_count": 53,
   "metadata": {},
   "outputs": [],
   "source": [
    "def data_collect(studygroup, student_list):\n",
    "    '''\n",
    "    function to collect data from the simulation\n",
    "    '''\n",
    "    ID_list = []\n",
    "    extraversion_list = []\n",
    "    sensing_list = []\n",
    "    thinking_list = []\n",
    "    judging_list = []\n",
    "\n",
    "    for student in studygroup:\n",
    "        ID_list.append(student.ID)\n",
    "        extraversion_list.append(student.Extraversion())\n",
    "        sensing_list.append(student.Sensing()) \n",
    "        thinking_list.append(student.Thinking())\n",
    "        judging_list.append(student.Judging())\n",
    "    \n",
    "    data = pd.DataFrame({'ID': ID_list, \n",
    "                        'type': student_list, \n",
    "                        'E/I': extraversion_list, \n",
    "                        'S/N': sensing_list,\n",
    "                        'T/F': thinking_list,\n",
    "                        'J/P': judging_list})\n",
    "\n",
    "    return data"
   ]
  },
  {
   "cell_type": "markdown",
   "metadata": {},
   "source": [
    "#### Create Study Group"
   ]
  },
  {
   "cell_type": "code",
   "execution_count": 54,
   "metadata": {},
   "outputs": [],
   "source": [
    "## Defining the Students ##\n",
    "class Student():\n",
    "    def __init__(self, ID, Ex, Se, Th, Ju):\n",
    "        self.ID  = ID\n",
    "        self.Ex = Ex #Extraversion vs Introversion dimension\n",
    "        self.Se = Se #Sensing vs Intuition dimension\n",
    "        self.Th = Th #Thinking vs Feeling dimension\n",
    "        self.Ju = Ju #Judging vs Perceiving dimension\n",
    "\n",
    "    def Extraversion(self):\n",
    "        if self.Ex == \"E\":\n",
    "            self.ExScore = max_vals[0]\n",
    "            del max_vals[0]\n",
    "            return self.ExScore\n",
    "        else:\n",
    "            self.ExScore = min_vals[0]\n",
    "            del min_vals[0]\n",
    "            return self.ExScore\n",
    "\n",
    "    def Sensing(self):\n",
    "        if self.Se == \"S\":\n",
    "            self.SeScore = max_vals[0]\n",
    "            del max_vals[0]\n",
    "            return self.SeScore\n",
    "        else:\n",
    "            self.SeScore = min_vals[0]\n",
    "            del min_vals[0]\n",
    "            return self.SeScore\n",
    "    \n",
    "    def Thinking(self):\n",
    "        if self.Th == \"T\":\n",
    "            self.ThScore = max_vals[0]\n",
    "            del max_vals[0]\n",
    "            return self.ThScore\n",
    "        else: \n",
    "            self.ThScore = min_vals[0]\n",
    "            del min_vals[0]\n",
    "            return self.ThScore\n",
    "    \n",
    "    def Judging(self):\n",
    "        if self.Ju == \"J\":\n",
    "            self.JuScore = max_vals[0]\n",
    "            del max_vals[0]\n",
    "            return self.JuScore\n",
    "        else: \n",
    "            self.ThScore = min_vals[0]\n",
    "            del min_vals[0]\n",
    "            return self.ThScore"
   ]
  },
  {
   "cell_type": "code",
   "execution_count": 55,
   "metadata": {},
   "outputs": [],
   "source": [
    "def StudyGroup(student_list):\n",
    "    studygroup = []\n",
    "\n",
    "    for i in range(len(student_list)):\n",
    "        student = Student(i+1, student_list[i][0], student_list[i][1], student_list[i][2], student_list[i][3])\n",
    "        studygroup.append(student)\n",
    "    \n",
    "    return data_collect(studygroup, student_list)"
   ]
  },
  {
   "cell_type": "code",
   "execution_count": 56,
   "metadata": {},
   "outputs": [
    {
     "name": "stdout",
     "output_type": "stream",
     "text": [
      "   ID  type       E/I       S/N       T/F       J/P\n",
      "0   1  ESTJ  0.542167  0.692618  0.776069  0.575923\n",
      "1   2  ISTJ  0.276957  0.847295  0.722213  0.626004\n",
      "2   3  ENTP  0.584871  0.468179  0.753029  0.109836\n",
      "3   4  INFJ  0.305042  0.473969  0.160686  0.554537\n"
     ]
    }
   ],
   "source": [
    "student_list_test = [\"ESTJ\", \"ISTJ\", \"ENTP\", \"INFJ\"]\n",
    "\n",
    "studygroup1 = StudyGroup(student_list_test)\n",
    "\n",
    "print(studygroup1)\n"
   ]
  },
  {
   "cell_type": "code",
   "execution_count": 57,
   "metadata": {},
   "outputs": [
    {
     "name": "stdout",
     "output_type": "stream",
     "text": [
      "   ID  type       E/I       S/N       T/F       J/P\n",
      "0   1  ESTJ  0.645753  0.846695  0.839897  0.852751\n",
      "1   2  ISTJ  0.345219  0.866033  0.807983  0.543229\n",
      "2   3  ENTP  0.864734  0.293909  0.828453  0.128762\n",
      "3   4  INFJ  0.295856  0.473946  0.293002  0.700003\n"
     ]
    }
   ],
   "source": [
    "student_list_test_2 = [\"ESTJ\", \"ISTJ\", \"ENTP\", \"INFJ\"]\n",
    "\n",
    "studygroup2 = StudyGroup(student_list_test_2)\n",
    "\n",
    "print(studygroup2)"
   ]
  },
  {
   "cell_type": "code",
   "execution_count": 59,
   "metadata": {},
   "outputs": [
    {
     "name": "stdout",
     "output_type": "stream",
     "text": [
      "   ID  type       E/I       S/N       T/F       J/P\n",
      "0   1  ESTJ  0.531731  0.737082  0.734511  0.681113\n",
      "1   2  ENTJ  0.701183  0.151122  0.713991  0.830095\n",
      "2   3  ENTP  0.838384  0.295055  0.504167  0.228464\n",
      "3   4  ESTP  0.561616  0.590703  0.502538  0.177439\n"
     ]
    }
   ],
   "source": [
    "student_list_test_3 = [\"ESTJ\", \"ENTJ\", \"ENTP\", \"ESTP\"]\n",
    "\n",
    "studygroup3 = StudyGroup(student_list_test_3)\n",
    "\n",
    "print(studygroup3)"
   ]
  },
  {
   "cell_type": "markdown",
   "metadata": {},
   "source": [
    "## Creating the ABM"
   ]
  },
  {
   "cell_type": "markdown",
   "metadata": {},
   "source": []
  }
 ],
 "metadata": {
  "interpreter": {
   "hash": "bbfd61b9771b25adb48756b02878e03699aa9c48f369525daaaa61fe69c4b1b3"
  },
  "kernelspec": {
   "display_name": "Python 3.9.7 ('methods3')",
   "language": "python",
   "name": "python3"
  },
  "language_info": {
   "codemirror_mode": {
    "name": "ipython",
    "version": 3
   },
   "file_extension": ".py",
   "mimetype": "text/x-python",
   "name": "python",
   "nbconvert_exporter": "python",
   "pygments_lexer": "ipython3",
   "version": "3.9.7"
  },
  "orig_nbformat": 4
 },
 "nbformat": 4,
 "nbformat_minor": 2
}
