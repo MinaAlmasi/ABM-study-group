{
 "cells": [
  {
   "cell_type": "markdown",
   "metadata": {},
   "source": [
    "# Agent Based Model: Main Notebook"
   ]
  },
  {
   "cell_type": "code",
   "execution_count": 125,
   "metadata": {},
   "outputs": [],
   "source": [
    "import numpy.random as rnd\n",
    "import pandas as pd \n",
    "from matplotlib import pyplot as plt\n",
    "import random"
   ]
  },
  {
   "cell_type": "markdown",
   "metadata": {},
   "source": [
    "#### Workflow Notes \n",
    "* Draw Students with values within the four dimensions \n",
    "* Function that creates a study group (draw 4 students) -> Measure homogeniety \n",
    "* Task \n"
   ]
  },
  {
   "cell_type": "markdown",
   "metadata": {},
   "source": [
    "## Creating Study Groups"
   ]
  },
  {
   "cell_type": "markdown",
   "metadata": {},
   "source": [
    "#### Practical Functions"
   ]
  },
  {
   "cell_type": "code",
   "execution_count": 126,
   "metadata": {},
   "outputs": [],
   "source": [
    "def n_sampler(size):\n",
    "    '''\n",
    "    sample a number of random numbers from the beta distribution\n",
    "    '''\n",
    "    max_vals = []\n",
    "    min_vals = []\n",
    "\n",
    "    beta_dist = rnd.beta(2.5, 2.5, size)\n",
    "\n",
    "    for i in range(size):\n",
    "        if beta_dist[i] >= 0.5:\n",
    "            max_vals.append(beta_dist[i])\n",
    "        else:\n",
    "            min_vals.append(beta_dist[i])\n",
    "    \n",
    "    return max_vals, min_vals\n",
    "\n",
    "max_vals, min_vals = n_sampler(1000)"
   ]
  },
  {
   "cell_type": "code",
   "execution_count": 136,
   "metadata": {},
   "outputs": [],
   "source": [
    "def data_collect(studygroup, student_list):\n",
    "    '''\n",
    "    function to collect data from the simulation\n",
    "    '''\n",
    "    ID_list = []\n",
    "    extraversion_list = []\n",
    "    sensing_list = []\n",
    "    thinking_list = []\n",
    "    judging_list = []\n",
    "    academic_list = [] \n",
    "    social_list = []\n",
    "    \n",
    "    for student in studygroup:\n",
    "        ID_list.append(student.ID)\n",
    "        extraversion_list.append(student.Extraversion())\n",
    "        sensing_list.append(student.Sensing()) \n",
    "        thinking_list.append(student.Thinking())\n",
    "        judging_list.append(student.Judging())\n",
    "    \n",
    "    \n",
    "    for i in range(len(studygroup)):\n",
    "        academic_list.append(student.Academic_Skill(extraversion_list[i], sensing_list[i], thinking_list[i], judging_list[i]))\n",
    "        social_list.append(student.Social_Skill(extraversion_list[i], sensing_list[i], thinking_list[i], judging_list[i]))\n",
    "\n",
    "    data = pd.DataFrame({'ID': ID_list, \n",
    "                        'type': student_list, \n",
    "                        'E/I': extraversion_list, \n",
    "                        'S/N': sensing_list,\n",
    "                        'T/F': thinking_list,\n",
    "                        'J/P': judging_list, \n",
    "                        'Academic': academic_list,\n",
    "                        'Social': social_list})\n",
    "    \n",
    "    return data\n",
    "    "
   ]
  },
  {
   "cell_type": "markdown",
   "metadata": {},
   "source": [
    "#### Create Study Group"
   ]
  },
  {
   "cell_type": "code",
   "execution_count": 137,
   "metadata": {},
   "outputs": [],
   "source": [
    "## Defining the Students ##\n",
    "class Student():\n",
    "    def __init__(self, ID, Ex, Se, Th, Ju):\n",
    "        self.ID  = ID\n",
    "        self.Ex = Ex #Extraversion vs Introversion dimension\n",
    "        self.Se = Se #Sensing vs Intuition dimension\n",
    "        self.Th = Th #Thinking vs Feeling dimension\n",
    "        self.Ju = Ju #Judging vs Perceiving dimension\n",
    "\n",
    "    def Extraversion(self):\n",
    "        if self.Ex == \"E\":\n",
    "            self.ExScore = max_vals[0]\n",
    "            del max_vals[0]\n",
    "            return self.ExScore\n",
    "        else:\n",
    "            self.ExScore = min_vals[0]\n",
    "            del min_vals[0]\n",
    "            return self.ExScore\n",
    "\n",
    "    def Sensing(self):\n",
    "        if self.Se == \"S\":\n",
    "            self.SeScore = max_vals[0]\n",
    "            del max_vals[0]\n",
    "            return self.SeScore\n",
    "        else:\n",
    "            self.SeScore = min_vals[0]\n",
    "            del min_vals[0]\n",
    "            return self.SeScore\n",
    "    \n",
    "    def Thinking(self):\n",
    "        if self.Th == \"T\":\n",
    "            self.ThScore = max_vals[0]\n",
    "            del max_vals[0]\n",
    "            return self.ThScore\n",
    "        else: \n",
    "            self.ThScore = min_vals[0]\n",
    "            del min_vals[0]\n",
    "            return self.ThScore\n",
    "    \n",
    "    def Judging(self):\n",
    "        if self.Ju == \"J\":\n",
    "            self.JuScore = max_vals[0]\n",
    "            del max_vals[0]\n",
    "            return self.JuScore\n",
    "        else: \n",
    "            self.ThScore = min_vals[0]\n",
    "            del min_vals[0]\n",
    "            return self.ThScore\n",
    "    \n",
    "    def Academic_Skill(self, ExScore, SeScore, ThScore, JuScore):\n",
    "        return (1-ExScore)*0.15 + (1-SeScore)*0.35 + ThScore*0.20 + (1-JuScore)*0.30\n",
    "        \n",
    "    def Social_Skill(self, ExScore, SeScore, ThScore, JuScore):\n",
    "        return ExScore*0.50 + (1-SeScore)*0.10 + ThScore*0.30 + (1-JuScore)*0.10"
   ]
  },
  {
   "cell_type": "code",
   "execution_count": 138,
   "metadata": {},
   "outputs": [],
   "source": [
    "def StudyGroup(student_list):\n",
    "    '''\n",
    "    Create a study group of students\n",
    "    '''\n",
    "    studygroup = []\n",
    "\n",
    "    for i in range(len(student_list)):\n",
    "        student = Student(i+1, student_list[i][0], student_list[i][1], student_list[i][2], student_list[i][3])\n",
    "        studygroup.append(student)\n",
    "    \n",
    "    return data_collect(studygroup, student_list)"
   ]
  },
  {
   "cell_type": "code",
   "execution_count": 139,
   "metadata": {},
   "outputs": [
    {
     "name": "stdout",
     "output_type": "stream",
     "text": [
      "   ID  type       E/I       S/N       T/F       J/P  Academic    Social\n",
      "0   1  ESTJ  0.875363  0.740621  0.607738  0.700933  0.320746  0.675847\n",
      "1   2  ISTJ  0.225654  0.618409  0.893140  0.669063  0.527618  0.452022\n",
      "2   3  ENTP  0.902976  0.393821  0.711792  0.307600  0.576795  0.794883\n",
      "3   4  INFJ  0.289985  0.248742  0.447722  0.537221  0.597821  0.400713\n"
     ]
    }
   ],
   "source": [
    "student_list_test = [\"ESTJ\", \"ISTJ\", \"ENTP\", \"INFJ\"]\n",
    "\n",
    "studygroup1 = StudyGroup(student_list_test)\n",
    "\n",
    "\n",
    "print(studygroup1)"
   ]
  },
  {
   "cell_type": "code",
   "execution_count": 140,
   "metadata": {},
   "outputs": [
    {
     "name": "stdout",
     "output_type": "stream",
     "text": [
      "   ID  type       E/I       S/N       T/F       J/P  Academic    Social\n",
      "0   1  ESTJ  0.546684  0.880651  0.533365  0.632683  0.326638  0.482018\n",
      "1   2  ISTJ  0.372075  0.861868  0.729482  0.580414  0.414307  0.460654\n",
      "2   3  ENTP  0.609255  0.379271  0.521725  0.095022  0.651705  0.613716\n",
      "3   4  INFJ  0.248474  0.023402  0.373501  0.865302  0.569648  0.347417\n"
     ]
    }
   ],
   "source": [
    "student_list_test_2 = [\"ESTJ\", \"ISTJ\", \"ENTP\", \"INFJ\"]\n",
    "\n",
    "studygroup2 = StudyGroup(student_list_test_2)\n",
    "\n",
    "\n",
    "print(studygroup2)"
   ]
  },
  {
   "cell_type": "code",
   "execution_count": 141,
   "metadata": {},
   "outputs": [
    {
     "name": "stdout",
     "output_type": "stream",
     "text": [
      "   ID  type       E/I       S/N       T/F       J/P  Academic    Social\n",
      "0   1  ESTJ  0.704706  0.506880  0.609363  0.544241  0.475487  0.630050\n",
      "1   2  ENTJ  0.754587  0.393224  0.980034  0.644578  0.551817  0.767524\n",
      "2   3  ENTP  0.682566  0.382862  0.710270  0.309196  0.612909  0.685158\n",
      "3   4  ESTP  0.565736  0.752383  0.781182  0.468578  0.467469  0.595126\n"
     ]
    }
   ],
   "source": [
    "student_list_test_3 = [\"ESTJ\", \"ENTJ\", \"ENTP\", \"ESTP\"]\n",
    "\n",
    "studygroup3 = StudyGroup(student_list_test_3)\n",
    "\n",
    "print(studygroup3)"
   ]
  },
  {
   "cell_type": "markdown",
   "metadata": {},
   "source": [
    "## Creating the ABM"
   ]
  },
  {
   "cell_type": "code",
   "execution_count": 103,
   "metadata": {},
   "outputs": [],
   "source": [
    "def true_solution(n_elements, range_elements):\n",
    "    '''\n",
    "    create a list of random numbers that will serve as the true solution that the agents need to find \n",
    "    '''\n",
    "    solution = []\n",
    "    for i in range(n_elements):\n",
    "        solution.append(random.randint(range_elements[0], range_elements[1]))\n",
    "\n",
    "    return solution"
   ]
  },
  {
   "cell_type": "code",
   "execution_count": 143,
   "metadata": {},
   "outputs": [
    {
     "data": {
      "text/plain": [
       "0    0.475487\n",
       "1    0.551817\n",
       "2    0.612909\n",
       "3    0.467469\n",
       "Name: Academic, dtype: float64"
      ]
     },
     "execution_count": 143,
     "metadata": {},
     "output_type": "execute_result"
    }
   ],
   "source": [
    "true_solution(8, [1,9])\n",
    "studygroup3[\"Academic\"]"
   ]
  },
  {
   "cell_type": "code",
   "execution_count": 146,
   "metadata": {},
   "outputs": [],
   "source": [
    "def individual_solutions(student_df, true_solution):\n",
    "    '''\n",
    "    function to calculate the individual solutions of the agents given a study group dataframe and a true solution\n",
    "    '''\n",
    "\n",
    "    academic_skills = student_df[\"Academic\"]\n",
    "\n",
    "    for i in range(len(academic_skills)):\n",
    "        indi_solution = []\n",
    "        academic_skill = academic_skills[i]\n",
    "        \n",
    "        for i in range(len(true_solution)):\n",
    "            pass"
   ]
  },
  {
   "cell_type": "code",
   "execution_count": null,
   "metadata": {},
   "outputs": [],
   "source": []
  }
 ],
 "metadata": {
  "interpreter": {
   "hash": "bbfd61b9771b25adb48756b02878e03699aa9c48f369525daaaa61fe69c4b1b3"
  },
  "kernelspec": {
   "display_name": "Python 3.9.7 ('methods3')",
   "language": "python",
   "name": "python3"
  },
  "language_info": {
   "codemirror_mode": {
    "name": "ipython",
    "version": 3
   },
   "file_extension": ".py",
   "mimetype": "text/x-python",
   "name": "python",
   "nbconvert_exporter": "python",
   "pygments_lexer": "ipython3",
   "version": "3.9.7"
  },
  "orig_nbformat": 4
 },
 "nbformat": 4,
 "nbformat_minor": 2
}
