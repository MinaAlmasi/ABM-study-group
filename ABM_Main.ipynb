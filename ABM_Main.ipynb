{
 "cells": [
  {
   "cell_type": "markdown",
   "metadata": {},
   "source": [
    "# Agent Based Model: Main Notebook"
   ]
  },
  {
   "cell_type": "code",
   "execution_count": 5162,
   "metadata": {},
   "outputs": [],
   "source": [
    "import numpy.random as rnd\n",
    "import numpy as np\n",
    "import pandas as pd \n",
    "from matplotlib import pyplot as plt\n",
    "import random"
   ]
  },
  {
   "cell_type": "markdown",
   "metadata": {},
   "source": [
    "#### Workflow Notes \n",
    "* Draw Students with values within the four dimensions \n",
    "* Function that creates a study group (draw 4 students) -> Measure homogeniety \n",
    "* Task \n"
   ]
  },
  {
   "cell_type": "markdown",
   "metadata": {},
   "source": [
    "## Importing The Study Groups that are to be Tested"
   ]
  },
  {
   "cell_type": "code",
   "execution_count": 5163,
   "metadata": {},
   "outputs": [
    {
     "name": "stdout",
     "output_type": "stream",
     "text": [
      "['ESFJ', 'ESFJ', 'ESFJ', 'ESFJ']\n",
      "['ESTJ', 'ESTJ', 'ESTJ', 'ESTJ']\n",
      "['ISFJ', 'ISFJ', 'ISFJ', 'ISFJ']\n",
      "['ISTJ', 'ISTJ', 'ISTJ', 'ISTJ']\n",
      "['ENFP', 'ENFP', 'ENFP', 'ENFP']\n",
      "['ENFJ', 'ENFJ', 'ENFJ', 'ENFJ']\n",
      "['INFP', 'INFP', 'INFP', 'INFP']\n",
      "['INFJ', 'INFJ', 'INFJ', 'INFJ']\n",
      "['ENTP', 'ENTP', 'ENTP', 'ENTP']\n",
      "['ENTJ', 'ENTJ', 'ENTJ', 'ENTJ']\n",
      "['INTP', 'INTP', 'INTP', 'INTP']\n",
      "['INTJ', 'INTJ', 'INTJ', 'INTJ']\n",
      "['ESFP', 'ESFP', 'ESFP', 'ESFP']\n",
      "['ESTP', 'ESTP', 'ESTP', 'ESTP']\n",
      "['ISFP', 'ISFP', 'ISFP', 'ISFP']\n",
      "['ISTP', 'ISTP', 'ISTP', 'ISTP']\n"
     ]
    }
   ],
   "source": [
    "homogenous = pd.read_csv(\"Conditions/Homogenous.csv\")\n",
    "fiftyfifty = pd.read_csv(\"Conditions/FiftyFifty.csv\")\n",
    "heterogenous = pd.read_csv(\"Conditions/Heterogenous.csv\")\n",
    "\n",
    "\n",
    "for i in (range(len(homogenous.index))):\n",
    "    print(list(homogenous.iloc[i][1:5]))\n"
   ]
  },
  {
   "cell_type": "markdown",
   "metadata": {},
   "source": [
    "## Creating Study Groups"
   ]
  },
  {
   "cell_type": "markdown",
   "metadata": {},
   "source": [
    "#### Practical Functions"
   ]
  },
  {
   "cell_type": "code",
   "execution_count": 5164,
   "metadata": {},
   "outputs": [],
   "source": [
    "def n_sampler(size):\n",
    "    '''\n",
    "    sample a number of random numbers from the beta distribution\n",
    "    '''\n",
    "    max_vals = []\n",
    "    min_vals = []\n",
    "\n",
    "    beta_dist = rnd.beta(2.5, 2.5, size)\n",
    "\n",
    "    for i in range(size):\n",
    "        if beta_dist[i] >= 0.5:\n",
    "            max_vals.append(beta_dist[i])\n",
    "        else:\n",
    "            min_vals.append(beta_dist[i])\n",
    "    \n",
    "    return max_vals, min_vals\n",
    "\n",
    "max_vals, min_vals = n_sampler(1000000)"
   ]
  },
  {
   "cell_type": "code",
   "execution_count": 5165,
   "metadata": {},
   "outputs": [],
   "source": [
    "def data_collect(studygroup, student_list):\n",
    "    '''\n",
    "    function to collect data from the simulation\n",
    "    '''\n",
    "    Name_list = []\n",
    "    extraversion_list = []\n",
    "    sensing_list = []\n",
    "    thinking_list = []\n",
    "    judging_list = []\n",
    "    academic_list = []\n",
    "    \n",
    "    for student in studygroup:\n",
    "        Name_list.append(student.Name)\n",
    "        extraversion_list.append(student.ExScore)\n",
    "        sensing_list.append(student.SeScore) \n",
    "        thinking_list.append(student.ThScore)\n",
    "        judging_list.append(student.JuScore)\n",
    "        academic_list.append(student.Academic_Skill)\n",
    "\n",
    "    data = pd.DataFrame({'Name': Name_list, \n",
    "                        'type': student_list, \n",
    "                        'E/I': extraversion_list, \n",
    "                        'S/N': sensing_list,\n",
    "                        'T/F': thinking_list,\n",
    "                        'J/P': judging_list, \n",
    "                        'Academic': academic_list})\n",
    "    \n",
    "    return data\n",
    "    "
   ]
  },
  {
   "cell_type": "markdown",
   "metadata": {},
   "source": [
    "#### Create Study Group"
   ]
  },
  {
   "cell_type": "code",
   "execution_count": 5166,
   "metadata": {},
   "outputs": [],
   "source": [
    "## Defining the Students ##\n",
    "class Student():\n",
    "    def __init__(self, Name, Ex, Se, Th, Ju):\n",
    "        self.Name  = Name\n",
    "\n",
    "        ## Personality Traits ## \n",
    "        self.Ex = Ex #Extraversion vs Introversion dimension\n",
    "        self.Se = Se #Sensing vs Intuition dimension\n",
    "        self.Th = Th #Thinking vs Feeling dimension\n",
    "        self.Ju = Ju #Judging vs Perceiving dimension\n",
    "\n",
    "        ## Personality Scores calculated with the personality() function##\n",
    "        self.ExScore = 0\n",
    "        self.SeScore = 0\n",
    "        self.ThScore = 0\n",
    "        self.JuScore = 0\n",
    "        \n",
    "        self.Scores = [] #list of all personality scores\n",
    "\n",
    "        ## Academic Skills ##\n",
    "        self.Academic_Skill = 0\n",
    "\n",
    "        ## Own Solution ##\n",
    "        self.Ind_Solution = []\n",
    "\n",
    "def personality(student):\n",
    "    # Extraversion vs. Introversion\n",
    "    if student.Ex == \"E\":\n",
    "        student.ExScore = max_vals[0]\n",
    "        del max_vals[0]\n",
    "    else:\n",
    "        student.ExScore = min_vals[0]\n",
    "        del min_vals[0]\n",
    "    \n",
    "    # Sensing vs. Intuition\n",
    "    if student.Se == \"S\":\n",
    "        student.SeScore = max_vals[0]\n",
    "        del max_vals[0]\n",
    "    else:\n",
    "        student.SeScore = min_vals[0]\n",
    "        del min_vals[0]\n",
    "    \n",
    "    # Thinking vs. Feeling\n",
    "    if student.Th == \"T\":\n",
    "        student.ThScore = max_vals[0]\n",
    "        del max_vals[0]\n",
    "    else:\n",
    "        student.ThScore = min_vals[0]\n",
    "        del min_vals[0]\n",
    "\n",
    "    # Judging vs. Perceiving\n",
    "    if student.Ju == \"J\":\n",
    "        student.JuScore = max_vals[0]\n",
    "        del max_vals[0]\n",
    "    else:\n",
    "        student.JuScore = min_vals[0]\n",
    "        del min_vals[0]\n",
    "    \n",
    "    student.Scores = [student.ExScore, student.SeScore, student.ThScore, student.JuScore]\n",
    "\n",
    "def skills(student):\n",
    "    student.Academic_Skill = (1-student.SeScore)*0.40 + student.ThScore*0.20 + (1-student.JuScore)*0.40"
   ]
  },
  {
   "cell_type": "code",
   "execution_count": 5167,
   "metadata": {},
   "outputs": [],
   "source": [
    "def StudyGroup(student_list):\n",
    "    '''\n",
    "    Create a study group of students\n",
    "    '''\n",
    "    studygroup = []\n",
    "    names = [\"Alfa\", \"Bravo\", \"Charlie\", \"Delta\"]\n",
    "\n",
    "    for i in range(len(student_list)):\n",
    "        student = Student(names[i], student_list[i][0], student_list[i][1], student_list[i][2], student_list[i][3])\n",
    "        personality(student)\n",
    "        skills(student)\n",
    "        studygroup.append(student)\n",
    "    \n",
    "    return data_collect(studygroup, student_list), studygroup"
   ]
  },
  {
   "cell_type": "markdown",
   "metadata": {},
   "source": [
    "## Creating the ABM"
   ]
  },
  {
   "cell_type": "markdown",
   "metadata": {},
   "source": [
    "### Generating True Solution"
   ]
  },
  {
   "cell_type": "code",
   "execution_count": 5168,
   "metadata": {},
   "outputs": [],
   "source": [
    "def true_solution_generator(n_part_exercises, range_elements):\n",
    "    '''\n",
    "    create a list of random numbers that will serve as the true solution that the agents need to find \n",
    "    '''\n",
    "    true_solution = []\n",
    "    for i in range(n_part_exercises):\n",
    "        true_solution.append(random.randint(range_elements[0], range_elements[1]))\n",
    "\n",
    "    return true_solution, range_elements"
   ]
  },
  {
   "cell_type": "markdown",
   "metadata": {},
   "source": [
    "### Generating Individual Solutions"
   ]
  },
  {
   "cell_type": "code",
   "execution_count": 5169,
   "metadata": {},
   "outputs": [],
   "source": [
    "def individual_solutions_generator(studygroup, true_solution, range_elements):\n",
    "    '''\n",
    "    #function to calculate the individual solutions of the agents given a study group dataframe and a true solution\n",
    "    '''\n",
    "    \n",
    "    all_solutions = []\n",
    "\n",
    "    for student in studygroup[1]: # loop for each individual\n",
    "        Ind_Solution_lst = []\n",
    "        \n",
    "        for i in range(len(true_solution)): # loop for each part-exercise\n",
    "            coin_toss = np.random.binomial(1, (student.Academic_Skill*0.7) + 0.3, 1)[0] # biased-coin flip\n",
    "            if coin_toss == 1:\n",
    "                Ind_Solution_lst.append(true_solution[i])\n",
    "            else:\n",
    "                Ind_Solution_lst.append(random.randint(range_elements[0], range_elements[1]))\n",
    "        \n",
    "        all_solutions.append(Ind_Solution_lst)\n",
    "        student.Ind_Solution = Ind_Solution_lst\n",
    "    \n",
    "    return all_solutions"
   ]
  },
  {
   "cell_type": "markdown",
   "metadata": {},
   "source": [
    "## Collaborative Problem Solving"
   ]
  },
  {
   "cell_type": "markdown",
   "metadata": {},
   "source": [
    "##### Workflow notes\n",
    "1. Who presents their solution e.g. agent A presents their solution to agent B, C, D -> THE PROPOSED SOLUTION\n",
    "    -> Based on Extraversion score (Highest extraversion score is the most likely to present their solution)\n",
    "2. According to an Agreeableness score (Social score for now) of the other agents (and maybe a Trustworthiness score of agent proposing), agents will update their solution\n",
    "3. The solutions of the agents will be checked, if all they agree, this is their final solution. If not, the process will be repeated for a max of X ticks. If the groups do not converge, an accuracy score will still be calculated. "
   ]
  },
  {
   "cell_type": "code",
   "execution_count": 5170,
   "metadata": {},
   "outputs": [],
   "source": [
    "def collaborative_solution(studygroup, max_ticks):\n",
    "    max_ticks = max_ticks #turns in the simulation\n",
    "    n_ticks = 0\n",
    "    \n",
    "    # extracting all 4 students\n",
    "    Alfa = studygroup[1][0]\n",
    "    Bravo = studygroup[1][1]\n",
    "    Charlie = studygroup[1][2]\n",
    "    Delta = studygroup[1][3]\n",
    "\n",
    "    student_list = [Alfa, Bravo, Charlie, Delta]\n",
    "    individual_solutions = [Alfa.Ind_Solution, Bravo.Ind_Solution, Charlie.Ind_Solution, Delta.Ind_Solution]\n",
    "    consensus = False\n",
    "\n",
    "    while (n_ticks != max_ticks):\n",
    "        # Starting a Round\n",
    "        presenter_name = random.choices([Alfa.Name, Bravo.Name, Charlie.Name, Delta.Name], weights = [Alfa.ExScore, Bravo.ExScore, Charlie.ExScore, Delta.ExScore], k = 1)[0] # selecting the presenter of the round based on weighted random draw from extraversion scores\n",
    "        \n",
    "        Proposed_Solution = eval(presenter_name).Ind_Solution\n",
    "        #print(n_ticks, presenter_name, Proposed_Solution)\n",
    "\n",
    "        for student in student_list:\n",
    "            if student == eval(presenter_name):\n",
    "                pass\n",
    "            for i in range(len(Proposed_Solution)): # looping through all part-exercises and evaluating against proposed solution.\n",
    "                coin_toss = np.random.binomial(1, ((1-student.ThScore)*0.25 + eval(presenter_name).Academic_Skill*0.25), 1)[0] #high social skill has a greater chance of accepting the proposal and if the proposer has higher academic skill.\n",
    "                if coin_toss == 1:\n",
    "                    student.Ind_Solution[i] = Proposed_Solution[i]\n",
    "                else:\n",
    "                    student.Ind_Solution[i] = student.Ind_Solution[i]\n",
    "\n",
    "        n_ticks += 1 #adding a tick to the simulation\n",
    "\n",
    "        if all(x==individual_solutions[0] for x in individual_solutions): # initializes a break of while-loop if consensus has been reached (i.e. all solutions are the same)\n",
    "            consensus = True\n",
    "            break\n",
    "\n",
    "\n",
    "\n",
    "    #print(\"Number of iterations: \" + str(n_ticks))\n",
    "    return individual_solutions[0], n_ticks, consensus # returns their collective solution\n"
   ]
  },
  {
   "cell_type": "code",
   "execution_count": 5171,
   "metadata": {},
   "outputs": [],
   "source": [
    "def solution_evaluator(proposed_solution, true_solution):\n",
    "    correct_part_exercise = 0\n",
    "    wrong_part_exercise = 0\n",
    "\n",
    "    for i in range(len(true_solution)):\n",
    "        if proposed_solution[i] == true_solution[i]:\n",
    "            correct_part_exercise += 1\n",
    "        else:\n",
    "            wrong_part_exercise += 1\n",
    "\n",
    "    return correct_part_exercise / (correct_part_exercise + wrong_part_exercise)\n"
   ]
  },
  {
   "cell_type": "markdown",
   "metadata": {},
   "source": [
    "# TEST RUN"
   ]
  },
  {
   "cell_type": "code",
   "execution_count": 5172,
   "metadata": {},
   "outputs": [],
   "source": [
    "# Selecting Personality Types\n",
    "student_list_test = [\"INTP\", \"INTP\", \"INTP\", \"INTP\"]"
   ]
  },
  {
   "cell_type": "code",
   "execution_count": 5173,
   "metadata": {},
   "outputs": [],
   "source": [
    "# Creating the Study Group\n",
    "studygroup1 = StudyGroup(student_list_test)"
   ]
  },
  {
   "cell_type": "code",
   "execution_count": 5174,
   "metadata": {},
   "outputs": [
    {
     "name": "stdout",
     "output_type": "stream",
     "text": [
      "      Name  type       E/I       S/N       T/F       J/P  Academic\n",
      "0     Alfa  INTP  0.458662  0.341239  0.776189  0.349198  0.679063\n",
      "1    Bravo  INTP  0.273450  0.225007  0.650275  0.126414  0.789487\n",
      "2  Charlie  INTP  0.377716  0.462145  0.670139  0.249398  0.649411\n",
      "3    Delta  INTP  0.369908  0.417320  0.596576  0.237704  0.657306\n"
     ]
    }
   ],
   "source": [
    "# Seeing their Generated Personality Scores\n",
    "print(studygroup1[0])"
   ]
  },
  {
   "cell_type": "code",
   "execution_count": 5175,
   "metadata": {},
   "outputs": [],
   "source": [
    "# Generating a True Solution\n",
    "true_solution_test = true_solution_generator(10, [1, 9])"
   ]
  },
  {
   "cell_type": "code",
   "execution_count": 5176,
   "metadata": {},
   "outputs": [
    {
     "data": {
      "text/plain": [
       "[6, 3, 4, 3, 3, 2, 9, 4, 5, 8]"
      ]
     },
     "execution_count": 5176,
     "metadata": {},
     "output_type": "execute_result"
    }
   ],
   "source": [
    "# Displaying the True Solution\n",
    "true_solution_test[0]"
   ]
  },
  {
   "cell_type": "code",
   "execution_count": 5177,
   "metadata": {},
   "outputs": [
    {
     "data": {
      "text/plain": [
       "[[6, 3, 4, 3, 3, 2, 9, 4, 5, 8],\n",
       " [7, 3, 4, 3, 4, 2, 9, 4, 8, 8],\n",
       " [6, 1, 4, 3, 9, 2, 9, 9, 5, 8],\n",
       " [6, 3, 4, 3, 3, 2, 9, 4, 5, 8]]"
      ]
     },
     "execution_count": 5177,
     "metadata": {},
     "output_type": "execute_result"
    }
   ],
   "source": [
    "# Generating Individual Solutions\n",
    "all_solutions = individual_solutions_generator(studygroup1, true_solution_test[0], true_solution_test[1])\n",
    "all_solutions"
   ]
  },
  {
   "cell_type": "code",
   "execution_count": 5178,
   "metadata": {},
   "outputs": [
    {
     "name": "stdout",
     "output_type": "stream",
     "text": [
      "Alfa [6, 3, 4, 3, 3, 2, 9, 4, 5, 8]\n",
      "Bravo [7, 3, 4, 3, 4, 2, 9, 4, 8, 8]\n",
      "Charlie [6, 1, 4, 3, 9, 2, 9, 9, 5, 8]\n",
      "Delta [6, 3, 4, 3, 3, 2, 9, 4, 5, 8]\n"
     ]
    }
   ],
   "source": [
    "# Printing Individual Solutions\n",
    "for student in studygroup1[1]:\n",
    "    print(student.Name, student.Ind_Solution)"
   ]
  },
  {
   "cell_type": "code",
   "execution_count": 5179,
   "metadata": {},
   "outputs": [
    {
     "name": "stdout",
     "output_type": "stream",
     "text": [
      "Alfa 1.0\n",
      "Bravo 0.7\n",
      "Charlie 0.7\n",
      "Delta 1.0\n"
     ]
    }
   ],
   "source": [
    "# Printing Indivudal Accuracies\n",
    "for student in studygroup1[1]:\n",
    "    print(student.Name, solution_evaluator(student.Ind_Solution, true_solution_test[0]))"
   ]
  },
  {
   "cell_type": "code",
   "execution_count": 5180,
   "metadata": {},
   "outputs": [],
   "source": [
    "# Creating Group Solution\n",
    "group_solution = collaborative_solution(studygroup1, 100)"
   ]
  },
  {
   "cell_type": "code",
   "execution_count": 5181,
   "metadata": {},
   "outputs": [
    {
     "name": "stdout",
     "output_type": "stream",
     "text": [
      "0.9\n"
     ]
    }
   ],
   "source": [
    "# Printing Group Accuracy\n",
    "accuracy = solution_evaluator(group_solution[0], true_solution_test[0])\n",
    "print(accuracy)"
   ]
  },
  {
   "cell_type": "markdown",
   "metadata": {},
   "source": [
    "## ABM Model"
   ]
  },
  {
   "cell_type": "code",
   "execution_count": 5182,
   "metadata": {},
   "outputs": [],
   "source": [
    "def exercise_run(student_list: list, max_ticks: int, n_part_exercises: int, range_solution: list, n_simulations: int):\n",
    "    '''\n",
    "    function to run one simulation of a study group completing the exercise (from individual to group solution)\n",
    "    '''\n",
    "\n",
    "    ## defining the lists that will accumulate the average accuracies, consensus and amount of ticks ## \n",
    "    group_accuracy_list = []\n",
    "    n_tick_list = []\n",
    "    consensus_list = []\n",
    "\n",
    "    alfa_accuracy_list = []\n",
    "    beta_accuracy_list = []\n",
    "    charlie_accuracy_list = []\n",
    "    delta_accuracy_list = []\n",
    "\n",
    "\n",
    "    for i in range(n_simulations):\n",
    "        ## giving the study group personality values and skills ##\n",
    "        studygroup = StudyGroup(student_list)\n",
    "\n",
    "        ## generating the true solution ## \n",
    "        true_solution = true_solution_generator(n_part_exercises, range_solution)\n",
    "\n",
    "        ## generating individual solutions ##\n",
    "        all_solutions = individual_solutions_generator(studygroup, true_solution[0], true_solution[1])\n",
    "\n",
    "        ## evaluating own solutions ##        \n",
    "        alfa_accuracy = solution_evaluator(all_solutions[0], true_solution[0])\n",
    "        beta_accuracy = solution_evaluator(all_solutions[1], true_solution[0])\n",
    "        charlie_accuracy = solution_evaluator(all_solutions[2], true_solution[0])\n",
    "        delta_accuracy = solution_evaluator(all_solutions[3], true_solution[0])\n",
    "        \n",
    "        alfa_accuracy_list.append(alfa_accuracy)\n",
    "        beta_accuracy_list.append(beta_accuracy)\n",
    "        charlie_accuracy_list.append(charlie_accuracy)\n",
    "        delta_accuracy_list.append(delta_accuracy)\n",
    "\n",
    "        ## generating group solution ##\n",
    "        group_solution = collaborative_solution(studygroup, max_ticks)\n",
    "        n_tick_list.append(group_solution[1]) # appending the number of ticks\n",
    "        consensus_list.append(group_solution[2]) #appending consensus values\n",
    "\n",
    "        ## calculating the accuracy of the group solution ##\n",
    "        group_accuracy = solution_evaluator(group_solution[0], true_solution[0])\n",
    "        group_accuracy_list.append(group_accuracy) #appending the group accuracies\n",
    "\n",
    "    ## calculating the average accuracy and ticks ##\n",
    "    # group level #\n",
    "    avg_group_accuracy = np.mean(group_accuracy_list)\n",
    "    std_group_accuracy = np.std(group_accuracy_list)\n",
    "    \n",
    "    avg_group_n_tick = np.mean(n_tick_list)\n",
    "    std_group_n_tick = np.std(n_tick_list)\n",
    "    \n",
    "    avg_group_consensus = np.mean(consensus_list)\n",
    "    std_group_consensus = np.std(consensus_list)\n",
    "    \n",
    "    # individual level #\n",
    "    avg_alfa_accuracy = np.mean(alfa_accuracy_list)\n",
    "    std_alfa_accuracy = np.std(alfa_accuracy_list)\n",
    "\n",
    "    avg_beta_accuracy = np.mean(beta_accuracy_list)\n",
    "    std_beta_accuracy = np.std(beta_accuracy_list)\n",
    "\n",
    "    avg_charlie_accuracy = np.mean(charlie_accuracy_list)\n",
    "    std_charlie_accuracy = np.std(charlie_accuracy_list)\n",
    "\n",
    "    avg_delta_accuracy = np.mean(delta_accuracy_list)\n",
    "    std_delta_accuracy = np.std(delta_accuracy_list)\n",
    "    \n",
    "    ## dictionaries ## \n",
    "    exercise_run_dict_group = {\n",
    "    'alfa': student_list[0], \n",
    "    'beta':student_list[1], \n",
    "    'charlie':student_list[2], \n",
    "    'delta':student_list[3], \n",
    "    'avg_accuracy': avg_group_accuracy, \n",
    "    'std_accuracy': std_group_accuracy, \n",
    "    'avg_n_tick': avg_group_n_tick, \n",
    "    'std_n_tick': std_group_n_tick, \n",
    "    'avg_consensus': avg_group_consensus, \n",
    "    'std_consensus': std_group_consensus}\n",
    "\n",
    "\n",
    "    exercise_run_list_ind = list(zip(student_list, \n",
    "                                    [student_list, student_list, student_list, student_list], \n",
    "                                    [avg_alfa_accuracy, avg_beta_accuracy, avg_charlie_accuracy, avg_delta_accuracy],\n",
    "                                    [std_alfa_accuracy, std_beta_accuracy, std_charlie_accuracy, std_delta_accuracy]))\n",
    "    \n",
    "    return exercise_run_dict_group, exercise_run_list_ind"
   ]
  },
  {
   "cell_type": "code",
   "execution_count": 5183,
   "metadata": {},
   "outputs": [],
   "source": [
    "def abm_model(condition, max_ticks: int, n_part_exercises: int, range_solution: list, n_simulations: int):\n",
    "    condition_group_df = pd.DataFrame(columns = ['alfa', 'beta', 'charlie', 'delta', 'avg_accuracy', 'std_accuracy', 'avg_n_tick', 'std_n_tick', 'avg_consensus', 'std_consensus'])\n",
    "    condition_ind_df = pd.DataFrame(columns=['type', 'studygroup', 'avg_accuracy', 'std_accuracy']) #'avg_accuracy', 'contribution', 'n_presentations'])\n",
    "        \n",
    "    for i in (range(len(condition.index))):\n",
    "        student_list = list(condition.iloc[i][1:5])\n",
    "        \n",
    "        ## Getting data frames for the group and individual levels ##\n",
    "        exercise_run_dict_group, exercise_run_list_ind = exercise_run(student_list, max_ticks, n_part_exercises, range_solution, n_simulations) #creating dictionary\n",
    "        \n",
    "        exercise_run_group_df = pd.DataFrame(exercise_run_dict_group, index = [i]) #creating dataframe\n",
    "        condition_group_df = pd.concat([condition_group_df, exercise_run_group_df], ignore_index = True) #concatenating dataframes\n",
    "        \n",
    "        exercise_run_ind_df = pd.DataFrame(exercise_run_list_ind, columns=['type', 'studygroup', 'avg_accuracy', 'std_accuracy']) #'avg_accuracy', 'contribution', 'n_presentations'])\n",
    "        condition_ind_df = pd.concat([condition_ind_df, exercise_run_ind_df], ignore_index = True)\n",
    "\n",
    "    return condition_ind_df\n"
   ]
  },
  {
   "cell_type": "code",
   "execution_count": 5184,
   "metadata": {},
   "outputs": [
    {
     "data": {
      "text/html": [
       "<div>\n",
       "<style scoped>\n",
       "    .dataframe tbody tr th:only-of-type {\n",
       "        vertical-align: middle;\n",
       "    }\n",
       "\n",
       "    .dataframe tbody tr th {\n",
       "        vertical-align: top;\n",
       "    }\n",
       "\n",
       "    .dataframe thead th {\n",
       "        text-align: right;\n",
       "    }\n",
       "</style>\n",
       "<table border=\"1\" class=\"dataframe\">\n",
       "  <thead>\n",
       "    <tr style=\"text-align: right;\">\n",
       "      <th></th>\n",
       "      <th>type</th>\n",
       "      <th>studygroup</th>\n",
       "      <th>avg_accuracy</th>\n",
       "      <th>std_accuracy</th>\n",
       "    </tr>\n",
       "  </thead>\n",
       "  <tbody>\n",
       "    <tr>\n",
       "      <th>0</th>\n",
       "      <td>ESFJ</td>\n",
       "      <td>[ESFJ, ESFJ, ESFJ, ESFJ]</td>\n",
       "      <td>0.58</td>\n",
       "      <td>0.116619</td>\n",
       "    </tr>\n",
       "    <tr>\n",
       "      <th>1</th>\n",
       "      <td>ESFJ</td>\n",
       "      <td>[ESFJ, ESFJ, ESFJ, ESFJ]</td>\n",
       "      <td>0.55</td>\n",
       "      <td>0.143178</td>\n",
       "    </tr>\n",
       "    <tr>\n",
       "      <th>2</th>\n",
       "      <td>ESFJ</td>\n",
       "      <td>[ESFJ, ESFJ, ESFJ, ESFJ]</td>\n",
       "      <td>0.61</td>\n",
       "      <td>0.083066</td>\n",
       "    </tr>\n",
       "    <tr>\n",
       "      <th>3</th>\n",
       "      <td>ESFJ</td>\n",
       "      <td>[ESFJ, ESFJ, ESFJ, ESFJ]</td>\n",
       "      <td>0.59</td>\n",
       "      <td>0.181384</td>\n",
       "    </tr>\n",
       "    <tr>\n",
       "      <th>4</th>\n",
       "      <td>ESTJ</td>\n",
       "      <td>[ESTJ, ESTJ, ESTJ, ESTJ]</td>\n",
       "      <td>0.70</td>\n",
       "      <td>0.154919</td>\n",
       "    </tr>\n",
       "    <tr>\n",
       "      <th>...</th>\n",
       "      <td>...</td>\n",
       "      <td>...</td>\n",
       "      <td>...</td>\n",
       "      <td>...</td>\n",
       "    </tr>\n",
       "    <tr>\n",
       "      <th>59</th>\n",
       "      <td>ISFP</td>\n",
       "      <td>[ISFP, ISFP, ISFP, ISFP]</td>\n",
       "      <td>0.62</td>\n",
       "      <td>0.146969</td>\n",
       "    </tr>\n",
       "    <tr>\n",
       "      <th>60</th>\n",
       "      <td>ISTP</td>\n",
       "      <td>[ISTP, ISTP, ISTP, ISTP]</td>\n",
       "      <td>0.71</td>\n",
       "      <td>0.113578</td>\n",
       "    </tr>\n",
       "    <tr>\n",
       "      <th>61</th>\n",
       "      <td>ISTP</td>\n",
       "      <td>[ISTP, ISTP, ISTP, ISTP]</td>\n",
       "      <td>0.67</td>\n",
       "      <td>0.141774</td>\n",
       "    </tr>\n",
       "    <tr>\n",
       "      <th>62</th>\n",
       "      <td>ISTP</td>\n",
       "      <td>[ISTP, ISTP, ISTP, ISTP]</td>\n",
       "      <td>0.66</td>\n",
       "      <td>0.135647</td>\n",
       "    </tr>\n",
       "    <tr>\n",
       "      <th>63</th>\n",
       "      <td>ISTP</td>\n",
       "      <td>[ISTP, ISTP, ISTP, ISTP]</td>\n",
       "      <td>0.75</td>\n",
       "      <td>0.150000</td>\n",
       "    </tr>\n",
       "  </tbody>\n",
       "</table>\n",
       "<p>64 rows × 4 columns</p>\n",
       "</div>"
      ],
      "text/plain": [
       "    type                studygroup  avg_accuracy  std_accuracy\n",
       "0   ESFJ  [ESFJ, ESFJ, ESFJ, ESFJ]          0.58      0.116619\n",
       "1   ESFJ  [ESFJ, ESFJ, ESFJ, ESFJ]          0.55      0.143178\n",
       "2   ESFJ  [ESFJ, ESFJ, ESFJ, ESFJ]          0.61      0.083066\n",
       "3   ESFJ  [ESFJ, ESFJ, ESFJ, ESFJ]          0.59      0.181384\n",
       "4   ESTJ  [ESTJ, ESTJ, ESTJ, ESTJ]          0.70      0.154919\n",
       "..   ...                       ...           ...           ...\n",
       "59  ISFP  [ISFP, ISFP, ISFP, ISFP]          0.62      0.146969\n",
       "60  ISTP  [ISTP, ISTP, ISTP, ISTP]          0.71      0.113578\n",
       "61  ISTP  [ISTP, ISTP, ISTP, ISTP]          0.67      0.141774\n",
       "62  ISTP  [ISTP, ISTP, ISTP, ISTP]          0.66      0.135647\n",
       "63  ISTP  [ISTP, ISTP, ISTP, ISTP]          0.75      0.150000\n",
       "\n",
       "[64 rows x 4 columns]"
      ]
     },
     "execution_count": 5184,
     "metadata": {},
     "output_type": "execute_result"
    }
   ],
   "source": [
    "abm_model(condition = homogenous, \n",
    "        max_ticks = 30, \n",
    "        n_part_exercises = 10, \n",
    "        range_solution = [1, 9], \n",
    "        n_simulations = 10\n",
    "        )"
   ]
  },
  {
   "cell_type": "code",
   "execution_count": 5185,
   "metadata": {},
   "outputs": [
    {
     "data": {
      "text/html": [
       "<div>\n",
       "<style scoped>\n",
       "    .dataframe tbody tr th:only-of-type {\n",
       "        vertical-align: middle;\n",
       "    }\n",
       "\n",
       "    .dataframe tbody tr th {\n",
       "        vertical-align: top;\n",
       "    }\n",
       "\n",
       "    .dataframe thead th {\n",
       "        text-align: right;\n",
       "    }\n",
       "</style>\n",
       "<table border=\"1\" class=\"dataframe\">\n",
       "  <thead>\n",
       "    <tr style=\"text-align: right;\">\n",
       "      <th></th>\n",
       "      <th>type</th>\n",
       "      <th>studygroup</th>\n",
       "      <th>avg_accuracy</th>\n",
       "      <th>std_accuracy</th>\n",
       "    </tr>\n",
       "  </thead>\n",
       "  <tbody>\n",
       "    <tr>\n",
       "      <th>0</th>\n",
       "      <td>ESFJ</td>\n",
       "      <td>[ESFJ, ESFJ, INTP, INTP]</td>\n",
       "      <td>0.62</td>\n",
       "      <td>0.116619</td>\n",
       "    </tr>\n",
       "    <tr>\n",
       "      <th>1</th>\n",
       "      <td>ESFJ</td>\n",
       "      <td>[ESFJ, ESFJ, INTP, INTP]</td>\n",
       "      <td>0.60</td>\n",
       "      <td>0.109545</td>\n",
       "    </tr>\n",
       "    <tr>\n",
       "      <th>2</th>\n",
       "      <td>INTP</td>\n",
       "      <td>[ESFJ, ESFJ, INTP, INTP]</td>\n",
       "      <td>0.75</td>\n",
       "      <td>0.102470</td>\n",
       "    </tr>\n",
       "    <tr>\n",
       "      <th>3</th>\n",
       "      <td>INTP</td>\n",
       "      <td>[ESFJ, ESFJ, INTP, INTP]</td>\n",
       "      <td>0.75</td>\n",
       "      <td>0.120416</td>\n",
       "    </tr>\n",
       "    <tr>\n",
       "      <th>4</th>\n",
       "      <td>ENTP</td>\n",
       "      <td>[ENTP, ENTP, ISFJ, ISFJ]</td>\n",
       "      <td>0.74</td>\n",
       "      <td>0.135647</td>\n",
       "    </tr>\n",
       "    <tr>\n",
       "      <th>...</th>\n",
       "      <td>...</td>\n",
       "      <td>...</td>\n",
       "      <td>...</td>\n",
       "      <td>...</td>\n",
       "    </tr>\n",
       "    <tr>\n",
       "      <th>59</th>\n",
       "      <td>ISFJ</td>\n",
       "      <td>[ESTP, ESTP, ISFJ, ISFJ]</td>\n",
       "      <td>0.56</td>\n",
       "      <td>0.111355</td>\n",
       "    </tr>\n",
       "    <tr>\n",
       "      <th>60</th>\n",
       "      <td>ENTJ</td>\n",
       "      <td>[ENTJ, ENTJ, ISTJ, ISTJ]</td>\n",
       "      <td>0.78</td>\n",
       "      <td>0.107703</td>\n",
       "    </tr>\n",
       "    <tr>\n",
       "      <th>61</th>\n",
       "      <td>ENTJ</td>\n",
       "      <td>[ENTJ, ENTJ, ISTJ, ISTJ]</td>\n",
       "      <td>0.70</td>\n",
       "      <td>0.126491</td>\n",
       "    </tr>\n",
       "    <tr>\n",
       "      <th>62</th>\n",
       "      <td>ISTJ</td>\n",
       "      <td>[ENTJ, ENTJ, ISTJ, ISTJ]</td>\n",
       "      <td>0.60</td>\n",
       "      <td>0.141421</td>\n",
       "    </tr>\n",
       "    <tr>\n",
       "      <th>63</th>\n",
       "      <td>ISTJ</td>\n",
       "      <td>[ENTJ, ENTJ, ISTJ, ISTJ]</td>\n",
       "      <td>0.69</td>\n",
       "      <td>0.104403</td>\n",
       "    </tr>\n",
       "  </tbody>\n",
       "</table>\n",
       "<p>64 rows × 4 columns</p>\n",
       "</div>"
      ],
      "text/plain": [
       "    type                studygroup  avg_accuracy  std_accuracy\n",
       "0   ESFJ  [ESFJ, ESFJ, INTP, INTP]          0.62      0.116619\n",
       "1   ESFJ  [ESFJ, ESFJ, INTP, INTP]          0.60      0.109545\n",
       "2   INTP  [ESFJ, ESFJ, INTP, INTP]          0.75      0.102470\n",
       "3   INTP  [ESFJ, ESFJ, INTP, INTP]          0.75      0.120416\n",
       "4   ENTP  [ENTP, ENTP, ISFJ, ISFJ]          0.74      0.135647\n",
       "..   ...                       ...           ...           ...\n",
       "59  ISFJ  [ESTP, ESTP, ISFJ, ISFJ]          0.56      0.111355\n",
       "60  ENTJ  [ENTJ, ENTJ, ISTJ, ISTJ]          0.78      0.107703\n",
       "61  ENTJ  [ENTJ, ENTJ, ISTJ, ISTJ]          0.70      0.126491\n",
       "62  ISTJ  [ENTJ, ENTJ, ISTJ, ISTJ]          0.60      0.141421\n",
       "63  ISTJ  [ENTJ, ENTJ, ISTJ, ISTJ]          0.69      0.104403\n",
       "\n",
       "[64 rows x 4 columns]"
      ]
     },
     "execution_count": 5185,
     "metadata": {},
     "output_type": "execute_result"
    }
   ],
   "source": [
    "abm_model(condition = fiftyfifty, \n",
    "        max_ticks = 30, \n",
    "        n_part_exercises = 10, \n",
    "        range_solution = [1, 9], \n",
    "        n_simulations = 10\n",
    "        )"
   ]
  },
  {
   "cell_type": "code",
   "execution_count": 5186,
   "metadata": {},
   "outputs": [
    {
     "data": {
      "text/html": [
       "<div>\n",
       "<style scoped>\n",
       "    .dataframe tbody tr th:only-of-type {\n",
       "        vertical-align: middle;\n",
       "    }\n",
       "\n",
       "    .dataframe tbody tr th {\n",
       "        vertical-align: top;\n",
       "    }\n",
       "\n",
       "    .dataframe thead th {\n",
       "        text-align: right;\n",
       "    }\n",
       "</style>\n",
       "<table border=\"1\" class=\"dataframe\">\n",
       "  <thead>\n",
       "    <tr style=\"text-align: right;\">\n",
       "      <th></th>\n",
       "      <th>type</th>\n",
       "      <th>studygroup</th>\n",
       "      <th>avg_accuracy</th>\n",
       "      <th>std_accuracy</th>\n",
       "    </tr>\n",
       "  </thead>\n",
       "  <tbody>\n",
       "    <tr>\n",
       "      <th>0</th>\n",
       "      <td>ESFJ</td>\n",
       "      <td>[ESFJ, ESTJ, ENFP, INFJ]</td>\n",
       "      <td>0.49</td>\n",
       "      <td>0.130000</td>\n",
       "    </tr>\n",
       "    <tr>\n",
       "      <th>1</th>\n",
       "      <td>ESTJ</td>\n",
       "      <td>[ESFJ, ESTJ, ENFP, INFJ]</td>\n",
       "      <td>0.69</td>\n",
       "      <td>0.130000</td>\n",
       "    </tr>\n",
       "    <tr>\n",
       "      <th>2</th>\n",
       "      <td>ENFP</td>\n",
       "      <td>[ESFJ, ESTJ, ENFP, INFJ]</td>\n",
       "      <td>0.67</td>\n",
       "      <td>0.064031</td>\n",
       "    </tr>\n",
       "    <tr>\n",
       "      <th>3</th>\n",
       "      <td>INFJ</td>\n",
       "      <td>[ESFJ, ESTJ, ENFP, INFJ]</td>\n",
       "      <td>0.78</td>\n",
       "      <td>0.097980</td>\n",
       "    </tr>\n",
       "    <tr>\n",
       "      <th>4</th>\n",
       "      <td>ISFJ</td>\n",
       "      <td>[ISFJ, ESTP, ISFP, ENFJ]</td>\n",
       "      <td>0.64</td>\n",
       "      <td>0.190788</td>\n",
       "    </tr>\n",
       "    <tr>\n",
       "      <th>...</th>\n",
       "      <td>...</td>\n",
       "      <td>...</td>\n",
       "      <td>...</td>\n",
       "      <td>...</td>\n",
       "    </tr>\n",
       "    <tr>\n",
       "      <th>59</th>\n",
       "      <td>INFJ</td>\n",
       "      <td>[ESTJ, ISTJ, ENFJ, INFJ]</td>\n",
       "      <td>0.65</td>\n",
       "      <td>0.120416</td>\n",
       "    </tr>\n",
       "    <tr>\n",
       "      <th>60</th>\n",
       "      <td>ENTJ</td>\n",
       "      <td>[ENTJ, INTJ, ESTP, ISTP]</td>\n",
       "      <td>0.72</td>\n",
       "      <td>0.107703</td>\n",
       "    </tr>\n",
       "    <tr>\n",
       "      <th>61</th>\n",
       "      <td>INTJ</td>\n",
       "      <td>[ENTJ, INTJ, ESTP, ISTP]</td>\n",
       "      <td>0.75</td>\n",
       "      <td>0.120416</td>\n",
       "    </tr>\n",
       "    <tr>\n",
       "      <th>62</th>\n",
       "      <td>ESTP</td>\n",
       "      <td>[ENTJ, INTJ, ESTP, ISTP]</td>\n",
       "      <td>0.74</td>\n",
       "      <td>0.101980</td>\n",
       "    </tr>\n",
       "    <tr>\n",
       "      <th>63</th>\n",
       "      <td>ISTP</td>\n",
       "      <td>[ENTJ, INTJ, ESTP, ISTP]</td>\n",
       "      <td>0.71</td>\n",
       "      <td>0.164012</td>\n",
       "    </tr>\n",
       "  </tbody>\n",
       "</table>\n",
       "<p>64 rows × 4 columns</p>\n",
       "</div>"
      ],
      "text/plain": [
       "    type                studygroup  avg_accuracy  std_accuracy\n",
       "0   ESFJ  [ESFJ, ESTJ, ENFP, INFJ]          0.49      0.130000\n",
       "1   ESTJ  [ESFJ, ESTJ, ENFP, INFJ]          0.69      0.130000\n",
       "2   ENFP  [ESFJ, ESTJ, ENFP, INFJ]          0.67      0.064031\n",
       "3   INFJ  [ESFJ, ESTJ, ENFP, INFJ]          0.78      0.097980\n",
       "4   ISFJ  [ISFJ, ESTP, ISFP, ENFJ]          0.64      0.190788\n",
       "..   ...                       ...           ...           ...\n",
       "59  INFJ  [ESTJ, ISTJ, ENFJ, INFJ]          0.65      0.120416\n",
       "60  ENTJ  [ENTJ, INTJ, ESTP, ISTP]          0.72      0.107703\n",
       "61  INTJ  [ENTJ, INTJ, ESTP, ISTP]          0.75      0.120416\n",
       "62  ESTP  [ENTJ, INTJ, ESTP, ISTP]          0.74      0.101980\n",
       "63  ISTP  [ENTJ, INTJ, ESTP, ISTP]          0.71      0.164012\n",
       "\n",
       "[64 rows x 4 columns]"
      ]
     },
     "execution_count": 5186,
     "metadata": {},
     "output_type": "execute_result"
    }
   ],
   "source": [
    "abm_model(condition = heterogenous, \n",
    "        max_ticks = 30, \n",
    "        n_part_exercises = 10, \n",
    "        range_solution = [1, 9], \n",
    "        n_simulations = 10\n",
    "        )"
   ]
  }
 ],
 "metadata": {
  "interpreter": {
   "hash": "c33078cfce3b48701940fc5b5dd0b6d9b895502e5da868bfe1d8ab2cb40e85d4"
  },
  "kernelspec": {
   "display_name": "Python 3.8.8",
   "language": "python",
   "name": "python3"
  },
  "language_info": {
   "codemirror_mode": {
    "name": "ipython",
    "version": 3
   },
   "file_extension": ".py",
   "mimetype": "text/x-python",
   "name": "python",
   "nbconvert_exporter": "python",
   "pygments_lexer": "ipython3",
   "version": "3.8.8"
  },
  "orig_nbformat": 4
 },
 "nbformat": 4,
 "nbformat_minor": 2
}
