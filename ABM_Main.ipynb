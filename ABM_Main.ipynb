{
 "cells": [
  {
   "cell_type": "markdown",
   "metadata": {},
   "source": [
    "# Agent Based Model: Main Notebook"
   ]
  },
  {
   "cell_type": "code",
   "execution_count": 92,
   "metadata": {},
   "outputs": [],
   "source": [
    "import numpy.random as rnd\n",
    "import pandas as pd \n",
    "from matplotlib import pyplot as plt"
   ]
  },
  {
   "cell_type": "markdown",
   "metadata": {},
   "source": [
    "#### Workflow Notes \n",
    "* Draw Students with values within the four dimensions \n",
    "* Function that creates a study group (draw 4 students) -> Measure homogeniety \n",
    "* Task \n"
   ]
  },
  {
   "cell_type": "code",
   "execution_count": 86,
   "metadata": {},
   "outputs": [],
   "source": [
    "def n_sampler(size):\n",
    "    max_vals = []\n",
    "    min_vals = []\n",
    "\n",
    "    beta_dist = rnd.beta(5, 5, size)\n",
    "\n",
    "    for i in range(size):\n",
    "        if beta_dist[i] >= 0.5:\n",
    "            max_vals.append(beta_dist[i])\n",
    "        else:\n",
    "            min_vals.append(beta_dist[i])\n",
    "    \n",
    "    return max_vals, min_vals\n",
    "\n",
    "max_vals, min_vals = n_sampler(1000)"
   ]
  },
  {
   "cell_type": "code",
   "execution_count": 87,
   "metadata": {},
   "outputs": [],
   "source": [
    "class Student():\n",
    "    def __init__(self, ID, Ex, Se, Th, Ju):\n",
    "        self.ID  = ID\n",
    "        self.Ex = Ex #Extraversion vs Introversion dimension\n",
    "        self.Se = Se #Sensing vs Intuition dimension\n",
    "        self.Th = Th #Thinking vs Feeling dimension\n",
    "        self.Ju = Ju #Judging vs Perceiving dimension\n",
    "\n",
    "    def Extraversion(self):\n",
    "        if self.Ex == \"E\":\n",
    "            self.ExScore = max_vals[0]\n",
    "            del max_vals[0]\n",
    "            return self.ExScore\n",
    "        else:\n",
    "            self.ExScore = min_vals[0]\n",
    "            del min_vals[0]\n",
    "            return self.ExScore\n",
    "\n",
    "    def Sensing(self):\n",
    "        return 2\n",
    "    \n",
    "    def Thinking(self):\n",
    "        return 3\n",
    "    \n",
    "    def Judging(self):\n",
    "        return 4"
   ]
  },
  {
   "cell_type": "code",
   "execution_count": 88,
   "metadata": {},
   "outputs": [],
   "source": [
    "def StudyGroup(student_list):\n",
    "    studygroup = []\n",
    "\n",
    "    for i in range(len(student_list)):\n",
    "        student = Student(i, student_list[i][0], student_list[i][1], student_list[i][2], student_list[i][3])\n",
    "        studygroup.append(student)\n",
    "    \n",
    "    return studygroup\n",
    "\n",
    "def data_collect(studygroup, student_list):\n",
    "    ID_list = []\n",
    "    extraversion_list = []\n",
    "    sensing_list = []\n",
    "    thinking_list = []\n",
    "    judging_list = []\n",
    "\n",
    "    for student in studygroup:\n",
    "        ID_list.append(student.ID)\n",
    "        extraversion_list.append(student.Extraversion())\n",
    "        sensing_list.append(student.Sensing()) \n",
    "        thinking_list.append(student.Thinking())\n",
    "        judging_list.append(student.Judging())\n",
    "    \n",
    "    data = pd.DataFrame({'ID': ID_list, \n",
    "                        'name': student_list, \n",
    "                        'E/I': extraversion_list, \n",
    "                        'S/N': sensing_list,\n",
    "                        'T/F': thinking_list,\n",
    "                        'J/P': judging_list})\n",
    "\n",
    "    return data"
   ]
  },
  {
   "cell_type": "code",
   "execution_count": 89,
   "metadata": {},
   "outputs": [
    {
     "name": "stdout",
     "output_type": "stream",
     "text": [
      "   ID  name       E/I  S/N  T/F  J/P\n",
      "0   0  ESTJ  0.599853    2    3    4\n",
      "1   1  ISTJ  0.497666    2    3    4\n",
      "2   2  ENTP  0.610648    2    3    4\n",
      "3   3  INFJ  0.287038    2    3    4\n"
     ]
    }
   ],
   "source": [
    "student_list_test = [\"ESTJ\", \"ISTJ\", \"ENTP\", \"INFJ\"]\n",
    "\n",
    "studygroup1 = StudyGroup(student_list_test)\n",
    "\n",
    "df_studygroup1 = data_collect(studygroup1, student_list_test)\n",
    "\n",
    "print(df_studygroup1)\n"
   ]
  },
  {
   "cell_type": "code",
   "execution_count": 90,
   "metadata": {},
   "outputs": [
    {
     "name": "stdout",
     "output_type": "stream",
     "text": [
      "   ID  name       E/I  S/N  T/F  J/P\n",
      "0   0  ESTJ  0.610426    2    3    4\n",
      "1   1  ISTJ  0.426047    2    3    4\n",
      "2   2  ENTP  0.618177    2    3    4\n",
      "3   3  INFJ  0.237993    2    3    4\n"
     ]
    }
   ],
   "source": [
    "student_list_test_2 = [\"ESTJ\", \"ISTJ\", \"ENTP\", \"INFJ\"]\n",
    "\n",
    "studygroup2 = StudyGroup(student_list_test_2)\n",
    "\n",
    "df_studygroup2 = data_collect(studygroup2, student_list_test_2)\n",
    "\n",
    "print(df_studygroup2)"
   ]
  },
  {
   "cell_type": "code",
   "execution_count": 93,
   "metadata": {},
   "outputs": [
    {
     "data": {
      "text/plain": [
       "(array([  6.,  27.,  82., 143., 197., 184., 165., 114.,  62.,  20.]),\n",
       " array([0.07893078, 0.15890796, 0.23888513, 0.31886231, 0.39883948,\n",
       "        0.47881666, 0.55879383, 0.638771  , 0.71874818, 0.79872535,\n",
       "        0.87870253]),\n",
       " <BarContainer object of 10 artists>)"
      ]
     },
     "execution_count": 93,
     "metadata": {},
     "output_type": "execute_result"
    },
    {
     "data": {
      "image/png": "[encoded data removed]",
      "text/plain": [
       "<Figure size 432x288 with 1 Axes>"
      ]
     },
     "metadata": {
      "needs_background": "light"
     },
     "output_type": "display_data"
    }
   ],
   "source": [
    "plt.hist(rnd.beta(5,5,1000))"
   ]
  },
  {
   "cell_type": "code",
   "execution_count": null,
   "metadata": {},
   "outputs": [],
   "source": []
  }
 ],
 "metadata": {
  "interpreter": {
   "hash": "bbfd61b9771b25adb48756b02878e03699aa9c48f369525daaaa61fe69c4b1b3"
  },
  "kernelspec": {
   "display_name": "Python 3.9.7 ('methods3')",
   "language": "python",
   "name": "python3"
  },
  "language_info": {
   "codemirror_mode": {
    "name": "ipython",
    "version": 3
   },
   "file_extension": ".py",
   "mimetype": "text/x-python",
   "name": "python",
   "nbconvert_exporter": "python",
   "pygments_lexer": "ipython3",
   "version": "3.9.7"
  },
  "orig_nbformat": 4
 },
 "nbformat": 4,
 "nbformat_minor": 2
}
