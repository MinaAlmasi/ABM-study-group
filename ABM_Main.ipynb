{
 "cells": [
  {
   "cell_type": "markdown",
   "metadata": {},
   "source": [
    "# Agent Based Model: Main Notebook"
   ]
  },
  {
   "cell_type": "code",
   "execution_count": 137,
   "metadata": {},
   "outputs": [],
   "source": [
    "import numpy.random as rnd\n",
    "import numpy as np\n",
    "import pandas as pd \n",
    "from matplotlib import pyplot as plt\n",
    "import random"
   ]
  },
  {
   "cell_type": "markdown",
   "metadata": {},
   "source": [
    "#### Workflow Notes \n",
    "* Draw Students with values within the four dimensions \n",
    "* Function that creates a study group (draw 4 students) -> Measure homogeniety \n",
    "* Task \n"
   ]
  },
  {
   "cell_type": "markdown",
   "metadata": {},
   "source": [
    "## Creating Study Groups"
   ]
  },
  {
   "cell_type": "markdown",
   "metadata": {},
   "source": [
    "#### Practical Functions"
   ]
  },
  {
   "cell_type": "code",
   "execution_count": 138,
   "metadata": {},
   "outputs": [],
   "source": [
    "def n_sampler(size):\n",
    "    '''\n",
    "    sample a number of random numbers from the beta distribution\n",
    "    '''\n",
    "    max_vals = []\n",
    "    min_vals = []\n",
    "\n",
    "    beta_dist = rnd.beta(2.5, 2.5, size)\n",
    "\n",
    "    for i in range(size):\n",
    "        if beta_dist[i] >= 0.5:\n",
    "            max_vals.append(beta_dist[i])\n",
    "        else:\n",
    "            min_vals.append(beta_dist[i])\n",
    "    \n",
    "    return max_vals, min_vals\n",
    "\n",
    "max_vals, min_vals = n_sampler(1000)"
   ]
  },
  {
   "cell_type": "code",
   "execution_count": 139,
   "metadata": {},
   "outputs": [],
   "source": [
    "def data_collect(studygroup, student_list):\n",
    "    '''\n",
    "    function to collect data from the simulation\n",
    "    '''\n",
    "    Name_list = []\n",
    "    extraversion_list = []\n",
    "    sensing_list = []\n",
    "    thinking_list = []\n",
    "    judging_list = []\n",
    "    academic_list = [] \n",
    "    social_list = []\n",
    "    \n",
    "    for student in studygroup:\n",
    "        Name_list.append(student.Name)\n",
    "        extraversion_list.append(student.ExScore)\n",
    "        sensing_list.append(student.SeScore) \n",
    "        thinking_list.append(student.ThScore)\n",
    "        judging_list.append(student.JuScore)\n",
    "        academic_list.append(student.Academic_Skill)\n",
    "        social_list.append(student.Social_Skill)\n",
    "\n",
    "    data = pd.DataFrame({'Name': Name_list, \n",
    "                        'type': student_list, \n",
    "                        'E/I': extraversion_list, \n",
    "                        'S/N': sensing_list,\n",
    "                        'T/F': thinking_list,\n",
    "                        'J/P': judging_list, \n",
    "                        'Academic': academic_list,\n",
    "                        'Social': social_list})\n",
    "    \n",
    "    return data\n",
    "    "
   ]
  },
  {
   "cell_type": "markdown",
   "metadata": {},
   "source": [
    "#### Create Study Group"
   ]
  },
  {
   "cell_type": "code",
   "execution_count": 140,
   "metadata": {},
   "outputs": [],
   "source": [
    "## Defining the Students ##\n",
    "class Student():\n",
    "    def __init__(self, Name, Ex, Se, Th, Ju):\n",
    "        self.Name  = Name\n",
    "\n",
    "        ## Personality Traits ## \n",
    "        self.Ex = Ex #Extraversion vs Introversion dimension\n",
    "        self.Se = Se #Sensing vs Intuition dimension\n",
    "        self.Th = Th #Thinking vs Feeling dimension\n",
    "        self.Ju = Ju #Judging vs Perceiving dimension\n",
    "\n",
    "        ## Personality Scores calculated with the personality() function##\n",
    "        self.ExScore = 0\n",
    "        self.SeScore = 0\n",
    "        self.ThScore = 0\n",
    "        self.JuScore = 0\n",
    "        \n",
    "        self.Scores = [] #list of all personality scores\n",
    "\n",
    "        ## Academic and Social Skills ##\n",
    "        self.Academic_Skill = 0\n",
    "        self.Social_Skill = 0\n",
    "\n",
    "        ## Own Solution ##\n",
    "        self.Own_Solution = []\n",
    "        self.Updated_Solution = []\n",
    "\n",
    "        ## Presenting = True if the student is presenting, False if not ## The default will be false\n",
    "        self.presenting = False\n",
    "\n",
    "\n",
    "def personality(student):\n",
    "    # Extraversion vs. Introversion\n",
    "    if student.Ex == \"E\":\n",
    "        student.ExScore = max_vals[0]\n",
    "        del max_vals[0]\n",
    "    else:\n",
    "        student.ExScore = min_vals[0]\n",
    "        del min_vals[0]\n",
    "    \n",
    "    # Sensing vs. Intuition\n",
    "    if student.Se == \"S\":\n",
    "        student.SeScore = max_vals[0]\n",
    "        del max_vals[0]\n",
    "    else:\n",
    "        student.SeScore = min_vals[0]\n",
    "        del min_vals[0]\n",
    "    \n",
    "    # Thinking vs. Feeling\n",
    "    if student.Th == \"T\":\n",
    "        student.ThScore = max_vals[0]\n",
    "        del max_vals[0]\n",
    "    else:\n",
    "        student.ThScore = min_vals[0]\n",
    "        del min_vals[0]\n",
    "\n",
    "    # Judging vs. Perceiving\n",
    "    if student.Ju == \"J\":\n",
    "        student.JuScore = max_vals[0]\n",
    "        del max_vals[0]\n",
    "    else:\n",
    "        student.JuScore = min_vals[0]\n",
    "        del min_vals[0]\n",
    "    \n",
    "    student.Scores = [student.ExScore, student.SeScore, student.ThScore, student.JuScore]\n",
    "\n",
    "def skills(student):\n",
    "    student.Academic_Skill = (1-student.ExScore)*0.15 + (1-student.SeScore)*0.35 + student.ThScore*0.20 + (1-student.JuScore)*0.30\n",
    "    student.Social_Skill = student.ExScore*0.50 + (1-student.SeScore)*0.10 + student.ThScore*0.30 + (1-student.JuScore)*0.10"
   ]
  },
  {
   "cell_type": "code",
   "execution_count": 141,
   "metadata": {},
   "outputs": [],
   "source": [
    "def StudyGroup(student_list):\n",
    "    '''\n",
    "    Create a study group of students\n",
    "    '''\n",
    "    studygroup = []\n",
    "    names = [\"Alfa\", \"Bravo\", \"Charlie\", \"Delta\"]\n",
    "\n",
    "    for i in range(len(student_list)):\n",
    "        student = Student(names[i], student_list[i][0], student_list[i][1], student_list[i][2], student_list[i][3])\n",
    "        personality(student)\n",
    "        skills(student)\n",
    "        studygroup.append(student)\n",
    "    \n",
    "    return data_collect(studygroup, student_list), studygroup"
   ]
  },
  {
   "cell_type": "markdown",
   "metadata": {},
   "source": [
    "## Creating the ABM"
   ]
  },
  {
   "cell_type": "markdown",
   "metadata": {},
   "source": [
    "### Generating True Solution"
   ]
  },
  {
   "cell_type": "code",
   "execution_count": 142,
   "metadata": {},
   "outputs": [],
   "source": [
    "def true_solution_generator(n_elements, range_elements):\n",
    "    '''\n",
    "    create a list of random numbers that will serve as the true solution that the agents need to find \n",
    "    '''\n",
    "    true_solution = []\n",
    "    for i in range(n_elements):\n",
    "        true_solution.append(random.randint(range_elements[0], range_elements[1]))\n",
    "\n",
    "    return true_solution, range_elements"
   ]
  },
  {
   "cell_type": "markdown",
   "metadata": {},
   "source": [
    "### Generating IndivNameual Solutions"
   ]
  },
  {
   "cell_type": "code",
   "execution_count": 143,
   "metadata": {},
   "outputs": [],
   "source": [
    "def indivNameual_solutions_generator(studygroup, true_solution, range_elements):\n",
    "    '''\n",
    "    #function to calculate the indivNameual solutions of the agents given a study group dataframe and a true solution\n",
    "    '''\n",
    "    for student in studygroup[1]: # loop for each indivNameual\n",
    "        Own_Solution_lst = []\n",
    "        \n",
    "        for i in range(len(true_solution)): # loop for each part-exercise\n",
    "            coin_toss = np.random.binomial(1, student.Academic_Skill, 1)[0] # biased-coin flip\n",
    "            if coin_toss == 1:\n",
    "                Own_Solution_lst.append(true_solution[i])\n",
    "            else:\n",
    "                Own_Solution_lst.append(random.randint(range_elements[0], range_elements[1]))\n",
    "        \n",
    "        student.Own_Solution = Own_Solution_lst\n",
    "        student.Updated_Solution = Own_Solution_lst"
   ]
  },
  {
   "cell_type": "markdown",
   "metadata": {},
   "source": [
    "## Collaborative Problem Solving"
   ]
  },
  {
   "cell_type": "markdown",
   "metadata": {},
   "source": [
    "##### Workflow notes\n",
    "1. Who presents their solution e.g. agent A presents their solution to agent B, C, D -> THE PROPOSED SOLUTION\n",
    "    -> Based on Extraversion score (Highest extraversion score is the most likely to present their solution)\n",
    "2. According to an Agreeableness score (Social score for now) of the other agents (and maybe a Trustworthiness score of agent proposing), agents will update their solution\n",
    "3. The solutions of the agents will be checked, if all they agree, this is their final solution. If not, the process will be repeated for a max of X ticks. If the groups do not converge, an accuracy score will still be calculated. "
   ]
  },
  {
   "cell_type": "code",
   "execution_count": 168,
   "metadata": {},
   "outputs": [],
   "source": [
    "def collaborative_solution(studygroup, max_ticks):\n",
    "    max_ticks = max_ticks #turns in the simulation\n",
    "    n_ticks = 0\n",
    "    \n",
    "    # extracting all 4 students\n",
    "    Alfa = studygroup[1][0]\n",
    "    Bravo = studygroup[1][1]\n",
    "    Charlie = studygroup[1][2]\n",
    "    Delta = studygroup[1][3]\n",
    "\n",
    "    student_list = [Alfa, Bravo, Charlie, Delta]\n",
    "    presenter_order = []\n",
    "    proposed_solutions = []\n",
    "\n",
    "    while (Alfa.Updated_Solution != Bravo.Updated_Solution) and (Bravo.Updated_Solution != Charlie.Updated_Solution) and (Charlie.Updated_Solution != Delta.Updated_Solution) or (n_ticks != max_ticks):\n",
    "        \n",
    "        # Starting a Round\n",
    "        presenter_Name = random.choices([Alfa.Name, Bravo.Name, Charlie.Name, Delta.Name], weights = [Alfa.ExScore, Bravo.ExScore, Charlie.ExScore, Delta.ExScore], k = 1)[0] # selecting the presenter of the round based on weighted random draw from extraversion scores\n",
    "        \n",
    "        presenter_order.append(presenter_Name)\n",
    "\n",
    "        for student in student_list:\n",
    "            if student.Name == presenter_Name:\n",
    "                student.presenting = True ## the student who is presenting will propose their solution\n",
    "                Proposed_Solution = student.Updated_Solution\n",
    "                proposed_solutions.append(Proposed_Solution)\n",
    "            else:\n",
    "                pass\n",
    "        \n",
    "        for student in student_list:\n",
    "            if student.presenting == False: # looping through all students who are NOT presenting\n",
    "                for i in range(len(Proposed_Solution)): # looping through all part-exercises and evaluating against proposed solution.\n",
    "                    coin_toss = np.random.binomial(1, student.Social_Skill, 1)[0] #high social skill has a greater chance of accepting the proposal\n",
    "                    if coin_toss == 1:\n",
    "                        student.Updated_Solution[i] = Proposed_Solution[i]\n",
    "                    else:\n",
    "                        pass\n",
    "        \n",
    "\n",
    "        n_ticks = n_ticks + 1 #adding a tick to the simulation\n",
    "        for student in student_list:\n",
    "            student.presenting = False\n",
    "\n",
    "    \n",
    "    return Proposed_Solution, n_ticks, presenter_order"
   ]
  },
  {
   "cell_type": "markdown",
   "metadata": {},
   "source": [
    "# TEST RUN"
   ]
  },
  {
   "cell_type": "code",
   "execution_count": 154,
   "metadata": {},
   "outputs": [],
   "source": [
    "student_list_test = [\"ESTJ\", \"ISTJ\", \"ENTP\", \"INFJ\"]"
   ]
  },
  {
   "cell_type": "code",
   "execution_count": 155,
   "metadata": {},
   "outputs": [],
   "source": [
    "studygroup1 = StudyGroup(student_list_test)"
   ]
  },
  {
   "cell_type": "code",
   "execution_count": 156,
   "metadata": {},
   "outputs": [
    {
     "name": "stdout",
     "output_type": "stream",
     "text": [
      "        Name  type       E/I       S/N       T/F       J/P  Academic    Social\n",
      "0     Alfa  ESTJ  0.580759  0.595045  0.773134  0.850952  0.403962  0.577720\n",
      "1    Bravo  ISTJ  0.470443  0.584022  0.819599  0.650413  0.493822  0.557658\n",
      "2  Charlie  ENTP  0.705643  0.447987  0.712129  0.364636  0.570393  0.685198\n",
      "3    Delta  INFJ  0.294400  0.170361  0.437365  0.778340  0.550185  0.383539\n"
     ]
    }
   ],
   "source": [
    "print(studygroup1[0])"
   ]
  },
  {
   "cell_type": "code",
   "execution_count": 157,
   "metadata": {},
   "outputs": [],
   "source": [
    "true_solution_test = true_solution_generator(5, [1, 5])"
   ]
  },
  {
   "cell_type": "code",
   "execution_count": 158,
   "metadata": {},
   "outputs": [
    {
     "data": {
      "text/plain": [
       "[1, 5, 5, 3, 5]"
      ]
     },
     "execution_count": 158,
     "metadata": {},
     "output_type": "execute_result"
    }
   ],
   "source": [
    "true_solution_test[0]"
   ]
  },
  {
   "cell_type": "code",
   "execution_count": 159,
   "metadata": {},
   "outputs": [],
   "source": [
    "indivNameual_solutions_generator(studygroup1, true_solution_test[0], true_solution_test[1])"
   ]
  },
  {
   "cell_type": "code",
   "execution_count": 160,
   "metadata": {},
   "outputs": [
    {
     "name": "stdout",
     "output_type": "stream",
     "text": [
      "[5, 5, 4, 3, 5]\n",
      "[3, 2, 5, 3, 5]\n",
      "[3, 3, 5, 3, 5]\n",
      "[1, 5, 4, 3, 5]\n"
     ]
    }
   ],
   "source": [
    "print(studygroup1[1][0].Own_Solution)\n",
    "print(studygroup1[1][1].Own_Solution)\n",
    "print(studygroup1[1][2].Own_Solution)\n",
    "print(studygroup1[1][3].Own_Solution)"
   ]
  },
  {
   "cell_type": "code",
   "execution_count": 170,
   "metadata": {},
   "outputs": [
    {
     "name": "stdout",
     "output_type": "stream",
     "text": [
      "[1, 5, 4, 3, 5]\n",
      "[1, 5, 4, 3, 5]\n",
      "[1, 5, 4, 3, 5]\n",
      "[1, 5, 4, 3, 5]\n",
      "[1, 5, 4, 3, 5]\n",
      "[1, 5, 4, 3, 5]\n",
      "[1, 5, 4, 3, 5]\n",
      "[1, 5, 4, 3, 5]\n",
      "[1, 5, 4, 3, 5]\n",
      "[1, 5, 4, 3, 5]\n"
     ]
    },
    {
     "data": {
      "text/plain": [
       "([1, 5, 4, 3, 5],\n",
       " 10,\n",
       " ['Charlie',\n",
       "  'Delta',\n",
       "  'Bravo',\n",
       "  'Bravo',\n",
       "  'Alfa',\n",
       "  'Charlie',\n",
       "  'Bravo',\n",
       "  'Charlie',\n",
       "  'Bravo',\n",
       "  'Alfa'])"
      ]
     },
     "execution_count": 170,
     "metadata": {},
     "output_type": "execute_result"
    }
   ],
   "source": [
    "collaborative_solution(studygroup1, 10)"
   ]
  },
  {
   "cell_type": "code",
   "execution_count": null,
   "metadata": {},
   "outputs": [],
   "source": []
  }
 ],
 "metadata": {
  "interpreter": {
   "hash": "bbfd61b9771b25adb48756b02878e03699aa9c48f369525daaaa61fe69c4b1b3"
  },
  "kernelspec": {
   "display_name": "Python 3.9.7 ('methods3')",
   "language": "python",
   "name": "python3"
  },
  "language_info": {
   "codemirror_mode": {
    "name": "ipython",
    "version": 3
   },
   "file_extension": ".py",
   "mimetype": "text/x-python",
   "name": "python",
   "nbconvert_exporter": "python",
   "pygments_lexer": "ipython3",
   "version": "3.9.7"
  },
  "orig_nbformat": 4
 },
 "nbformat": 4,
 "nbformat_minor": 2
}
